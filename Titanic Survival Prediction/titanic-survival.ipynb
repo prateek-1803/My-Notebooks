{
 "cells": [
  {
   "cell_type": "code",
   "execution_count": 1,
   "id": "f348393a",
   "metadata": {
    "_cell_guid": "b1076dfc-b9ad-4769-8c92-a6c4dae69d19",
    "_uuid": "8f2839f25d086af736a60e9eeb907d3b93b6e0e5",
    "execution": {
     "iopub.execute_input": "2022-08-13T08:30:36.457313Z",
     "iopub.status.busy": "2022-08-13T08:30:36.456527Z",
     "iopub.status.idle": "2022-08-13T08:30:37.935945Z",
     "shell.execute_reply": "2022-08-13T08:30:37.934665Z"
    },
    "papermill": {
     "duration": 1.494242,
     "end_time": "2022-08-13T08:30:37.939498",
     "exception": false,
     "start_time": "2022-08-13T08:30:36.445256",
     "status": "completed"
    },
    "tags": []
   },
   "outputs": [],
   "source": [
    "#importing required libraries\n",
    "import numpy as np # linear algebra\n",
    "import pandas as pd # data processing, CSV file I/O (e.g. pd.read_csv)\n",
    "from sklearn.model_selection import train_test_split\n",
    "from sklearn.tree import DecisionTreeClassifier\n",
    "import sklearn.metrics as metrics\n",
    "from sklearn.metrics import classification_report\n",
    "from sklearn.ensemble import RandomForestClassifier\n",
    "import seaborn as sns\n",
    "import matplotlib.pyplot as plt"
   ]
  },
  {
   "cell_type": "code",
   "execution_count": 2,
   "id": "5cd7af03",
   "metadata": {
    "execution": {
     "iopub.execute_input": "2022-08-13T08:30:37.961036Z",
     "iopub.status.busy": "2022-08-13T08:30:37.960141Z",
     "iopub.status.idle": "2022-08-13T08:30:37.980236Z",
     "shell.execute_reply": "2022-08-13T08:30:37.979255Z"
    },
    "papermill": {
     "duration": 0.035518,
     "end_time": "2022-08-13T08:30:37.983273",
     "exception": false,
     "start_time": "2022-08-13T08:30:37.947755",
     "status": "completed"
    },
    "tags": []
   },
   "outputs": [],
   "source": [
    "#reading training data\n",
    "train = pd.read_csv(\"/kaggle/input/titanic/train.csv\")"
   ]
  },
  {
   "cell_type": "code",
   "execution_count": 3,
   "id": "50ef57d2",
   "metadata": {
    "execution": {
     "iopub.execute_input": "2022-08-13T08:30:38.003583Z",
     "iopub.status.busy": "2022-08-13T08:30:38.003160Z",
     "iopub.status.idle": "2022-08-13T08:30:38.034675Z",
     "shell.execute_reply": "2022-08-13T08:30:38.033492Z"
    },
    "papermill": {
     "duration": 0.043852,
     "end_time": "2022-08-13T08:30:38.037936",
     "exception": false,
     "start_time": "2022-08-13T08:30:37.994084",
     "status": "completed"
    },
    "tags": []
   },
   "outputs": [
    {
     "data": {
      "text/html": [
       "<div>\n",
       "<style scoped>\n",
       "    .dataframe tbody tr th:only-of-type {\n",
       "        vertical-align: middle;\n",
       "    }\n",
       "\n",
       "    .dataframe tbody tr th {\n",
       "        vertical-align: top;\n",
       "    }\n",
       "\n",
       "    .dataframe thead th {\n",
       "        text-align: right;\n",
       "    }\n",
       "</style>\n",
       "<table border=\"1\" class=\"dataframe\">\n",
       "  <thead>\n",
       "    <tr style=\"text-align: right;\">\n",
       "      <th></th>\n",
       "      <th>PassengerId</th>\n",
       "      <th>Survived</th>\n",
       "      <th>Pclass</th>\n",
       "      <th>Name</th>\n",
       "      <th>Sex</th>\n",
       "      <th>Age</th>\n",
       "      <th>SibSp</th>\n",
       "      <th>Parch</th>\n",
       "      <th>Ticket</th>\n",
       "      <th>Fare</th>\n",
       "      <th>Cabin</th>\n",
       "      <th>Embarked</th>\n",
       "    </tr>\n",
       "  </thead>\n",
       "  <tbody>\n",
       "    <tr>\n",
       "      <th>0</th>\n",
       "      <td>1</td>\n",
       "      <td>0</td>\n",
       "      <td>3</td>\n",
       "      <td>Braund, Mr. Owen Harris</td>\n",
       "      <td>male</td>\n",
       "      <td>22.0</td>\n",
       "      <td>1</td>\n",
       "      <td>0</td>\n",
       "      <td>A/5 21171</td>\n",
       "      <td>7.2500</td>\n",
       "      <td>NaN</td>\n",
       "      <td>S</td>\n",
       "    </tr>\n",
       "    <tr>\n",
       "      <th>1</th>\n",
       "      <td>2</td>\n",
       "      <td>1</td>\n",
       "      <td>1</td>\n",
       "      <td>Cumings, Mrs. John Bradley (Florence Briggs Th...</td>\n",
       "      <td>female</td>\n",
       "      <td>38.0</td>\n",
       "      <td>1</td>\n",
       "      <td>0</td>\n",
       "      <td>PC 17599</td>\n",
       "      <td>71.2833</td>\n",
       "      <td>C85</td>\n",
       "      <td>C</td>\n",
       "    </tr>\n",
       "    <tr>\n",
       "      <th>2</th>\n",
       "      <td>3</td>\n",
       "      <td>1</td>\n",
       "      <td>3</td>\n",
       "      <td>Heikkinen, Miss. Laina</td>\n",
       "      <td>female</td>\n",
       "      <td>26.0</td>\n",
       "      <td>0</td>\n",
       "      <td>0</td>\n",
       "      <td>STON/O2. 3101282</td>\n",
       "      <td>7.9250</td>\n",
       "      <td>NaN</td>\n",
       "      <td>S</td>\n",
       "    </tr>\n",
       "    <tr>\n",
       "      <th>3</th>\n",
       "      <td>4</td>\n",
       "      <td>1</td>\n",
       "      <td>1</td>\n",
       "      <td>Futrelle, Mrs. Jacques Heath (Lily May Peel)</td>\n",
       "      <td>female</td>\n",
       "      <td>35.0</td>\n",
       "      <td>1</td>\n",
       "      <td>0</td>\n",
       "      <td>113803</td>\n",
       "      <td>53.1000</td>\n",
       "      <td>C123</td>\n",
       "      <td>S</td>\n",
       "    </tr>\n",
       "    <tr>\n",
       "      <th>4</th>\n",
       "      <td>5</td>\n",
       "      <td>0</td>\n",
       "      <td>3</td>\n",
       "      <td>Allen, Mr. William Henry</td>\n",
       "      <td>male</td>\n",
       "      <td>35.0</td>\n",
       "      <td>0</td>\n",
       "      <td>0</td>\n",
       "      <td>373450</td>\n",
       "      <td>8.0500</td>\n",
       "      <td>NaN</td>\n",
       "      <td>S</td>\n",
       "    </tr>\n",
       "  </tbody>\n",
       "</table>\n",
       "</div>"
      ],
      "text/plain": [
       "   PassengerId  Survived  Pclass  \\\n",
       "0            1         0       3   \n",
       "1            2         1       1   \n",
       "2            3         1       3   \n",
       "3            4         1       1   \n",
       "4            5         0       3   \n",
       "\n",
       "                                                Name     Sex   Age  SibSp  \\\n",
       "0                            Braund, Mr. Owen Harris    male  22.0      1   \n",
       "1  Cumings, Mrs. John Bradley (Florence Briggs Th...  female  38.0      1   \n",
       "2                             Heikkinen, Miss. Laina  female  26.0      0   \n",
       "3       Futrelle, Mrs. Jacques Heath (Lily May Peel)  female  35.0      1   \n",
       "4                           Allen, Mr. William Henry    male  35.0      0   \n",
       "\n",
       "   Parch            Ticket     Fare Cabin Embarked  \n",
       "0      0         A/5 21171   7.2500   NaN        S  \n",
       "1      0          PC 17599  71.2833   C85        C  \n",
       "2      0  STON/O2. 3101282   7.9250   NaN        S  \n",
       "3      0            113803  53.1000  C123        S  \n",
       "4      0            373450   8.0500   NaN        S  "
      ]
     },
     "execution_count": 3,
     "metadata": {},
     "output_type": "execute_result"
    }
   ],
   "source": [
    "#first 5 rows\n",
    "train.head()"
   ]
  },
  {
   "cell_type": "code",
   "execution_count": 4,
   "id": "7c18fb2e",
   "metadata": {
    "execution": {
     "iopub.execute_input": "2022-08-13T08:30:38.056560Z",
     "iopub.status.busy": "2022-08-13T08:30:38.056091Z",
     "iopub.status.idle": "2022-08-13T08:30:38.067449Z",
     "shell.execute_reply": "2022-08-13T08:30:38.066423Z"
    },
    "papermill": {
     "duration": 0.023106,
     "end_time": "2022-08-13T08:30:38.069652",
     "exception": false,
     "start_time": "2022-08-13T08:30:38.046546",
     "status": "completed"
    },
    "tags": []
   },
   "outputs": [
    {
     "data": {
      "text/plain": [
       "PassengerId      0\n",
       "Survived         0\n",
       "Pclass           0\n",
       "Name             0\n",
       "Sex              0\n",
       "Age            177\n",
       "SibSp            0\n",
       "Parch            0\n",
       "Ticket           0\n",
       "Fare             0\n",
       "Cabin          687\n",
       "Embarked         2\n",
       "dtype: int64"
      ]
     },
     "execution_count": 4,
     "metadata": {},
     "output_type": "execute_result"
    }
   ],
   "source": [
    "#number of nulls in each column\n",
    "train.isna().sum()"
   ]
  },
  {
   "cell_type": "code",
   "execution_count": 5,
   "id": "bbe8b9dc",
   "metadata": {
    "execution": {
     "iopub.execute_input": "2022-08-13T08:30:38.088408Z",
     "iopub.status.busy": "2022-08-13T08:30:38.086860Z",
     "iopub.status.idle": "2022-08-13T08:30:38.098370Z",
     "shell.execute_reply": "2022-08-13T08:30:38.097297Z"
    },
    "papermill": {
     "duration": 0.02318,
     "end_time": "2022-08-13T08:30:38.100827",
     "exception": false,
     "start_time": "2022-08-13T08:30:38.077647",
     "status": "completed"
    },
    "tags": []
   },
   "outputs": [
    {
     "data": {
      "text/plain": [
       "PassengerId      int64\n",
       "Survived         int64\n",
       "Pclass           int64\n",
       "Name            object\n",
       "Sex             object\n",
       "Age            float64\n",
       "SibSp            int64\n",
       "Parch            int64\n",
       "Ticket          object\n",
       "Fare           float64\n",
       "Cabin           object\n",
       "Embarked        object\n",
       "dtype: object"
      ]
     },
     "execution_count": 5,
     "metadata": {},
     "output_type": "execute_result"
    }
   ],
   "source": [
    "#checking data type \n",
    "train.dtypes"
   ]
  },
  {
   "cell_type": "markdown",
   "id": "6fa40690",
   "metadata": {
    "papermill": {
     "duration": 0.007677,
     "end_time": "2022-08-13T08:30:38.116563",
     "exception": false,
     "start_time": "2022-08-13T08:30:38.108886",
     "status": "completed"
    },
    "tags": []
   },
   "source": [
    "## Visualization"
   ]
  },
  {
   "cell_type": "code",
   "execution_count": 6,
   "id": "fbb1ea5c",
   "metadata": {
    "execution": {
     "iopub.execute_input": "2022-08-13T08:30:38.134602Z",
     "iopub.status.busy": "2022-08-13T08:30:38.133929Z",
     "iopub.status.idle": "2022-08-13T08:30:38.414604Z",
     "shell.execute_reply": "2022-08-13T08:30:38.413017Z"
    },
    "papermill": {
     "duration": 0.293581,
     "end_time": "2022-08-13T08:30:38.418058",
     "exception": false,
     "start_time": "2022-08-13T08:30:38.124477",
     "status": "completed"
    },
    "tags": []
   },
   "outputs": [
    {
     "data": {
      "text/plain": [
       "<AxesSubplot:xlabel='Survived', ylabel='Count'>"
      ]
     },
     "execution_count": 6,
     "metadata": {},
     "output_type": "execute_result"
    },
    {
     "data": {
      "image/png": "[encoded data removed]",
      "text/plain": [
       "<Figure size 432x288 with 1 Axes>"
      ]
     },
     "metadata": {
      "needs_background": "light"
     },
     "output_type": "display_data"
    }
   ],
   "source": [
    "sns.histplot(data = train, x=\"Survived\",color='r')"
   ]
  },
  {
   "cell_type": "code",
   "execution_count": 7,
   "id": "1a4f8a40",
   "metadata": {
    "execution": {
     "iopub.execute_input": "2022-08-13T08:30:38.439342Z",
     "iopub.status.busy": "2022-08-13T08:30:38.438436Z",
     "iopub.status.idle": "2022-08-13T08:30:38.672110Z",
     "shell.execute_reply": "2022-08-13T08:30:38.671269Z"
    },
    "papermill": {
     "duration": 0.246273,
     "end_time": "2022-08-13T08:30:38.674577",
     "exception": false,
     "start_time": "2022-08-13T08:30:38.428304",
     "status": "completed"
    },
    "tags": []
   },
   "outputs": [
    {
     "data": {
      "text/plain": [
       "<AxesSubplot:xlabel='Survived', ylabel='Age'>"
      ]
     },
     "execution_count": 7,
     "metadata": {},
     "output_type": "execute_result"
    },
    {
     "data": {
      "image/png": "[encoded data removed]",
      "text/plain": [
       "<Figure size 432x288 with 1 Axes>"
      ]
     },
     "metadata": {
      "needs_background": "light"
     },
     "output_type": "display_data"
    }
   ],
   "source": [
    "#Target variables quantitatives\n",
    "sns.barplot(data = train, x=\"Survived\", y=\"Age\")"
   ]
  },
  {
   "cell_type": "code",
   "execution_count": 8,
   "id": "3b9d17c3",
   "metadata": {
    "execution": {
     "iopub.execute_input": "2022-08-13T08:30:38.694267Z",
     "iopub.status.busy": "2022-08-13T08:30:38.693197Z",
     "iopub.status.idle": "2022-08-13T08:30:38.895703Z",
     "shell.execute_reply": "2022-08-13T08:30:38.894545Z"
    },
    "papermill": {
     "duration": 0.215058,
     "end_time": "2022-08-13T08:30:38.898300",
     "exception": false,
     "start_time": "2022-08-13T08:30:38.683242",
     "status": "completed"
    },
    "tags": []
   },
   "outputs": [
    {
     "data": {
      "text/plain": [
       "<AxesSubplot:xlabel='Survived', ylabel='Age'>"
      ]
     },
     "execution_count": 8,
     "metadata": {},
     "output_type": "execute_result"
    },
    {
     "data": {
      "image/png": "[encoded data removed]",
      "text/plain": [
       "<Figure size 432x288 with 1 Axes>"
      ]
     },
     "metadata": {
      "needs_background": "light"
     },
     "output_type": "display_data"
    }
   ],
   "source": [
    "sns.boxplot(data = train, y=\"Age\", x=\"Survived\")"
   ]
  },
  {
   "cell_type": "code",
   "execution_count": 9,
   "id": "49f3c75d",
   "metadata": {
    "execution": {
     "iopub.execute_input": "2022-08-13T08:30:38.919173Z",
     "iopub.status.busy": "2022-08-13T08:30:38.918204Z",
     "iopub.status.idle": "2022-08-13T08:30:39.148659Z",
     "shell.execute_reply": "2022-08-13T08:30:39.147417Z"
    },
    "papermill": {
     "duration": 0.24324,
     "end_time": "2022-08-13T08:30:39.151313",
     "exception": false,
     "start_time": "2022-08-13T08:30:38.908073",
     "status": "completed"
    },
    "tags": []
   },
   "outputs": [
    {
     "data": {
      "text/plain": [
       "<AxesSubplot:xlabel='Survived', ylabel='Fare'>"
      ]
     },
     "execution_count": 9,
     "metadata": {},
     "output_type": "execute_result"
    },
    {
     "data": {
      "image/png": "[encoded data removed]",
      "text/plain": [
       "<Figure size 432x288 with 1 Axes>"
      ]
     },
     "metadata": {
      "needs_background": "light"
     },
     "output_type": "display_data"
    }
   ],
   "source": [
    "sns.barplot(data = train, x=\"Survived\", y=\"Fare\")"
   ]
  },
  {
   "cell_type": "code",
   "execution_count": 10,
   "id": "65af9afb",
   "metadata": {
    "execution": {
     "iopub.execute_input": "2022-08-13T08:30:39.172254Z",
     "iopub.status.busy": "2022-08-13T08:30:39.171273Z",
     "iopub.status.idle": "2022-08-13T08:30:39.370954Z",
     "shell.execute_reply": "2022-08-13T08:30:39.369994Z"
    },
    "papermill": {
     "duration": 0.213132,
     "end_time": "2022-08-13T08:30:39.373726",
     "exception": false,
     "start_time": "2022-08-13T08:30:39.160594",
     "status": "completed"
    },
    "tags": []
   },
   "outputs": [
    {
     "data": {
      "text/plain": [
       "<AxesSubplot:xlabel='Survived', ylabel='Fare'>"
      ]
     },
     "execution_count": 10,
     "metadata": {},
     "output_type": "execute_result"
    },
    {
     "data": {
      "image/png": "[encoded data removed]",
      "text/plain": [
       "<Figure size 432x288 with 1 Axes>"
      ]
     },
     "metadata": {
      "needs_background": "light"
     },
     "output_type": "display_data"
    }
   ],
   "source": [
    "sns.boxplot(data = train, y=\"Fare\", x=\"Survived\")"
   ]
  },
  {
   "cell_type": "code",
   "execution_count": 11,
   "id": "55205500",
   "metadata": {
    "execution": {
     "iopub.execute_input": "2022-08-13T08:30:39.394922Z",
     "iopub.status.busy": "2022-08-13T08:30:39.394514Z",
     "iopub.status.idle": "2022-08-13T08:30:39.400395Z",
     "shell.execute_reply": "2022-08-13T08:30:39.399316Z"
    },
    "papermill": {
     "duration": 0.019423,
     "end_time": "2022-08-13T08:30:39.402700",
     "exception": false,
     "start_time": "2022-08-13T08:30:39.383277",
     "status": "completed"
    },
    "tags": []
   },
   "outputs": [],
   "source": [
    "#select columns to be used in training\n",
    "colunas = ['Pclass','SibSp','Parch','Fare']\n",
    "X = train[colunas]\n",
    "y = train.Survived"
   ]
  },
  {
   "cell_type": "code",
   "execution_count": 12,
   "id": "aee1a13d",
   "metadata": {
    "execution": {
     "iopub.execute_input": "2022-08-13T08:30:39.424126Z",
     "iopub.status.busy": "2022-08-13T08:30:39.423022Z",
     "iopub.status.idle": "2022-08-13T08:30:39.429731Z",
     "shell.execute_reply": "2022-08-13T08:30:39.428922Z"
    },
    "papermill": {
     "duration": 0.019525,
     "end_time": "2022-08-13T08:30:39.431932",
     "exception": false,
     "start_time": "2022-08-13T08:30:39.412407",
     "status": "completed"
    },
    "tags": []
   },
   "outputs": [],
   "source": [
    "#there is a need for pre-processing in the other fields\n",
    "#split dataset into trainig and testing data from training data\n",
    "train_X, val_X, train_y, val_y = train_test_split(X,y,random_state = 0)"
   ]
  },
  {
   "cell_type": "code",
   "execution_count": 13,
   "id": "e97d1b34",
   "metadata": {
    "execution": {
     "iopub.execute_input": "2022-08-13T08:30:39.455362Z",
     "iopub.status.busy": "2022-08-13T08:30:39.454915Z",
     "iopub.status.idle": "2022-08-13T08:30:39.470202Z",
     "shell.execute_reply": "2022-08-13T08:30:39.468721Z"
    },
    "papermill": {
     "duration": 0.02899,
     "end_time": "2022-08-13T08:30:39.472942",
     "exception": false,
     "start_time": "2022-08-13T08:30:39.443952",
     "status": "completed"
    },
    "tags": []
   },
   "outputs": [
    {
     "data": {
      "text/plain": [
       "DecisionTreeClassifier(random_state=1)"
      ]
     },
     "execution_count": 13,
     "metadata": {},
     "output_type": "execute_result"
    }
   ],
   "source": [
    "model = DecisionTreeClassifier(random_state=1)\n",
    "model.fit(train_X,train_y)"
   ]
  },
  {
   "cell_type": "code",
   "execution_count": 14,
   "id": "54e2dabb",
   "metadata": {
    "execution": {
     "iopub.execute_input": "2022-08-13T08:30:39.495926Z",
     "iopub.status.busy": "2022-08-13T08:30:39.494988Z",
     "iopub.status.idle": "2022-08-13T08:30:39.503232Z",
     "shell.execute_reply": "2022-08-13T08:30:39.502047Z"
    },
    "papermill": {
     "duration": 0.0234,
     "end_time": "2022-08-13T08:30:39.506484",
     "exception": false,
     "start_time": "2022-08-13T08:30:39.483084",
     "status": "completed"
    },
    "tags": []
   },
   "outputs": [],
   "source": [
    "#testing on test data\n",
    "prediction = model.predict(val_X)"
   ]
  },
  {
   "cell_type": "code",
   "execution_count": 15,
   "id": "e8f72614",
   "metadata": {
    "execution": {
     "iopub.execute_input": "2022-08-13T08:30:39.535570Z",
     "iopub.status.busy": "2022-08-13T08:30:39.534474Z",
     "iopub.status.idle": "2022-08-13T08:30:39.543984Z",
     "shell.execute_reply": "2022-08-13T08:30:39.542592Z"
    },
    "papermill": {
     "duration": 0.025477,
     "end_time": "2022-08-13T08:30:39.547855",
     "exception": false,
     "start_time": "2022-08-13T08:30:39.522378",
     "status": "completed"
    },
    "tags": []
   },
   "outputs": [
    {
     "data": {
      "text/plain": [
       "array([0, 0, 0, 1, 1, 1, 1, 1, 1, 0, 1, 0, 0, 1, 1, 0, 0, 1, 0, 0, 0, 1,\n",
       "       0, 1, 1, 1, 0, 0, 1, 0, 0, 0, 0, 0, 0, 1, 0, 0, 0, 1, 1, 0, 0, 0,\n",
       "       1, 0, 0, 1, 0, 1, 1, 0, 1, 0, 1, 0, 1, 0, 0, 1, 0, 0, 1, 0, 1, 0,\n",
       "       1, 1, 1, 1, 1, 1, 1, 0, 0, 0, 1, 0, 0, 0, 1, 1, 1, 0, 0, 1, 0, 0,\n",
       "       0, 1, 0, 0, 1, 1, 0, 0, 1, 0, 1, 1, 0, 1, 0, 0, 0, 0, 0, 0, 1, 0,\n",
       "       0, 1, 1, 0, 1, 0, 0, 0, 0, 0, 1, 0, 0, 0, 0, 1, 0, 0, 0, 1, 0, 0,\n",
       "       0, 1, 0, 0, 0, 0, 1, 0, 0, 1, 0, 0, 0, 0, 0, 1, 0, 0, 1, 1, 0, 0,\n",
       "       1, 0, 0, 0, 0, 1, 0, 0, 0, 0, 0, 0, 0, 0, 0, 0, 0, 0, 0, 0, 0, 0,\n",
       "       1, 0, 0, 1, 0, 1, 0, 0, 0, 0, 1, 0, 0, 0, 1, 1, 0, 0, 0, 0, 0, 1,\n",
       "       1, 0, 0, 0, 0, 1, 0, 1, 0, 0, 0, 0, 0, 0, 0, 1, 1, 0, 1, 0, 0, 1,\n",
       "       0, 1, 1])"
      ]
     },
     "execution_count": 15,
     "metadata": {},
     "output_type": "execute_result"
    }
   ],
   "source": [
    "prediction"
   ]
  },
  {
   "cell_type": "code",
   "execution_count": 16,
   "id": "d7e0a477",
   "metadata": {
    "execution": {
     "iopub.execute_input": "2022-08-13T08:30:39.577520Z",
     "iopub.status.busy": "2022-08-13T08:30:39.576714Z",
     "iopub.status.idle": "2022-08-13T08:30:39.583966Z",
     "shell.execute_reply": "2022-08-13T08:30:39.583009Z"
    },
    "papermill": {
     "duration": 0.025194,
     "end_time": "2022-08-13T08:30:39.586069",
     "exception": false,
     "start_time": "2022-08-13T08:30:39.560875",
     "status": "completed"
    },
    "tags": []
   },
   "outputs": [
    {
     "data": {
      "text/plain": [
       "0.7130044843049327"
      ]
     },
     "execution_count": 16,
     "metadata": {},
     "output_type": "execute_result"
    }
   ],
   "source": [
    "metrics.accuracy_score(val_y, prediction)"
   ]
  },
  {
   "cell_type": "code",
   "execution_count": 17,
   "id": "3efc751d",
   "metadata": {
    "execution": {
     "iopub.execute_input": "2022-08-13T08:30:39.608429Z",
     "iopub.status.busy": "2022-08-13T08:30:39.607536Z",
     "iopub.status.idle": "2022-08-13T08:30:39.618382Z",
     "shell.execute_reply": "2022-08-13T08:30:39.616751Z"
    },
    "papermill": {
     "duration": 0.024315,
     "end_time": "2022-08-13T08:30:39.620791",
     "exception": false,
     "start_time": "2022-08-13T08:30:39.596476",
     "status": "completed"
    },
    "tags": []
   },
   "outputs": [
    {
     "name": "stdout",
     "output_type": "stream",
     "text": [
      "              precision    recall  f1-score   support\n",
      "\n",
      "           0       0.76      0.79      0.77       139\n",
      "           1       0.63      0.58      0.60        84\n",
      "\n",
      "    accuracy                           0.71       223\n",
      "   macro avg       0.69      0.69      0.69       223\n",
      "weighted avg       0.71      0.71      0.71       223\n",
      "\n"
     ]
    }
   ],
   "source": [
    "print(classification_report(val_y,prediction))"
   ]
  },
  {
   "cell_type": "markdown",
   "id": "2fb0a146",
   "metadata": {
    "papermill": {
     "duration": 0.009557,
     "end_time": "2022-08-13T08:30:39.640652",
     "exception": false,
     "start_time": "2022-08-13T08:30:39.631095",
     "status": "completed"
    },
    "tags": []
   },
   "source": [
    "**Predict the test suite and send it to the scoreboard**"
   ]
  },
  {
   "cell_type": "code",
   "execution_count": 18,
   "id": "e31ef180",
   "metadata": {
    "execution": {
     "iopub.execute_input": "2022-08-13T08:30:39.662674Z",
     "iopub.status.busy": "2022-08-13T08:30:39.661881Z",
     "iopub.status.idle": "2022-08-13T08:30:39.693691Z",
     "shell.execute_reply": "2022-08-13T08:30:39.692684Z"
    },
    "papermill": {
     "duration": 0.045372,
     "end_time": "2022-08-13T08:30:39.695963",
     "exception": false,
     "start_time": "2022-08-13T08:30:39.650591",
     "status": "completed"
    },
    "tags": []
   },
   "outputs": [
    {
     "data": {
      "text/html": [
       "<div>\n",
       "<style scoped>\n",
       "    .dataframe tbody tr th:only-of-type {\n",
       "        vertical-align: middle;\n",
       "    }\n",
       "\n",
       "    .dataframe tbody tr th {\n",
       "        vertical-align: top;\n",
       "    }\n",
       "\n",
       "    .dataframe thead th {\n",
       "        text-align: right;\n",
       "    }\n",
       "</style>\n",
       "<table border=\"1\" class=\"dataframe\">\n",
       "  <thead>\n",
       "    <tr style=\"text-align: right;\">\n",
       "      <th></th>\n",
       "      <th>PassengerId</th>\n",
       "      <th>Pclass</th>\n",
       "      <th>Name</th>\n",
       "      <th>Sex</th>\n",
       "      <th>Age</th>\n",
       "      <th>SibSp</th>\n",
       "      <th>Parch</th>\n",
       "      <th>Ticket</th>\n",
       "      <th>Fare</th>\n",
       "      <th>Cabin</th>\n",
       "      <th>Embarked</th>\n",
       "    </tr>\n",
       "  </thead>\n",
       "  <tbody>\n",
       "    <tr>\n",
       "      <th>0</th>\n",
       "      <td>892</td>\n",
       "      <td>3</td>\n",
       "      <td>Kelly, Mr. James</td>\n",
       "      <td>male</td>\n",
       "      <td>34.5</td>\n",
       "      <td>0</td>\n",
       "      <td>0</td>\n",
       "      <td>330911</td>\n",
       "      <td>7.8292</td>\n",
       "      <td>NaN</td>\n",
       "      <td>Q</td>\n",
       "    </tr>\n",
       "    <tr>\n",
       "      <th>1</th>\n",
       "      <td>893</td>\n",
       "      <td>3</td>\n",
       "      <td>Wilkes, Mrs. James (Ellen Needs)</td>\n",
       "      <td>female</td>\n",
       "      <td>47.0</td>\n",
       "      <td>1</td>\n",
       "      <td>0</td>\n",
       "      <td>363272</td>\n",
       "      <td>7.0000</td>\n",
       "      <td>NaN</td>\n",
       "      <td>S</td>\n",
       "    </tr>\n",
       "    <tr>\n",
       "      <th>2</th>\n",
       "      <td>894</td>\n",
       "      <td>2</td>\n",
       "      <td>Myles, Mr. Thomas Francis</td>\n",
       "      <td>male</td>\n",
       "      <td>62.0</td>\n",
       "      <td>0</td>\n",
       "      <td>0</td>\n",
       "      <td>240276</td>\n",
       "      <td>9.6875</td>\n",
       "      <td>NaN</td>\n",
       "      <td>Q</td>\n",
       "    </tr>\n",
       "    <tr>\n",
       "      <th>3</th>\n",
       "      <td>895</td>\n",
       "      <td>3</td>\n",
       "      <td>Wirz, Mr. Albert</td>\n",
       "      <td>male</td>\n",
       "      <td>27.0</td>\n",
       "      <td>0</td>\n",
       "      <td>0</td>\n",
       "      <td>315154</td>\n",
       "      <td>8.6625</td>\n",
       "      <td>NaN</td>\n",
       "      <td>S</td>\n",
       "    </tr>\n",
       "    <tr>\n",
       "      <th>4</th>\n",
       "      <td>896</td>\n",
       "      <td>3</td>\n",
       "      <td>Hirvonen, Mrs. Alexander (Helga E Lindqvist)</td>\n",
       "      <td>female</td>\n",
       "      <td>22.0</td>\n",
       "      <td>1</td>\n",
       "      <td>1</td>\n",
       "      <td>3101298</td>\n",
       "      <td>12.2875</td>\n",
       "      <td>NaN</td>\n",
       "      <td>S</td>\n",
       "    </tr>\n",
       "  </tbody>\n",
       "</table>\n",
       "</div>"
      ],
      "text/plain": [
       "   PassengerId  Pclass                                          Name     Sex  \\\n",
       "0          892       3                              Kelly, Mr. James    male   \n",
       "1          893       3              Wilkes, Mrs. James (Ellen Needs)  female   \n",
       "2          894       2                     Myles, Mr. Thomas Francis    male   \n",
       "3          895       3                              Wirz, Mr. Albert    male   \n",
       "4          896       3  Hirvonen, Mrs. Alexander (Helga E Lindqvist)  female   \n",
       "\n",
       "    Age  SibSp  Parch   Ticket     Fare Cabin Embarked  \n",
       "0  34.5      0      0   330911   7.8292   NaN        Q  \n",
       "1  47.0      1      0   363272   7.0000   NaN        S  \n",
       "2  62.0      0      0   240276   9.6875   NaN        Q  \n",
       "3  27.0      0      0   315154   8.6625   NaN        S  \n",
       "4  22.0      1      1  3101298  12.2875   NaN        S  "
      ]
     },
     "execution_count": 18,
     "metadata": {},
     "output_type": "execute_result"
    }
   ],
   "source": [
    "test_data = pd.read_csv(\"/kaggle/input/titanic/test.csv\")\n",
    "test_data.head()"
   ]
  },
  {
   "cell_type": "code",
   "execution_count": 19,
   "id": "1bb81909",
   "metadata": {
    "execution": {
     "iopub.execute_input": "2022-08-13T08:30:39.718471Z",
     "iopub.status.busy": "2022-08-13T08:30:39.717720Z",
     "iopub.status.idle": "2022-08-13T08:30:39.732158Z",
     "shell.execute_reply": "2022-08-13T08:30:39.731274Z"
    },
    "papermill": {
     "duration": 0.028216,
     "end_time": "2022-08-13T08:30:39.734392",
     "exception": false,
     "start_time": "2022-08-13T08:30:39.706176",
     "status": "completed"
    },
    "tags": []
   },
   "outputs": [
    {
     "data": {
      "text/html": [
       "<div>\n",
       "<style scoped>\n",
       "    .dataframe tbody tr th:only-of-type {\n",
       "        vertical-align: middle;\n",
       "    }\n",
       "\n",
       "    .dataframe tbody tr th {\n",
       "        vertical-align: top;\n",
       "    }\n",
       "\n",
       "    .dataframe thead th {\n",
       "        text-align: right;\n",
       "    }\n",
       "</style>\n",
       "<table border=\"1\" class=\"dataframe\">\n",
       "  <thead>\n",
       "    <tr style=\"text-align: right;\">\n",
       "      <th></th>\n",
       "      <th>Pclass</th>\n",
       "      <th>SibSp</th>\n",
       "      <th>Parch</th>\n",
       "      <th>Fare</th>\n",
       "    </tr>\n",
       "  </thead>\n",
       "  <tbody>\n",
       "    <tr>\n",
       "      <th>0</th>\n",
       "      <td>3</td>\n",
       "      <td>0</td>\n",
       "      <td>0</td>\n",
       "      <td>7.8292</td>\n",
       "    </tr>\n",
       "    <tr>\n",
       "      <th>1</th>\n",
       "      <td>3</td>\n",
       "      <td>1</td>\n",
       "      <td>0</td>\n",
       "      <td>7.0000</td>\n",
       "    </tr>\n",
       "    <tr>\n",
       "      <th>2</th>\n",
       "      <td>2</td>\n",
       "      <td>0</td>\n",
       "      <td>0</td>\n",
       "      <td>9.6875</td>\n",
       "    </tr>\n",
       "    <tr>\n",
       "      <th>3</th>\n",
       "      <td>3</td>\n",
       "      <td>0</td>\n",
       "      <td>0</td>\n",
       "      <td>8.6625</td>\n",
       "    </tr>\n",
       "    <tr>\n",
       "      <th>4</th>\n",
       "      <td>3</td>\n",
       "      <td>1</td>\n",
       "      <td>1</td>\n",
       "      <td>12.2875</td>\n",
       "    </tr>\n",
       "    <tr>\n",
       "      <th>...</th>\n",
       "      <td>...</td>\n",
       "      <td>...</td>\n",
       "      <td>...</td>\n",
       "      <td>...</td>\n",
       "    </tr>\n",
       "    <tr>\n",
       "      <th>413</th>\n",
       "      <td>3</td>\n",
       "      <td>0</td>\n",
       "      <td>0</td>\n",
       "      <td>8.0500</td>\n",
       "    </tr>\n",
       "    <tr>\n",
       "      <th>414</th>\n",
       "      <td>1</td>\n",
       "      <td>0</td>\n",
       "      <td>0</td>\n",
       "      <td>108.9000</td>\n",
       "    </tr>\n",
       "    <tr>\n",
       "      <th>415</th>\n",
       "      <td>3</td>\n",
       "      <td>0</td>\n",
       "      <td>0</td>\n",
       "      <td>7.2500</td>\n",
       "    </tr>\n",
       "    <tr>\n",
       "      <th>416</th>\n",
       "      <td>3</td>\n",
       "      <td>0</td>\n",
       "      <td>0</td>\n",
       "      <td>8.0500</td>\n",
       "    </tr>\n",
       "    <tr>\n",
       "      <th>417</th>\n",
       "      <td>3</td>\n",
       "      <td>1</td>\n",
       "      <td>1</td>\n",
       "      <td>22.3583</td>\n",
       "    </tr>\n",
       "  </tbody>\n",
       "</table>\n",
       "<p>418 rows × 4 columns</p>\n",
       "</div>"
      ],
      "text/plain": [
       "     Pclass  SibSp  Parch      Fare\n",
       "0         3      0      0    7.8292\n",
       "1         3      1      0    7.0000\n",
       "2         2      0      0    9.6875\n",
       "3         3      0      0    8.6625\n",
       "4         3      1      1   12.2875\n",
       "..      ...    ...    ...       ...\n",
       "413       3      0      0    8.0500\n",
       "414       1      0      0  108.9000\n",
       "415       3      0      0    7.2500\n",
       "416       3      0      0    8.0500\n",
       "417       3      1      1   22.3583\n",
       "\n",
       "[418 rows x 4 columns]"
      ]
     },
     "execution_count": 19,
     "metadata": {},
     "output_type": "execute_result"
    }
   ],
   "source": [
    "test = test_data[colunas]\n",
    "test"
   ]
  },
  {
   "cell_type": "code",
   "execution_count": 20,
   "id": "52a3c7be",
   "metadata": {
    "execution": {
     "iopub.execute_input": "2022-08-13T08:30:39.757912Z",
     "iopub.status.busy": "2022-08-13T08:30:39.757149Z",
     "iopub.status.idle": "2022-08-13T08:30:39.765438Z",
     "shell.execute_reply": "2022-08-13T08:30:39.764547Z"
    },
    "papermill": {
     "duration": 0.022724,
     "end_time": "2022-08-13T08:30:39.767726",
     "exception": false,
     "start_time": "2022-08-13T08:30:39.745002",
     "status": "completed"
    },
    "tags": []
   },
   "outputs": [
    {
     "data": {
      "text/plain": [
       "Pclass    0\n",
       "SibSp     0\n",
       "Parch     0\n",
       "Fare      1\n",
       "dtype: int64"
      ]
     },
     "execution_count": 20,
     "metadata": {},
     "output_type": "execute_result"
    }
   ],
   "source": [
    "test.isna().sum()"
   ]
  },
  {
   "cell_type": "code",
   "execution_count": 21,
   "id": "26078587",
   "metadata": {
    "execution": {
     "iopub.execute_input": "2022-08-13T08:30:39.790572Z",
     "iopub.status.busy": "2022-08-13T08:30:39.789813Z",
     "iopub.status.idle": "2022-08-13T08:30:39.801550Z",
     "shell.execute_reply": "2022-08-13T08:30:39.800424Z"
    },
    "papermill": {
     "duration": 0.026046,
     "end_time": "2022-08-13T08:30:39.804192",
     "exception": false,
     "start_time": "2022-08-13T08:30:39.778146",
     "status": "completed"
    },
    "tags": []
   },
   "outputs": [
    {
     "name": "stderr",
     "output_type": "stream",
     "text": [
      "/opt/conda/lib/python3.7/site-packages/pandas/core/frame.py:5182: SettingWithCopyWarning: \n",
      "A value is trying to be set on a copy of a slice from a DataFrame\n",
      "\n",
      "See the caveats in the documentation: https://pandas.pydata.org/pandas-docs/stable/user_guide/indexing.html#returning-a-view-versus-a-copy\n",
      "  downcast=downcast,\n"
     ]
    }
   ],
   "source": [
    "#fill the null values with the median\n",
    "mid = test.Fare.median()\n",
    "test.fillna(mid,inplace=True)"
   ]
  },
  {
   "cell_type": "code",
   "execution_count": 22,
   "id": "649b36d6",
   "metadata": {
    "execution": {
     "iopub.execute_input": "2022-08-13T08:30:39.827608Z",
     "iopub.status.busy": "2022-08-13T08:30:39.827206Z",
     "iopub.status.idle": "2022-08-13T08:30:39.836230Z",
     "shell.execute_reply": "2022-08-13T08:30:39.835326Z"
    },
    "papermill": {
     "duration": 0.023677,
     "end_time": "2022-08-13T08:30:39.838402",
     "exception": false,
     "start_time": "2022-08-13T08:30:39.814725",
     "status": "completed"
    },
    "tags": []
   },
   "outputs": [
    {
     "data": {
      "text/plain": [
       "Pclass    0\n",
       "SibSp     0\n",
       "Parch     0\n",
       "Fare      0\n",
       "dtype: int64"
      ]
     },
     "execution_count": 22,
     "metadata": {},
     "output_type": "execute_result"
    }
   ],
   "source": [
    "test.isna().sum()"
   ]
  },
  {
   "cell_type": "code",
   "execution_count": 23,
   "id": "19948d08",
   "metadata": {
    "execution": {
     "iopub.execute_input": "2022-08-13T08:30:39.861544Z",
     "iopub.status.busy": "2022-08-13T08:30:39.861076Z",
     "iopub.status.idle": "2022-08-13T08:30:39.868496Z",
     "shell.execute_reply": "2022-08-13T08:30:39.867159Z"
    },
    "papermill": {
     "duration": 0.021837,
     "end_time": "2022-08-13T08:30:39.870878",
     "exception": false,
     "start_time": "2022-08-13T08:30:39.849041",
     "status": "completed"
    },
    "tags": []
   },
   "outputs": [
    {
     "name": "stdout",
     "output_type": "stream",
     "text": [
      "survivors over 60 years: 0.2692307692307692\n"
     ]
    }
   ],
   "source": [
    "idade=train.loc[train.Age>=60][\"Survived\"]\n",
    "rate_idade=sum(idade)/len(idade)\n",
    "print(\"survivors over 60 years:\", rate_idade)"
   ]
  },
  {
   "cell_type": "code",
   "execution_count": 24,
   "id": "ffd3e974",
   "metadata": {
    "execution": {
     "iopub.execute_input": "2022-08-13T08:30:39.894595Z",
     "iopub.status.busy": "2022-08-13T08:30:39.893393Z",
     "iopub.status.idle": "2022-08-13T08:30:39.900825Z",
     "shell.execute_reply": "2022-08-13T08:30:39.899883Z"
    },
    "papermill": {
     "duration": 0.021556,
     "end_time": "2022-08-13T08:30:39.903107",
     "exception": false,
     "start_time": "2022-08-13T08:30:39.881551",
     "status": "completed"
    },
    "tags": []
   },
   "outputs": [],
   "source": [
    "predictions = model.predict(test)"
   ]
  },
  {
   "cell_type": "code",
   "execution_count": 25,
   "id": "541d1ef7",
   "metadata": {
    "execution": {
     "iopub.execute_input": "2022-08-13T08:30:39.927944Z",
     "iopub.status.busy": "2022-08-13T08:30:39.927150Z",
     "iopub.status.idle": "2022-08-13T08:30:39.936885Z",
     "shell.execute_reply": "2022-08-13T08:30:39.935611Z"
    },
    "papermill": {
     "duration": 0.024986,
     "end_time": "2022-08-13T08:30:39.939473",
     "exception": false,
     "start_time": "2022-08-13T08:30:39.914487",
     "status": "completed"
    },
    "tags": []
   },
   "outputs": [],
   "source": [
    "#saving output in submission.csv\n",
    "output = pd.DataFrame({'PassengerId': test_data.PassengerId,\n",
    "                       'Survived': predictions})\n",
    "output.to_csv('submission.csv', index=False)"
   ]
  },
  {
   "cell_type": "code",
   "execution_count": 26,
   "id": "c2f1e3f1",
   "metadata": {
    "execution": {
     "iopub.execute_input": "2022-08-13T08:30:39.963467Z",
     "iopub.status.busy": "2022-08-13T08:30:39.962684Z",
     "iopub.status.idle": "2022-08-13T08:30:39.970494Z",
     "shell.execute_reply": "2022-08-13T08:30:39.968803Z"
    },
    "papermill": {
     "duration": 0.022473,
     "end_time": "2022-08-13T08:30:39.972994",
     "exception": false,
     "start_time": "2022-08-13T08:30:39.950521",
     "status": "completed"
    },
    "tags": []
   },
   "outputs": [
    {
     "name": "stdout",
     "output_type": "stream",
     "text": [
      "survivors over 60 years: 0.2692307692307692\n"
     ]
    }
   ],
   "source": [
    "age=train.loc[train.Age>=60][\"Survived\"]\n",
    "rate_age=sum(age)/len(age)\n",
    "print(\"survivors over 60 years:\", rate_age)"
   ]
  },
  {
   "cell_type": "code",
   "execution_count": 27,
   "id": "411b7282",
   "metadata": {
    "execution": {
     "iopub.execute_input": "2022-08-13T08:30:39.996628Z",
     "iopub.status.busy": "2022-08-13T08:30:39.996169Z",
     "iopub.status.idle": "2022-08-13T08:30:40.013482Z",
     "shell.execute_reply": "2022-08-13T08:30:40.012102Z"
    },
    "papermill": {
     "duration": 0.032271,
     "end_time": "2022-08-13T08:30:40.016173",
     "exception": false,
     "start_time": "2022-08-13T08:30:39.983902",
     "status": "completed"
    },
    "tags": []
   },
   "outputs": [],
   "source": [
    "y = train[\"Survived\"]\n",
    "\n",
    "features = [\"Pclass\", \"Sex\", \"SibSp\", \"Parch\"]\n",
    "X = pd.get_dummies(train[features])\n",
    "X_test = pd.get_dummies(test_data[features])\n",
    "\n",
    "model = RandomForestClassifier(n_estimators=100, max_depth=6, random_state=1)"
   ]
  },
  {
   "cell_type": "code",
   "execution_count": 28,
   "id": "707a3da5",
   "metadata": {
    "execution": {
     "iopub.execute_input": "2022-08-13T08:30:40.040374Z",
     "iopub.status.busy": "2022-08-13T08:30:40.039873Z",
     "iopub.status.idle": "2022-08-13T08:30:40.230586Z",
     "shell.execute_reply": "2022-08-13T08:30:40.229336Z"
    },
    "papermill": {
     "duration": 0.206546,
     "end_time": "2022-08-13T08:30:40.233547",
     "exception": false,
     "start_time": "2022-08-13T08:30:40.027001",
     "status": "completed"
    },
    "tags": []
   },
   "outputs": [],
   "source": [
    "model.fit(X, y)\n",
    "prediction = model.predict(X_test)"
   ]
  },
  {
   "cell_type": "code",
   "execution_count": 29,
   "id": "6cde04a0",
   "metadata": {
    "execution": {
     "iopub.execute_input": "2022-08-13T08:30:40.256863Z",
     "iopub.status.busy": "2022-08-13T08:30:40.256440Z",
     "iopub.status.idle": "2022-08-13T08:30:40.265636Z",
     "shell.execute_reply": "2022-08-13T08:30:40.264751Z"
    },
    "papermill": {
     "duration": 0.023691,
     "end_time": "2022-08-13T08:30:40.268013",
     "exception": false,
     "start_time": "2022-08-13T08:30:40.244322",
     "status": "completed"
    },
    "tags": []
   },
   "outputs": [],
   "source": [
    "output = pd.DataFrame({'PassengerId': test_data.PassengerId, 'Survived': prediction})\n",
    "output.to_csv('submission.csv', index=False)"
   ]
  }
 ],
 "metadata": {
  "kernelspec": {
   "display_name": "Python 3",
   "language": "python",
   "name": "python3"
  },
  "language_info": {
   "codemirror_mode": {
    "name": "ipython",
    "version": 3
   },
   "file_extension": ".py",
   "mimetype": "text/x-python",
   "name": "python",
   "nbconvert_exporter": "python",
   "pygments_lexer": "ipython3",
   "version": "3.7.12"
  },
  "papermill": {
   "default_parameters": {},
   "duration": 13.761027,
   "end_time": "2022-08-13T08:30:41.101158",
   "environment_variables": {},
   "exception": null,
   "input_path": "__notebook__.ipynb",
   "output_path": "__notebook__.ipynb",
   "parameters": {},
   "start_time": "2022-08-13T08:30:27.340131",
   "version": "2.3.4"
  }
 },
 "nbformat": 4,
 "nbformat_minor": 5
}
