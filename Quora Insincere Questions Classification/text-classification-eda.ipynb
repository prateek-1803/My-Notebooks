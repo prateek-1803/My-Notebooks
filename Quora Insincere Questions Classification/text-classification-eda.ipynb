{
 "cells": [
  {
   "cell_type": "markdown",
   "id": "a7ca66eb",
   "metadata": {
    "id": "tBxC0flTQDd3",
    "papermill": {
     "duration": 0.037428,
     "end_time": "2022-12-01T12:02:00.679112",
     "exception": false,
     "start_time": "2022-12-01T12:02:00.641684",
     "status": "completed"
    },
    "tags": []
   },
   "source": [
    "# Text Classification with Bag of Words - Natural Language Processing\n",
    "\n",
    "![](https://i.imgur.com/hlEQ5X8.png)\n",
    "\n",
    "> _\"Natural language processing (NLP) is a subfield of linguistics, computer science, and artificial intelligence concerned with the interactions between computers and human language, in particular how to program computers to process and analyze large amounts of natural language data.\"_ - Wikipedia\n",
    "\n",
    "> _**Bag of Words**: The bag-of-words (BOW) model is a representation that turns arbitrary text into fixed-length vectors by counting how many times each word appears._\n",
    " \n",
    "Outline:\n",
    "\n",
    "1. Download and explore a real-world dataset\n",
    "2. Apply text preprocessing techniques\n",
    "3. Implement the bag of words model\n",
    "4. Train ML models for text classification\n",
    "5. Make predictions and submit to Kaggle\n",
    "\n"
   ]
  },
  {
   "cell_type": "markdown",
   "id": "b2c7137c",
   "metadata": {
    "id": "ZOcWwlvxQoSJ",
    "papermill": {
     "duration": 0.033934,
     "end_time": "2022-12-01T12:02:00.747346",
     "exception": false,
     "start_time": "2022-12-01T12:02:00.713412",
     "status": "completed"
    },
    "tags": []
   },
   "source": [
    "## Download and Explore the Data\n",
    "\n",
    "Outline:\n",
    "\n",
    "1. Download the dataset from Kaggle to Colab\n",
    "2. Explore the data using Pandas\n",
    "3. Create a small working sample"
   ]
  },
  {
   "cell_type": "markdown",
   "id": "ea5b7989",
   "metadata": {
    "id": "Ql6Gv4shTSBJ",
    "papermill": {
     "duration": 0.033289,
     "end_time": "2022-12-01T12:02:00.816229",
     "exception": false,
     "start_time": "2022-12-01T12:02:00.782940",
     "status": "completed"
    },
    "tags": []
   },
   "source": [
    "### Explore the Data using Pandas"
   ]
  },
  {
   "cell_type": "code",
   "execution_count": 1,
   "id": "8a973fae",
   "metadata": {
    "execution": {
     "iopub.execute_input": "2022-12-01T12:02:00.885110Z",
     "iopub.status.busy": "2022-12-01T12:02:00.884379Z",
     "iopub.status.idle": "2022-12-01T12:02:00.895055Z",
     "shell.execute_reply": "2022-12-01T12:02:00.893559Z"
    },
    "executionInfo": {
     "elapsed": 358,
     "status": "ok",
     "timestamp": 1667912043319,
     "user": {
      "displayName": "Aakash N S",
      "userId": "03254185060287524023"
     },
     "user_tz": -330
    },
    "id": "pf65NRzdQ-hU",
    "papermill": {
     "duration": 0.048327,
     "end_time": "2022-12-01T12:02:00.897962",
     "exception": false,
     "start_time": "2022-12-01T12:02:00.849635",
     "status": "completed"
    },
    "tags": []
   },
   "outputs": [],
   "source": [
    "import pandas as pd"
   ]
  },
  {
   "cell_type": "code",
   "execution_count": 2,
   "id": "0b992d67",
   "metadata": {
    "execution": {
     "iopub.execute_input": "2022-12-01T12:02:00.968648Z",
     "iopub.status.busy": "2022-12-01T12:02:00.968306Z",
     "iopub.status.idle": "2022-12-01T12:02:05.156677Z",
     "shell.execute_reply": "2022-12-01T12:02:05.155354Z"
    },
    "executionInfo": {
     "elapsed": 4754,
     "status": "ok",
     "timestamp": 1667912065510,
     "user": {
      "displayName": "Aakash N S",
      "userId": "03254185060287524023"
     },
     "user_tz": -330
    },
    "id": "H1FjN5gDTfUY",
    "papermill": {
     "duration": 4.226641,
     "end_time": "2022-12-01T12:02:05.159497",
     "exception": false,
     "start_time": "2022-12-01T12:02:00.932856",
     "status": "completed"
    },
    "tags": []
   },
   "outputs": [],
   "source": [
    "raw_df = pd.read_csv('/kaggle/input/quora-insincere-questions-classification/train.csv')"
   ]
  },
  {
   "cell_type": "code",
   "execution_count": 3,
   "id": "dca429f1",
   "metadata": {
    "execution": {
     "iopub.execute_input": "2022-12-01T12:02:05.228338Z",
     "iopub.status.busy": "2022-12-01T12:02:05.227974Z",
     "iopub.status.idle": "2022-12-01T12:02:05.254169Z",
     "shell.execute_reply": "2022-12-01T12:02:05.252746Z"
    },
    "executionInfo": {
     "elapsed": 474,
     "status": "ok",
     "timestamp": 1667912069885,
     "user": {
      "displayName": "Aakash N S",
      "userId": "03254185060287524023"
     },
     "user_tz": -330
    },
    "id": "CHMgt_5iTfRt",
    "outputId": "7ad71a7a-b478-4a42-bce0-ee467479480f",
    "papermill": {
     "duration": 0.063309,
     "end_time": "2022-12-01T12:02:05.256777",
     "exception": false,
     "start_time": "2022-12-01T12:02:05.193468",
     "status": "completed"
    },
    "tags": []
   },
   "outputs": [
    {
     "data": {
      "text/html": [
       "<div>\n",
       "<style scoped>\n",
       "    .dataframe tbody tr th:only-of-type {\n",
       "        vertical-align: middle;\n",
       "    }\n",
       "\n",
       "    .dataframe tbody tr th {\n",
       "        vertical-align: top;\n",
       "    }\n",
       "\n",
       "    .dataframe thead th {\n",
       "        text-align: right;\n",
       "    }\n",
       "</style>\n",
       "<table border=\"1\" class=\"dataframe\">\n",
       "  <thead>\n",
       "    <tr style=\"text-align: right;\">\n",
       "      <th></th>\n",
       "      <th>qid</th>\n",
       "      <th>question_text</th>\n",
       "      <th>target</th>\n",
       "    </tr>\n",
       "  </thead>\n",
       "  <tbody>\n",
       "    <tr>\n",
       "      <th>0</th>\n",
       "      <td>00002165364db923c7e6</td>\n",
       "      <td>How did Quebec nationalists see their province...</td>\n",
       "      <td>0</td>\n",
       "    </tr>\n",
       "    <tr>\n",
       "      <th>1</th>\n",
       "      <td>000032939017120e6e44</td>\n",
       "      <td>Do you have an adopted dog, how would you enco...</td>\n",
       "      <td>0</td>\n",
       "    </tr>\n",
       "    <tr>\n",
       "      <th>2</th>\n",
       "      <td>0000412ca6e4628ce2cf</td>\n",
       "      <td>Why does velocity affect time? Does velocity a...</td>\n",
       "      <td>0</td>\n",
       "    </tr>\n",
       "    <tr>\n",
       "      <th>3</th>\n",
       "      <td>000042bf85aa498cd78e</td>\n",
       "      <td>How did Otto von Guericke used the Magdeburg h...</td>\n",
       "      <td>0</td>\n",
       "    </tr>\n",
       "    <tr>\n",
       "      <th>4</th>\n",
       "      <td>0000455dfa3e01eae3af</td>\n",
       "      <td>Can I convert montra helicon D to a mountain b...</td>\n",
       "      <td>0</td>\n",
       "    </tr>\n",
       "    <tr>\n",
       "      <th>...</th>\n",
       "      <td>...</td>\n",
       "      <td>...</td>\n",
       "      <td>...</td>\n",
       "    </tr>\n",
       "    <tr>\n",
       "      <th>1306117</th>\n",
       "      <td>ffffcc4e2331aaf1e41e</td>\n",
       "      <td>What other technical skills do you need as a c...</td>\n",
       "      <td>0</td>\n",
       "    </tr>\n",
       "    <tr>\n",
       "      <th>1306118</th>\n",
       "      <td>ffffd431801e5a2f4861</td>\n",
       "      <td>Does MS in ECE have good job prospects in USA ...</td>\n",
       "      <td>0</td>\n",
       "    </tr>\n",
       "    <tr>\n",
       "      <th>1306119</th>\n",
       "      <td>ffffd48fb36b63db010c</td>\n",
       "      <td>Is foam insulation toxic?</td>\n",
       "      <td>0</td>\n",
       "    </tr>\n",
       "    <tr>\n",
       "      <th>1306120</th>\n",
       "      <td>ffffec519fa37cf60c78</td>\n",
       "      <td>How can one start a research project based on ...</td>\n",
       "      <td>0</td>\n",
       "    </tr>\n",
       "    <tr>\n",
       "      <th>1306121</th>\n",
       "      <td>ffffed09fedb5088744a</td>\n",
       "      <td>Who wins in a battle between a Wolverine and a...</td>\n",
       "      <td>0</td>\n",
       "    </tr>\n",
       "  </tbody>\n",
       "</table>\n",
       "<p>1306122 rows × 3 columns</p>\n",
       "</div>"
      ],
      "text/plain": [
       "                          qid  \\\n",
       "0        00002165364db923c7e6   \n",
       "1        000032939017120e6e44   \n",
       "2        0000412ca6e4628ce2cf   \n",
       "3        000042bf85aa498cd78e   \n",
       "4        0000455dfa3e01eae3af   \n",
       "...                       ...   \n",
       "1306117  ffffcc4e2331aaf1e41e   \n",
       "1306118  ffffd431801e5a2f4861   \n",
       "1306119  ffffd48fb36b63db010c   \n",
       "1306120  ffffec519fa37cf60c78   \n",
       "1306121  ffffed09fedb5088744a   \n",
       "\n",
       "                                             question_text  target  \n",
       "0        How did Quebec nationalists see their province...       0  \n",
       "1        Do you have an adopted dog, how would you enco...       0  \n",
       "2        Why does velocity affect time? Does velocity a...       0  \n",
       "3        How did Otto von Guericke used the Magdeburg h...       0  \n",
       "4        Can I convert montra helicon D to a mountain b...       0  \n",
       "...                                                    ...     ...  \n",
       "1306117  What other technical skills do you need as a c...       0  \n",
       "1306118  Does MS in ECE have good job prospects in USA ...       0  \n",
       "1306119                          Is foam insulation toxic?       0  \n",
       "1306120  How can one start a research project based on ...       0  \n",
       "1306121  Who wins in a battle between a Wolverine and a...       0  \n",
       "\n",
       "[1306122 rows x 3 columns]"
      ]
     },
     "execution_count": 3,
     "metadata": {},
     "output_type": "execute_result"
    }
   ],
   "source": [
    "raw_df"
   ]
  },
  {
   "cell_type": "code",
   "execution_count": 4,
   "id": "f4e1287e",
   "metadata": {
    "execution": {
     "iopub.execute_input": "2022-12-01T12:02:05.329838Z",
     "iopub.status.busy": "2022-12-01T12:02:05.329373Z",
     "iopub.status.idle": "2022-12-01T12:02:05.335476Z",
     "shell.execute_reply": "2022-12-01T12:02:05.334736Z"
    },
    "papermill": {
     "duration": 0.044769,
     "end_time": "2022-12-01T12:02:05.337812",
     "exception": false,
     "start_time": "2022-12-01T12:02:05.293043",
     "status": "completed"
    },
    "tags": []
   },
   "outputs": [
    {
     "data": {
      "text/plain": [
       "(1306122, 3)"
      ]
     },
     "execution_count": 4,
     "metadata": {},
     "output_type": "execute_result"
    }
   ],
   "source": [
    "raw_df.shape"
   ]
  },
  {
   "cell_type": "code",
   "execution_count": 5,
   "id": "0a473a1e",
   "metadata": {
    "execution": {
     "iopub.execute_input": "2022-12-01T12:02:05.408683Z",
     "iopub.status.busy": "2022-12-01T12:02:05.408140Z",
     "iopub.status.idle": "2022-12-01T12:02:05.484061Z",
     "shell.execute_reply": "2022-12-01T12:02:05.483004Z"
    },
    "executionInfo": {
     "elapsed": 382,
     "status": "ok",
     "timestamp": 1667912255712,
     "user": {
      "displayName": "Aakash N S",
      "userId": "03254185060287524023"
     },
     "user_tz": -330
    },
    "id": "wV2xGZ3STfPx",
    "papermill": {
     "duration": 0.113709,
     "end_time": "2022-12-01T12:02:05.486400",
     "exception": false,
     "start_time": "2022-12-01T12:02:05.372691",
     "status": "completed"
    },
    "tags": []
   },
   "outputs": [],
   "source": [
    "sincere_df = raw_df[raw_df.target == 0]"
   ]
  },
  {
   "cell_type": "code",
   "execution_count": 6,
   "id": "d303dbc0",
   "metadata": {
    "execution": {
     "iopub.execute_input": "2022-12-01T12:02:05.557496Z",
     "iopub.status.busy": "2022-12-01T12:02:05.556891Z",
     "iopub.status.idle": "2022-12-01T12:02:05.563489Z",
     "shell.execute_reply": "2022-12-01T12:02:05.562667Z"
    },
    "executionInfo": {
     "elapsed": 375,
     "status": "ok",
     "timestamp": 1667912261902,
     "user": {
      "displayName": "Aakash N S",
      "userId": "03254185060287524023"
     },
     "user_tz": -330
    },
    "id": "me4srOFdUMCQ",
    "outputId": "6f5e9340-bdb2-4c22-b75e-57177ccf6ea9",
    "papermill": {
     "duration": 0.044775,
     "end_time": "2022-12-01T12:02:05.565349",
     "exception": false,
     "start_time": "2022-12-01T12:02:05.520574",
     "status": "completed"
    },
    "tags": []
   },
   "outputs": [
    {
     "data": {
      "text/plain": [
       "array(['How did Quebec nationalists see their province as a nation in the 1960s?',\n",
       "       'Do you have an adopted dog, how would you encourage people to adopt and not shop?',\n",
       "       'Why does velocity affect time? Does velocity affect space geometry?',\n",
       "       'How did Otto von Guericke used the Magdeburg hemispheres?',\n",
       "       'Can I convert montra helicon D to a mountain bike by just changing the tyres?',\n",
       "       'Is Gaza slowly becoming Auschwitz, Dachau or Treblinka for Palestinians?',\n",
       "       'Why does Quora automatically ban conservative opinions when reported, but does not do the same for liberal views?',\n",
       "       'Is it crazy if I wash or wipe my groceries off? Germs are everywhere.',\n",
       "       'Is there such a thing as dressing moderately, and if so, how is that different than dressing modestly?',\n",
       "       'Is it just me or have you ever been in this phase wherein you became ignorant to the people you once loved, completely disregarding their feelings/lives so you get to have something go your way and feel temporarily at ease. How did things change?'],\n",
       "      dtype=object)"
      ]
     },
     "execution_count": 6,
     "metadata": {},
     "output_type": "execute_result"
    }
   ],
   "source": [
    "sincere_df.question_text.values[:10]"
   ]
  },
  {
   "cell_type": "code",
   "execution_count": 7,
   "id": "d2c75cb2",
   "metadata": {
    "execution": {
     "iopub.execute_input": "2022-12-01T12:02:05.636769Z",
     "iopub.status.busy": "2022-12-01T12:02:05.635827Z",
     "iopub.status.idle": "2022-12-01T12:02:05.653349Z",
     "shell.execute_reply": "2022-12-01T12:02:05.652237Z"
    },
    "executionInfo": {
     "elapsed": 572,
     "status": "ok",
     "timestamp": 1667912293701,
     "user": {
      "displayName": "Aakash N S",
      "userId": "03254185060287524023"
     },
     "user_tz": -330
    },
    "id": "cTApBtxIUMAJ",
    "papermill": {
     "duration": 0.055778,
     "end_time": "2022-12-01T12:02:05.655947",
     "exception": false,
     "start_time": "2022-12-01T12:02:05.600169",
     "status": "completed"
    },
    "tags": []
   },
   "outputs": [],
   "source": [
    "insincere_df = raw_df[raw_df.target == 1]"
   ]
  },
  {
   "cell_type": "code",
   "execution_count": 8,
   "id": "9c47b130",
   "metadata": {
    "execution": {
     "iopub.execute_input": "2022-12-01T12:02:05.729259Z",
     "iopub.status.busy": "2022-12-01T12:02:05.728457Z",
     "iopub.status.idle": "2022-12-01T12:02:05.734755Z",
     "shell.execute_reply": "2022-12-01T12:02:05.733996Z"
    },
    "executionInfo": {
     "elapsed": 652,
     "status": "ok",
     "timestamp": 1667912301181,
     "user": {
      "displayName": "Aakash N S",
      "userId": "03254185060287524023"
     },
     "user_tz": -330
    },
    "id": "-nFN5bZVUL91",
    "outputId": "ce551e6c-3255-408d-9182-4408269d67bf",
    "papermill": {
     "duration": 0.044877,
     "end_time": "2022-12-01T12:02:05.736455",
     "exception": false,
     "start_time": "2022-12-01T12:02:05.691578",
     "status": "completed"
    },
    "tags": []
   },
   "outputs": [
    {
     "data": {
      "text/plain": [
       "array(['Has the United States become the largest dictatorship in the world?',\n",
       "       'Which babies are more sweeter to their parents? Dark skin babies or light skin babies?',\n",
       "       \"If blacks support school choice and mandatory sentencing for criminals why don't they vote Republican?\",\n",
       "       'I am gay boy and I love my cousin (boy). He is sexy, but I dont know what to do. He is hot, and I want to see his di**. What should I do?',\n",
       "       'Which races have the smallest penis?',\n",
       "       'Why do females find penises ugly?',\n",
       "       'How do I marry an American woman for a Green Card? How much do they charge?',\n",
       "       \"Why do Europeans say they're the superior race, when in fact it took them over 2,000 years until mid 19th century to surpass China's largest economy?\",\n",
       "       'Did Julius Caesar bring a tyrannosaurus rex on his campaigns to frighten the Celts into submission?',\n",
       "       \"In what manner has Republican backing of 'states rights' been hypocritical and what ways have they actually restricted the ability of states to make their own laws?\"],\n",
       "      dtype=object)"
      ]
     },
     "execution_count": 8,
     "metadata": {},
     "output_type": "execute_result"
    }
   ],
   "source": [
    "insincere_df.question_text.values[:10]"
   ]
  },
  {
   "cell_type": "code",
   "execution_count": 9,
   "id": "20b6291f",
   "metadata": {
    "execution": {
     "iopub.execute_input": "2022-12-01T12:02:05.811160Z",
     "iopub.status.busy": "2022-12-01T12:02:05.810264Z",
     "iopub.status.idle": "2022-12-01T12:02:05.833877Z",
     "shell.execute_reply": "2022-12-01T12:02:05.832756Z"
    },
    "executionInfo": {
     "elapsed": 431,
     "status": "ok",
     "timestamp": 1667912372012,
     "user": {
      "displayName": "Aakash N S",
      "userId": "03254185060287524023"
     },
     "user_tz": -330
    },
    "id": "n2VQSfKmUn7Z",
    "outputId": "abe27eed-82e0-472d-f0bb-3c28a5a77b06",
    "papermill": {
     "duration": 0.06315,
     "end_time": "2022-12-01T12:02:05.835868",
     "exception": false,
     "start_time": "2022-12-01T12:02:05.772718",
     "status": "completed"
    },
    "tags": []
   },
   "outputs": [
    {
     "data": {
      "text/plain": [
       "0    0.93813\n",
       "1    0.06187\n",
       "Name: target, dtype: float64"
      ]
     },
     "execution_count": 9,
     "metadata": {},
     "output_type": "execute_result"
    }
   ],
   "source": [
    "raw_df.target.value_counts(normalize=True)"
   ]
  },
  {
   "cell_type": "code",
   "execution_count": 10,
   "id": "43f7f5bd",
   "metadata": {
    "execution": {
     "iopub.execute_input": "2022-12-01T12:02:05.908165Z",
     "iopub.status.busy": "2022-12-01T12:02:05.907176Z",
     "iopub.status.idle": "2022-12-01T12:02:06.093269Z",
     "shell.execute_reply": "2022-12-01T12:02:06.092415Z"
    },
    "executionInfo": {
     "elapsed": 395,
     "status": "ok",
     "timestamp": 1667912455099,
     "user": {
      "displayName": "Aakash N S",
      "userId": "03254185060287524023"
     },
     "user_tz": -330
    },
    "id": "ZSzHylWuU0MF",
    "outputId": "557af698-754b-49e6-a8f7-a504aaa74737",
    "papermill": {
     "duration": 0.223735,
     "end_time": "2022-12-01T12:02:06.095076",
     "exception": false,
     "start_time": "2022-12-01T12:02:05.871341",
     "status": "completed"
    },
    "tags": []
   },
   "outputs": [
    {
     "data": {
      "text/plain": [
       "<AxesSubplot:>"
      ]
     },
     "execution_count": 10,
     "metadata": {},
     "output_type": "execute_result"
    },
    {
     "data": {
      "image/png": "[encoded data removed]",
      "text/plain": [
       "<Figure size 432x288 with 1 Axes>"
      ]
     },
     "metadata": {
      "needs_background": "light"
     },
     "output_type": "display_data"
    }
   ],
   "source": [
    "raw_df.target.value_counts(normalize=True).plot(kind='bar')"
   ]
  },
  {
   "cell_type": "code",
   "execution_count": 11,
   "id": "1b942ebf",
   "metadata": {
    "execution": {
     "iopub.execute_input": "2022-12-01T12:02:06.167474Z",
     "iopub.status.busy": "2022-12-01T12:02:06.166832Z",
     "iopub.status.idle": "2022-12-01T12:02:07.306960Z",
     "shell.execute_reply": "2022-12-01T12:02:07.305113Z"
    },
    "executionInfo": {
     "elapsed": 1646,
     "status": "ok",
     "timestamp": 1667912505443,
     "user": {
      "displayName": "Aakash N S",
      "userId": "03254185060287524023"
     },
     "user_tz": -330
    },
    "id": "_lA6Vb6YVN1p",
    "papermill": {
     "duration": 1.1788,
     "end_time": "2022-12-01T12:02:07.309768",
     "exception": false,
     "start_time": "2022-12-01T12:02:06.130968",
     "status": "completed"
    },
    "tags": []
   },
   "outputs": [],
   "source": [
    "test_df = pd.read_csv('/kaggle/input/quora-insincere-questions-classification/test.csv')"
   ]
  },
  {
   "cell_type": "code",
   "execution_count": 12,
   "id": "4a06e8b6",
   "metadata": {
    "execution": {
     "iopub.execute_input": "2022-12-01T12:02:07.386604Z",
     "iopub.status.busy": "2022-12-01T12:02:07.386238Z",
     "iopub.status.idle": "2022-12-01T12:02:07.398521Z",
     "shell.execute_reply": "2022-12-01T12:02:07.397345Z"
    },
    "executionInfo": {
     "elapsed": 3,
     "status": "ok",
     "timestamp": 1667912507665,
     "user": {
      "displayName": "Aakash N S",
      "userId": "03254185060287524023"
     },
     "user_tz": -330
    },
    "id": "gH0ij_pmVNzV",
    "outputId": "ad30dad3-ffd4-43ac-c04d-659ac7cf006d",
    "papermill": {
     "duration": 0.051412,
     "end_time": "2022-12-01T12:02:07.401095",
     "exception": false,
     "start_time": "2022-12-01T12:02:07.349683",
     "status": "completed"
    },
    "tags": []
   },
   "outputs": [
    {
     "data": {
      "text/html": [
       "<div>\n",
       "<style scoped>\n",
       "    .dataframe tbody tr th:only-of-type {\n",
       "        vertical-align: middle;\n",
       "    }\n",
       "\n",
       "    .dataframe tbody tr th {\n",
       "        vertical-align: top;\n",
       "    }\n",
       "\n",
       "    .dataframe thead th {\n",
       "        text-align: right;\n",
       "    }\n",
       "</style>\n",
       "<table border=\"1\" class=\"dataframe\">\n",
       "  <thead>\n",
       "    <tr style=\"text-align: right;\">\n",
       "      <th></th>\n",
       "      <th>qid</th>\n",
       "      <th>question_text</th>\n",
       "    </tr>\n",
       "  </thead>\n",
       "  <tbody>\n",
       "    <tr>\n",
       "      <th>0</th>\n",
       "      <td>0000163e3ea7c7a74cd7</td>\n",
       "      <td>Why do so many women become so rude and arroga...</td>\n",
       "    </tr>\n",
       "    <tr>\n",
       "      <th>1</th>\n",
       "      <td>00002bd4fb5d505b9161</td>\n",
       "      <td>When should I apply for RV college of engineer...</td>\n",
       "    </tr>\n",
       "    <tr>\n",
       "      <th>2</th>\n",
       "      <td>00007756b4a147d2b0b3</td>\n",
       "      <td>What is it really like to be a nurse practitio...</td>\n",
       "    </tr>\n",
       "    <tr>\n",
       "      <th>3</th>\n",
       "      <td>000086e4b7e1c7146103</td>\n",
       "      <td>Who are entrepreneurs?</td>\n",
       "    </tr>\n",
       "    <tr>\n",
       "      <th>4</th>\n",
       "      <td>0000c4c3fbe8785a3090</td>\n",
       "      <td>Is education really making good people nowadays?</td>\n",
       "    </tr>\n",
       "    <tr>\n",
       "      <th>...</th>\n",
       "      <td>...</td>\n",
       "      <td>...</td>\n",
       "    </tr>\n",
       "    <tr>\n",
       "      <th>375801</th>\n",
       "      <td>ffff7fa746bd6d6197a9</td>\n",
       "      <td>How many countries listed in gold import in in...</td>\n",
       "    </tr>\n",
       "    <tr>\n",
       "      <th>375802</th>\n",
       "      <td>ffffa1be31c43046ab6b</td>\n",
       "      <td>Is there an alternative to dresses on formal p...</td>\n",
       "    </tr>\n",
       "    <tr>\n",
       "      <th>375803</th>\n",
       "      <td>ffffae173b6ca6bfa563</td>\n",
       "      <td>Where I can find best friendship quotes in Tel...</td>\n",
       "    </tr>\n",
       "    <tr>\n",
       "      <th>375804</th>\n",
       "      <td>ffffb1f7f1a008620287</td>\n",
       "      <td>What are the causes of refraction of light?</td>\n",
       "    </tr>\n",
       "    <tr>\n",
       "      <th>375805</th>\n",
       "      <td>fffff85473f4699474b0</td>\n",
       "      <td>Climate change is a worrying topic. How much t...</td>\n",
       "    </tr>\n",
       "  </tbody>\n",
       "</table>\n",
       "<p>375806 rows × 2 columns</p>\n",
       "</div>"
      ],
      "text/plain": [
       "                         qid  \\\n",
       "0       0000163e3ea7c7a74cd7   \n",
       "1       00002bd4fb5d505b9161   \n",
       "2       00007756b4a147d2b0b3   \n",
       "3       000086e4b7e1c7146103   \n",
       "4       0000c4c3fbe8785a3090   \n",
       "...                      ...   \n",
       "375801  ffff7fa746bd6d6197a9   \n",
       "375802  ffffa1be31c43046ab6b   \n",
       "375803  ffffae173b6ca6bfa563   \n",
       "375804  ffffb1f7f1a008620287   \n",
       "375805  fffff85473f4699474b0   \n",
       "\n",
       "                                            question_text  \n",
       "0       Why do so many women become so rude and arroga...  \n",
       "1       When should I apply for RV college of engineer...  \n",
       "2       What is it really like to be a nurse practitio...  \n",
       "3                                  Who are entrepreneurs?  \n",
       "4        Is education really making good people nowadays?  \n",
       "...                                                   ...  \n",
       "375801  How many countries listed in gold import in in...  \n",
       "375802  Is there an alternative to dresses on formal p...  \n",
       "375803  Where I can find best friendship quotes in Tel...  \n",
       "375804        What are the causes of refraction of light?  \n",
       "375805  Climate change is a worrying topic. How much t...  \n",
       "\n",
       "[375806 rows x 2 columns]"
      ]
     },
     "execution_count": 12,
     "metadata": {},
     "output_type": "execute_result"
    }
   ],
   "source": [
    "test_df"
   ]
  },
  {
   "cell_type": "code",
   "execution_count": 13,
   "id": "e757a94f",
   "metadata": {
    "execution": {
     "iopub.execute_input": "2022-12-01T12:02:07.474558Z",
     "iopub.status.busy": "2022-12-01T12:02:07.474116Z",
     "iopub.status.idle": "2022-12-01T12:02:07.784587Z",
     "shell.execute_reply": "2022-12-01T12:02:07.783755Z"
    },
    "executionInfo": {
     "elapsed": 532,
     "status": "ok",
     "timestamp": 1667912554978,
     "user": {
      "displayName": "Aakash N S",
      "userId": "03254185060287524023"
     },
     "user_tz": -330
    },
    "id": "exDbcT9bVNw0",
    "papermill": {
     "duration": 0.350129,
     "end_time": "2022-12-01T12:02:07.787239",
     "exception": false,
     "start_time": "2022-12-01T12:02:07.437110",
     "status": "completed"
    },
    "tags": []
   },
   "outputs": [],
   "source": [
    "sub_df = pd.read_csv('/kaggle/input/quora-insincere-questions-classification/sample_submission.csv')"
   ]
  },
  {
   "cell_type": "code",
   "execution_count": 14,
   "id": "9cacb2c7",
   "metadata": {
    "execution": {
     "iopub.execute_input": "2022-12-01T12:02:07.860762Z",
     "iopub.status.busy": "2022-12-01T12:02:07.860366Z",
     "iopub.status.idle": "2022-12-01T12:02:07.873127Z",
     "shell.execute_reply": "2022-12-01T12:02:07.872460Z"
    },
    "executionInfo": {
     "elapsed": 571,
     "status": "ok",
     "timestamp": 1667912558749,
     "user": {
      "displayName": "Aakash N S",
      "userId": "03254185060287524023"
     },
     "user_tz": -330
    },
    "id": "vLCvMxN3UL7l",
    "outputId": "75dcfd90-504e-4612-b578-dcff4978dc00",
    "papermill": {
     "duration": 0.051285,
     "end_time": "2022-12-01T12:02:07.874903",
     "exception": false,
     "start_time": "2022-12-01T12:02:07.823618",
     "status": "completed"
    },
    "tags": []
   },
   "outputs": [
    {
     "data": {
      "text/html": [
       "<div>\n",
       "<style scoped>\n",
       "    .dataframe tbody tr th:only-of-type {\n",
       "        vertical-align: middle;\n",
       "    }\n",
       "\n",
       "    .dataframe tbody tr th {\n",
       "        vertical-align: top;\n",
       "    }\n",
       "\n",
       "    .dataframe thead th {\n",
       "        text-align: right;\n",
       "    }\n",
       "</style>\n",
       "<table border=\"1\" class=\"dataframe\">\n",
       "  <thead>\n",
       "    <tr style=\"text-align: right;\">\n",
       "      <th></th>\n",
       "      <th>qid</th>\n",
       "      <th>prediction</th>\n",
       "    </tr>\n",
       "  </thead>\n",
       "  <tbody>\n",
       "    <tr>\n",
       "      <th>0</th>\n",
       "      <td>0000163e3ea7c7a74cd7</td>\n",
       "      <td>0</td>\n",
       "    </tr>\n",
       "    <tr>\n",
       "      <th>1</th>\n",
       "      <td>00002bd4fb5d505b9161</td>\n",
       "      <td>0</td>\n",
       "    </tr>\n",
       "    <tr>\n",
       "      <th>2</th>\n",
       "      <td>00007756b4a147d2b0b3</td>\n",
       "      <td>0</td>\n",
       "    </tr>\n",
       "    <tr>\n",
       "      <th>3</th>\n",
       "      <td>000086e4b7e1c7146103</td>\n",
       "      <td>0</td>\n",
       "    </tr>\n",
       "    <tr>\n",
       "      <th>4</th>\n",
       "      <td>0000c4c3fbe8785a3090</td>\n",
       "      <td>0</td>\n",
       "    </tr>\n",
       "    <tr>\n",
       "      <th>...</th>\n",
       "      <td>...</td>\n",
       "      <td>...</td>\n",
       "    </tr>\n",
       "    <tr>\n",
       "      <th>375801</th>\n",
       "      <td>ffff7fa746bd6d6197a9</td>\n",
       "      <td>0</td>\n",
       "    </tr>\n",
       "    <tr>\n",
       "      <th>375802</th>\n",
       "      <td>ffffa1be31c43046ab6b</td>\n",
       "      <td>0</td>\n",
       "    </tr>\n",
       "    <tr>\n",
       "      <th>375803</th>\n",
       "      <td>ffffae173b6ca6bfa563</td>\n",
       "      <td>0</td>\n",
       "    </tr>\n",
       "    <tr>\n",
       "      <th>375804</th>\n",
       "      <td>ffffb1f7f1a008620287</td>\n",
       "      <td>0</td>\n",
       "    </tr>\n",
       "    <tr>\n",
       "      <th>375805</th>\n",
       "      <td>fffff85473f4699474b0</td>\n",
       "      <td>0</td>\n",
       "    </tr>\n",
       "  </tbody>\n",
       "</table>\n",
       "<p>375806 rows × 2 columns</p>\n",
       "</div>"
      ],
      "text/plain": [
       "                         qid  prediction\n",
       "0       0000163e3ea7c7a74cd7           0\n",
       "1       00002bd4fb5d505b9161           0\n",
       "2       00007756b4a147d2b0b3           0\n",
       "3       000086e4b7e1c7146103           0\n",
       "4       0000c4c3fbe8785a3090           0\n",
       "...                      ...         ...\n",
       "375801  ffff7fa746bd6d6197a9           0\n",
       "375802  ffffa1be31c43046ab6b           0\n",
       "375803  ffffae173b6ca6bfa563           0\n",
       "375804  ffffb1f7f1a008620287           0\n",
       "375805  fffff85473f4699474b0           0\n",
       "\n",
       "[375806 rows x 2 columns]"
      ]
     },
     "execution_count": 14,
     "metadata": {},
     "output_type": "execute_result"
    }
   ],
   "source": [
    "sub_df"
   ]
  },
  {
   "cell_type": "code",
   "execution_count": 15,
   "id": "0e33d121",
   "metadata": {
    "execution": {
     "iopub.execute_input": "2022-12-01T12:02:07.948181Z",
     "iopub.status.busy": "2022-12-01T12:02:07.947308Z",
     "iopub.status.idle": "2022-12-01T12:02:07.957695Z",
     "shell.execute_reply": "2022-12-01T12:02:07.956746Z"
    },
    "executionInfo": {
     "elapsed": 394,
     "status": "ok",
     "timestamp": 1667912639872,
     "user": {
      "displayName": "Aakash N S",
      "userId": "03254185060287524023"
     },
     "user_tz": -330
    },
    "id": "BvL2NJuSVv4l",
    "outputId": "d362dd88-f047-4ca6-e729-54b153126cb1",
    "papermill": {
     "duration": 0.049125,
     "end_time": "2022-12-01T12:02:07.959749",
     "exception": false,
     "start_time": "2022-12-01T12:02:07.910624",
     "status": "completed"
    },
    "tags": []
   },
   "outputs": [
    {
     "data": {
      "text/plain": [
       "0    375806\n",
       "Name: prediction, dtype: int64"
      ]
     },
     "execution_count": 15,
     "metadata": {},
     "output_type": "execute_result"
    }
   ],
   "source": [
    "sub_df.prediction.value_counts()"
   ]
  },
  {
   "cell_type": "markdown",
   "id": "4b56101a",
   "metadata": {
    "id": "v7sWG0KCV0g-",
    "papermill": {
     "duration": 0.035443,
     "end_time": "2022-12-01T12:02:08.030827",
     "exception": false,
     "start_time": "2022-12-01T12:02:07.995384",
     "status": "completed"
    },
    "tags": []
   },
   "source": [
    "### Create a Working Sample\n"
   ]
  },
  {
   "cell_type": "code",
   "execution_count": 16,
   "id": "016da2a0",
   "metadata": {
    "execution": {
     "iopub.execute_input": "2022-12-01T12:02:08.104376Z",
     "iopub.status.busy": "2022-12-01T12:02:08.104034Z",
     "iopub.status.idle": "2022-12-01T12:02:08.109100Z",
     "shell.execute_reply": "2022-12-01T12:02:08.108070Z"
    },
    "executionInfo": {
     "elapsed": 653,
     "status": "ok",
     "timestamp": 1667912690959,
     "user": {
      "displayName": "Aakash N S",
      "userId": "03254185060287524023"
     },
     "user_tz": -330
    },
    "id": "hu5s7hLKV7Kr",
    "papermill": {
     "duration": 0.044757,
     "end_time": "2022-12-01T12:02:08.111442",
     "exception": false,
     "start_time": "2022-12-01T12:02:08.066685",
     "status": "completed"
    },
    "tags": []
   },
   "outputs": [],
   "source": [
    "#sample size \"here '_' work as ',' you can check by own\"\n",
    "SAMPLE_SIZE = 100_000"
   ]
  },
  {
   "cell_type": "code",
   "execution_count": 17,
   "id": "ac9bd7e5",
   "metadata": {
    "execution": {
     "iopub.execute_input": "2022-12-01T12:02:08.184977Z",
     "iopub.status.busy": "2022-12-01T12:02:08.184652Z",
     "iopub.status.idle": "2022-12-01T12:02:08.188373Z",
     "shell.execute_reply": "2022-12-01T12:02:08.187688Z"
    },
    "executionInfo": {
     "elapsed": 702,
     "status": "ok",
     "timestamp": 1667912713848,
     "user": {
      "displayName": "Aakash N S",
      "userId": "03254185060287524023"
     },
     "user_tz": -330
    },
    "id": "0xzqyYo_V31J",
    "papermill": {
     "duration": 0.04266,
     "end_time": "2022-12-01T12:02:08.190131",
     "exception": false,
     "start_time": "2022-12-01T12:02:08.147471",
     "status": "completed"
    },
    "tags": []
   },
   "outputs": [],
   "source": [
    "#take some sample data for testing our model\n",
    "#sample_df = raw_df.sample(SAMPLE_SIZE, random_state=42)"
   ]
  },
  {
   "cell_type": "code",
   "execution_count": 18,
   "id": "48601c5b",
   "metadata": {
    "execution": {
     "iopub.execute_input": "2022-12-01T12:02:08.264164Z",
     "iopub.status.busy": "2022-12-01T12:02:08.263533Z",
     "iopub.status.idle": "2022-12-01T12:02:08.293344Z",
     "shell.execute_reply": "2022-12-01T12:02:08.292303Z"
    },
    "papermill": {
     "duration": 0.069938,
     "end_time": "2022-12-01T12:02:08.295961",
     "exception": false,
     "start_time": "2022-12-01T12:02:08.226023",
     "status": "completed"
    },
    "tags": []
   },
   "outputs": [],
   "source": [
    "sample_df = raw_df.copy()"
   ]
  },
  {
   "cell_type": "code",
   "execution_count": 19,
   "id": "3ea89a92",
   "metadata": {
    "execution": {
     "iopub.execute_input": "2022-12-01T12:02:08.370164Z",
     "iopub.status.busy": "2022-12-01T12:02:08.369613Z",
     "iopub.status.idle": "2022-12-01T12:02:08.375381Z",
     "shell.execute_reply": "2022-12-01T12:02:08.374407Z"
    },
    "executionInfo": {
     "elapsed": 886,
     "status": "ok",
     "timestamp": 1667912722831,
     "user": {
      "displayName": "Aakash N S",
      "userId": "03254185060287524023"
     },
     "user_tz": -330
    },
    "id": "4xFSOIfdV3yh",
    "outputId": "a1f8d588-1005-475a-bfa9-04df72110179",
    "papermill": {
     "duration": 0.045456,
     "end_time": "2022-12-01T12:02:08.377683",
     "exception": false,
     "start_time": "2022-12-01T12:02:08.332227",
     "status": "completed"
    },
    "tags": []
   },
   "outputs": [
    {
     "data": {
      "text/plain": [
       "(1306122, 3)"
      ]
     },
     "execution_count": 19,
     "metadata": {},
     "output_type": "execute_result"
    }
   ],
   "source": [
    "sample_df.shape"
   ]
  },
  {
   "cell_type": "markdown",
   "id": "bbfcf3d6",
   "metadata": {
    "id": "-gZy068pQoPg",
    "papermill": {
     "duration": 0.037892,
     "end_time": "2022-12-01T12:02:08.451584",
     "exception": false,
     "start_time": "2022-12-01T12:02:08.413692",
     "status": "completed"
    },
    "tags": []
   },
   "source": [
    "## Text Preprocessing Techniques\n",
    "\n",
    "Outline:\n",
    "\n",
    "1. Understand the bag of words model\n",
    "2. Tokenization\n",
    "3. Stop word removal\n",
    "4. Stemming"
   ]
  },
  {
   "cell_type": "markdown",
   "id": "68f0ced4",
   "metadata": {
    "id": "pJ0mh3gjXH9e",
    "papermill": {
     "duration": 0.035839,
     "end_time": "2022-12-01T12:02:08.524011",
     "exception": false,
     "start_time": "2022-12-01T12:02:08.488172",
     "status": "completed"
    },
    "tags": []
   },
   "source": [
    "### Bag of Words Intuition\n",
    "\n",
    "1. Create a list of all the words across all the text documents\n",
    "2. You convert each document into vector counts of each word\n",
    "\n",
    "\n",
    "Limitations:\n",
    "1. There may be too many words in the dataset\n",
    "2. Some words may occur too frequently\n",
    "3. Some words may occur very rarely or only once\n",
    "4. A single word may have many forms (go, gone, going or bird vs. birds)"
   ]
  },
  {
   "cell_type": "code",
   "execution_count": 20,
   "id": "07260e34",
   "metadata": {
    "execution": {
     "iopub.execute_input": "2022-12-01T12:02:08.597196Z",
     "iopub.status.busy": "2022-12-01T12:02:08.596824Z",
     "iopub.status.idle": "2022-12-01T12:02:08.601348Z",
     "shell.execute_reply": "2022-12-01T12:02:08.600654Z"
    },
    "executionInfo": {
     "elapsed": 628,
     "status": "ok",
     "timestamp": 1667913361214,
     "user": {
      "displayName": "Aakash N S",
      "userId": "03254185060287524023"
     },
     "user_tz": -330
    },
    "id": "PDb6D4pfYWPu",
    "papermill": {
     "duration": 0.043278,
     "end_time": "2022-12-01T12:02:08.603084",
     "exception": false,
     "start_time": "2022-12-01T12:02:08.559806",
     "status": "completed"
    },
    "tags": []
   },
   "outputs": [],
   "source": [
    "q0 = sincere_df.question_text.values[1]"
   ]
  },
  {
   "cell_type": "code",
   "execution_count": 21,
   "id": "0d9fb4ad",
   "metadata": {
    "execution": {
     "iopub.execute_input": "2022-12-01T12:02:08.676753Z",
     "iopub.status.busy": "2022-12-01T12:02:08.676318Z",
     "iopub.status.idle": "2022-12-01T12:02:08.681674Z",
     "shell.execute_reply": "2022-12-01T12:02:08.680607Z"
    },
    "executionInfo": {
     "elapsed": 546,
     "status": "ok",
     "timestamp": 1667913367151,
     "user": {
      "displayName": "Aakash N S",
      "userId": "03254185060287524023"
     },
     "user_tz": -330
    },
    "id": "mQjFxTKFYjJk",
    "outputId": "3012387d-9827-46bf-a3bb-d9d077ee6a9f",
    "papermill": {
     "duration": 0.044436,
     "end_time": "2022-12-01T12:02:08.683414",
     "exception": false,
     "start_time": "2022-12-01T12:02:08.638978",
     "status": "completed"
    },
    "tags": []
   },
   "outputs": [
    {
     "data": {
      "text/plain": [
       "'Do you have an adopted dog, how would you encourage people to adopt and not shop?'"
      ]
     },
     "execution_count": 21,
     "metadata": {},
     "output_type": "execute_result"
    }
   ],
   "source": [
    "q0"
   ]
  },
  {
   "cell_type": "code",
   "execution_count": 22,
   "id": "347e2892",
   "metadata": {
    "execution": {
     "iopub.execute_input": "2022-12-01T12:02:08.759740Z",
     "iopub.status.busy": "2022-12-01T12:02:08.758733Z",
     "iopub.status.idle": "2022-12-01T12:02:08.778802Z",
     "shell.execute_reply": "2022-12-01T12:02:08.777755Z"
    },
    "executionInfo": {
     "elapsed": 478,
     "status": "ok",
     "timestamp": 1667913449142,
     "user": {
      "displayName": "Aakash N S",
      "userId": "03254185060287524023"
     },
     "user_tz": -330
    },
    "id": "GIvt_M-yYlJH",
    "papermill": {
     "duration": 0.061234,
     "end_time": "2022-12-01T12:02:08.781356",
     "exception": false,
     "start_time": "2022-12-01T12:02:08.720122",
     "status": "completed"
    },
    "tags": []
   },
   "outputs": [],
   "source": [
    "q1 = raw_df[raw_df.target == 1].question_text.values[0]"
   ]
  },
  {
   "cell_type": "code",
   "execution_count": 23,
   "id": "e378e23b",
   "metadata": {
    "execution": {
     "iopub.execute_input": "2022-12-01T12:02:08.857654Z",
     "iopub.status.busy": "2022-12-01T12:02:08.857276Z",
     "iopub.status.idle": "2022-12-01T12:02:08.863228Z",
     "shell.execute_reply": "2022-12-01T12:02:08.862224Z"
    },
    "executionInfo": {
     "elapsed": 3,
     "status": "ok",
     "timestamp": 1667913449769,
     "user": {
      "displayName": "Aakash N S",
      "userId": "03254185060287524023"
     },
     "user_tz": -330
    },
    "id": "86bHxTMbY182",
    "outputId": "ffafd417-1607-420d-a2ff-9169707470b2",
    "papermill": {
     "duration": 0.047024,
     "end_time": "2022-12-01T12:02:08.865881",
     "exception": false,
     "start_time": "2022-12-01T12:02:08.818857",
     "status": "completed"
    },
    "tags": []
   },
   "outputs": [
    {
     "data": {
      "text/plain": [
       "'Has the United States become the largest dictatorship in the world?'"
      ]
     },
     "execution_count": 23,
     "metadata": {},
     "output_type": "execute_result"
    }
   ],
   "source": [
    "q1"
   ]
  },
  {
   "cell_type": "markdown",
   "id": "346ca5fe",
   "metadata": {
    "id": "qj4Zg1yaYPJv",
    "papermill": {
     "duration": 0.036001,
     "end_time": "2022-12-01T12:02:08.938746",
     "exception": false,
     "start_time": "2022-12-01T12:02:08.902745",
     "status": "completed"
    },
    "tags": []
   },
   "source": [
    "### Tokenization\n",
    "\n",
    "splitting a document into words and separators"
   ]
  },
  {
   "cell_type": "code",
   "execution_count": 24,
   "id": "cc418c1d",
   "metadata": {
    "execution": {
     "iopub.execute_input": "2022-12-01T12:02:09.074343Z",
     "iopub.status.busy": "2022-12-01T12:02:09.073302Z",
     "iopub.status.idle": "2022-12-01T12:02:10.845202Z",
     "shell.execute_reply": "2022-12-01T12:02:10.843560Z"
    },
    "executionInfo": {
     "elapsed": 474,
     "status": "ok",
     "timestamp": 1667913549193,
     "user": {
      "displayName": "Aakash N S",
      "userId": "03254185060287524023"
     },
     "user_tz": -330
    },
    "id": "EqacxiuyZPds",
    "papermill": {
     "duration": 1.872735,
     "end_time": "2022-12-01T12:02:10.848320",
     "exception": false,
     "start_time": "2022-12-01T12:02:08.975585",
     "status": "completed"
    },
    "tags": []
   },
   "outputs": [],
   "source": [
    "import nltk"
   ]
  },
  {
   "cell_type": "code",
   "execution_count": 25,
   "id": "77a3c45e",
   "metadata": {
    "execution": {
     "iopub.execute_input": "2022-12-01T12:02:10.925832Z",
     "iopub.status.busy": "2022-12-01T12:02:10.925474Z",
     "iopub.status.idle": "2022-12-01T12:02:10.930512Z",
     "shell.execute_reply": "2022-12-01T12:02:10.928991Z"
    },
    "executionInfo": {
     "elapsed": 1852,
     "status": "ok",
     "timestamp": 1667913505183,
     "user": {
      "displayName": "Aakash N S",
      "userId": "03254185060287524023"
     },
     "user_tz": -330
    },
    "id": "2vQDMEq0Q_lP",
    "papermill": {
     "duration": 0.046745,
     "end_time": "2022-12-01T12:02:10.932411",
     "exception": false,
     "start_time": "2022-12-01T12:02:10.885666",
     "status": "completed"
    },
    "tags": []
   },
   "outputs": [],
   "source": [
    "from nltk.tokenize import word_tokenize"
   ]
  },
  {
   "cell_type": "code",
   "execution_count": 26,
   "id": "10603208",
   "metadata": {
    "execution": {
     "iopub.execute_input": "2022-12-01T12:02:11.008283Z",
     "iopub.status.busy": "2022-12-01T12:02:11.007167Z",
     "iopub.status.idle": "2022-12-01T12:02:11.013927Z",
     "shell.execute_reply": "2022-12-01T12:02:11.012807Z"
    },
    "executionInfo": {
     "elapsed": 1019,
     "status": "ok",
     "timestamp": 1667913515768,
     "user": {
      "displayName": "Aakash N S",
      "userId": "03254185060287524023"
     },
     "user_tz": -330
    },
    "id": "VyIaEATyQ_ip",
    "outputId": "655a30fa-ccf0-4839-aa2a-15f4437a5562",
    "papermill": {
     "duration": 0.046747,
     "end_time": "2022-12-01T12:02:11.016148",
     "exception": false,
     "start_time": "2022-12-01T12:02:10.969401",
     "status": "completed"
    },
    "tags": []
   },
   "outputs": [
    {
     "data": {
      "text/plain": [
       "'Do you have an adopted dog, how would you encourage people to adopt and not shop?'"
      ]
     },
     "execution_count": 26,
     "metadata": {},
     "output_type": "execute_result"
    }
   ],
   "source": [
    "q0"
   ]
  },
  {
   "cell_type": "code",
   "execution_count": 27,
   "id": "0947527a",
   "metadata": {
    "execution": {
     "iopub.execute_input": "2022-12-01T12:02:11.091741Z",
     "iopub.status.busy": "2022-12-01T12:02:11.090696Z",
     "iopub.status.idle": "2022-12-01T12:02:11.111573Z",
     "shell.execute_reply": "2022-12-01T12:02:11.110185Z"
    },
    "executionInfo": {
     "elapsed": 458,
     "status": "ok",
     "timestamp": 1667913557740,
     "user": {
      "displayName": "Aakash N S",
      "userId": "03254185060287524023"
     },
     "user_tz": -330
    },
    "id": "1yULG5nVQ_gk",
    "outputId": "83e3941f-3d29-4008-c885-b9a5eaf93912",
    "papermill": {
     "duration": 0.06046,
     "end_time": "2022-12-01T12:02:11.114159",
     "exception": false,
     "start_time": "2022-12-01T12:02:11.053699",
     "status": "completed"
    },
    "tags": []
   },
   "outputs": [
    {
     "data": {
      "text/plain": [
       "['Do',\n",
       " 'you',\n",
       " 'have',\n",
       " 'an',\n",
       " 'adopted',\n",
       " 'dog',\n",
       " ',',\n",
       " 'how',\n",
       " 'would',\n",
       " 'you',\n",
       " 'encourage',\n",
       " 'people',\n",
       " 'to',\n",
       " 'adopt',\n",
       " 'and',\n",
       " 'not',\n",
       " 'shop',\n",
       " '?']"
      ]
     },
     "execution_count": 27,
     "metadata": {},
     "output_type": "execute_result"
    }
   ],
   "source": [
    "word_tokenize(q0)"
   ]
  },
  {
   "cell_type": "code",
   "execution_count": 28,
   "id": "60b59d2c",
   "metadata": {
    "execution": {
     "iopub.execute_input": "2022-12-01T12:02:11.191151Z",
     "iopub.status.busy": "2022-12-01T12:02:11.190235Z",
     "iopub.status.idle": "2022-12-01T12:02:11.198412Z",
     "shell.execute_reply": "2022-12-01T12:02:11.197363Z"
    },
    "executionInfo": {
     "elapsed": 451,
     "status": "ok",
     "timestamp": 1667913596244,
     "user": {
      "displayName": "Aakash N S",
      "userId": "03254185060287524023"
     },
     "user_tz": -330
    },
    "id": "gJ_lrgEpZIt8",
    "outputId": "aa250716-93b6-47ab-cbd1-d9ba9076c620",
    "papermill": {
     "duration": 0.048676,
     "end_time": "2022-12-01T12:02:11.200263",
     "exception": false,
     "start_time": "2022-12-01T12:02:11.151587",
     "status": "completed"
    },
    "tags": []
   },
   "outputs": [
    {
     "data": {
      "text/plain": [
       "['this',\n",
       " 'is',\n",
       " '(',\n",
       " 'something',\n",
       " ')',\n",
       " 'with',\n",
       " ',',\n",
       " 'a',\n",
       " 'lot',\n",
       " 'of',\n",
       " ',',\n",
       " 'punctuation',\n",
       " ';']"
      ]
     },
     "execution_count": 28,
     "metadata": {},
     "output_type": "execute_result"
    }
   ],
   "source": [
    "word_tokenize(' this is (something) with, a lot of, punctuation;')"
   ]
  },
  {
   "cell_type": "code",
   "execution_count": 29,
   "id": "db817e2b",
   "metadata": {
    "execution": {
     "iopub.execute_input": "2022-12-01T12:02:11.276875Z",
     "iopub.status.busy": "2022-12-01T12:02:11.276283Z",
     "iopub.status.idle": "2022-12-01T12:02:11.282693Z",
     "shell.execute_reply": "2022-12-01T12:02:11.281693Z"
    },
    "executionInfo": {
     "elapsed": 913,
     "status": "ok",
     "timestamp": 1667913614596,
     "user": {
      "displayName": "Aakash N S",
      "userId": "03254185060287524023"
     },
     "user_tz": -330
    },
    "id": "uoP8H4KcZIr1",
    "outputId": "0800baed-d874-4f5c-ba0b-fb5aad5b0fc0",
    "papermill": {
     "duration": 0.047807,
     "end_time": "2022-12-01T12:02:11.285269",
     "exception": false,
     "start_time": "2022-12-01T12:02:11.237462",
     "status": "completed"
    },
    "tags": []
   },
   "outputs": [
    {
     "data": {
      "text/plain": [
       "'Has the United States become the largest dictatorship in the world?'"
      ]
     },
     "execution_count": 29,
     "metadata": {},
     "output_type": "execute_result"
    }
   ],
   "source": [
    "q1"
   ]
  },
  {
   "cell_type": "code",
   "execution_count": 30,
   "id": "5231e423",
   "metadata": {
    "execution": {
     "iopub.execute_input": "2022-12-01T12:02:11.362083Z",
     "iopub.status.busy": "2022-12-01T12:02:11.361677Z",
     "iopub.status.idle": "2022-12-01T12:02:11.369106Z",
     "shell.execute_reply": "2022-12-01T12:02:11.367739Z"
    },
    "executionInfo": {
     "elapsed": 977,
     "status": "ok",
     "timestamp": 1667913623231,
     "user": {
      "displayName": "Aakash N S",
      "userId": "03254185060287524023"
     },
     "user_tz": -330
    },
    "id": "Bs_0YAawZIpf",
    "outputId": "e97ea6f2-c22c-4f06-fe1f-160df99340ad",
    "papermill": {
     "duration": 0.04873,
     "end_time": "2022-12-01T12:02:11.371710",
     "exception": false,
     "start_time": "2022-12-01T12:02:11.322980",
     "status": "completed"
    },
    "tags": []
   },
   "outputs": [
    {
     "data": {
      "text/plain": [
       "['Has',\n",
       " 'the',\n",
       " 'United',\n",
       " 'States',\n",
       " 'become',\n",
       " 'the',\n",
       " 'largest',\n",
       " 'dictatorship',\n",
       " 'in',\n",
       " 'the',\n",
       " 'world',\n",
       " '?']"
      ]
     },
     "execution_count": 30,
     "metadata": {},
     "output_type": "execute_result"
    }
   ],
   "source": [
    "word_tokenize(q1)"
   ]
  },
  {
   "cell_type": "code",
   "execution_count": 31,
   "id": "34272e05",
   "metadata": {
    "execution": {
     "iopub.execute_input": "2022-12-01T12:02:11.447462Z",
     "iopub.status.busy": "2022-12-01T12:02:11.447105Z",
     "iopub.status.idle": "2022-12-01T12:02:11.453264Z",
     "shell.execute_reply": "2022-12-01T12:02:11.451633Z"
    },
    "executionInfo": {
     "elapsed": 1,
     "status": "ok",
     "timestamp": 1667913656571,
     "user": {
      "displayName": "Aakash N S",
      "userId": "03254185060287524023"
     },
     "user_tz": -330
    },
    "id": "7HNGqFYtZInd",
    "papermill": {
     "duration": 0.046989,
     "end_time": "2022-12-01T12:02:11.456023",
     "exception": false,
     "start_time": "2022-12-01T12:02:11.409034",
     "status": "completed"
    },
    "tags": []
   },
   "outputs": [],
   "source": [
    "q0_tok = word_tokenize(q0)\n",
    "q1_tok = word_tokenize(q1)"
   ]
  },
  {
   "cell_type": "markdown",
   "id": "46c5cca9",
   "metadata": {
    "id": "Mf5aqvkGZrR-",
    "papermill": {
     "duration": 0.037394,
     "end_time": "2022-12-01T12:02:11.531612",
     "exception": false,
     "start_time": "2022-12-01T12:02:11.494218",
     "status": "completed"
    },
    "tags": []
   },
   "source": [
    "### Stop Word Removal\n",
    "\n",
    "Removing commonly occuring words"
   ]
  },
  {
   "cell_type": "code",
   "execution_count": 32,
   "id": "a6e1dc54",
   "metadata": {
    "execution": {
     "iopub.execute_input": "2022-12-01T12:02:11.607631Z",
     "iopub.status.busy": "2022-12-01T12:02:11.607208Z",
     "iopub.status.idle": "2022-12-01T12:02:11.614370Z",
     "shell.execute_reply": "2022-12-01T12:02:11.613174Z"
    },
    "executionInfo": {
     "elapsed": 385,
     "status": "ok",
     "timestamp": 1667913691780,
     "user": {
      "displayName": "Aakash N S",
      "userId": "03254185060287524023"
     },
     "user_tz": -330
    },
    "id": "7yZhlXV9Zxo-",
    "outputId": "408a649d-3883-4f70-e1b5-a052ada07d60",
    "papermill": {
     "duration": 0.047371,
     "end_time": "2022-12-01T12:02:11.616333",
     "exception": false,
     "start_time": "2022-12-01T12:02:11.568962",
     "status": "completed"
    },
    "tags": []
   },
   "outputs": [
    {
     "data": {
      "text/plain": [
       "['Has',\n",
       " 'the',\n",
       " 'United',\n",
       " 'States',\n",
       " 'become',\n",
       " 'the',\n",
       " 'largest',\n",
       " 'dictatorship',\n",
       " 'in',\n",
       " 'the',\n",
       " 'world',\n",
       " '?']"
      ]
     },
     "execution_count": 32,
     "metadata": {},
     "output_type": "execute_result"
    }
   ],
   "source": [
    "q1_tok"
   ]
  },
  {
   "cell_type": "code",
   "execution_count": 33,
   "id": "0587b7da",
   "metadata": {
    "execution": {
     "iopub.execute_input": "2022-12-01T12:02:11.693237Z",
     "iopub.status.busy": "2022-12-01T12:02:11.692841Z",
     "iopub.status.idle": "2022-12-01T12:02:11.697167Z",
     "shell.execute_reply": "2022-12-01T12:02:11.696132Z"
    },
    "executionInfo": {
     "elapsed": 1009,
     "status": "ok",
     "timestamp": 1667913739715,
     "user": {
      "displayName": "Aakash N S",
      "userId": "03254185060287524023"
     },
     "user_tz": -330
    },
    "id": "s1qsENBhZrD0",
    "papermill": {
     "duration": 0.04471,
     "end_time": "2022-12-01T12:02:11.698824",
     "exception": false,
     "start_time": "2022-12-01T12:02:11.654114",
     "status": "completed"
    },
    "tags": []
   },
   "outputs": [],
   "source": [
    "from nltk.corpus import stopwords"
   ]
  },
  {
   "cell_type": "code",
   "execution_count": 34,
   "id": "cad2b586",
   "metadata": {
    "execution": {
     "iopub.execute_input": "2022-12-01T12:02:11.773713Z",
     "iopub.status.busy": "2022-12-01T12:02:11.773278Z",
     "iopub.status.idle": "2022-12-01T12:02:11.785018Z",
     "shell.execute_reply": "2022-12-01T12:02:11.783379Z"
    },
    "executionInfo": {
     "elapsed": 430,
     "status": "ok",
     "timestamp": 1667913795278,
     "user": {
      "displayName": "Aakash N S",
      "userId": "03254185060287524023"
     },
     "user_tz": -330
    },
    "id": "ejhkI9oVZrCD",
    "papermill": {
     "duration": 0.052549,
     "end_time": "2022-12-01T12:02:11.787707",
     "exception": false,
     "start_time": "2022-12-01T12:02:11.735158",
     "status": "completed"
    },
    "tags": []
   },
   "outputs": [],
   "source": [
    "english_stopwords = stopwords.words('english')"
   ]
  },
  {
   "cell_type": "code",
   "execution_count": 35,
   "id": "a2f98e42",
   "metadata": {
    "execution": {
     "iopub.execute_input": "2022-12-01T12:02:11.866049Z",
     "iopub.status.busy": "2022-12-01T12:02:11.865670Z",
     "iopub.status.idle": "2022-12-01T12:02:11.872320Z",
     "shell.execute_reply": "2022-12-01T12:02:11.871350Z"
    },
    "executionInfo": {
     "elapsed": 357,
     "status": "ok",
     "timestamp": 1667913817359,
     "user": {
      "displayName": "Aakash N S",
      "userId": "03254185060287524023"
     },
     "user_tz": -330
    },
    "id": "jB5avxBsZqxB",
    "outputId": "27c5b385-e8e1-4987-cc2a-19d43eb70308",
    "papermill": {
     "duration": 0.048062,
     "end_time": "2022-12-01T12:02:11.874323",
     "exception": false,
     "start_time": "2022-12-01T12:02:11.826261",
     "status": "completed"
    },
    "tags": []
   },
   "outputs": [
    {
     "data": {
      "text/plain": [
       "\"i, me, my, myself, we, our, ours, ourselves, you, you're, you've, you'll, you'd, your, yours, yourself, yourselves, he, him, his, himself, she, she's, her, hers, herself, it, it's, its, itself, they, them, their, theirs, themselves, what, which, who, whom, this, that, that'll, these, those, am, is, are, was, were, be, been, being, have, has, had, having, do, does, did, doing, a, an, the, and, but, if, or, because, as, until, while, of, at, by, for, with, about, against, between, into, through, during, before, after, above, below, to, from, up, down, in, out, on, off, over, under, again, further, then, once, here, there, when, where, why, how, all, any, both, each, few, more, most, other, some, such, no, nor, not, only, own, same, so, than, too, very, s, t, can, will, just, don, don't, should, should've, now, d, ll, m, o, re, ve, y, ain, aren, aren't, couldn, couldn't, didn, didn't, doesn, doesn't, hadn, hadn't, hasn, hasn't, haven, haven't, isn, isn't, ma, mightn, mightn't, mustn, mustn't, needn, needn't, shan, shan't, shouldn, shouldn't, wasn, wasn't, weren, weren't, won, won't, wouldn, wouldn't\""
      ]
     },
     "execution_count": 35,
     "metadata": {},
     "output_type": "execute_result"
    }
   ],
   "source": [
    "\", \".join(english_stopwords)"
   ]
  },
  {
   "cell_type": "code",
   "execution_count": 36,
   "id": "76b9106a",
   "metadata": {
    "execution": {
     "iopub.execute_input": "2022-12-01T12:02:11.951944Z",
     "iopub.status.busy": "2022-12-01T12:02:11.951609Z",
     "iopub.status.idle": "2022-12-01T12:02:11.956525Z",
     "shell.execute_reply": "2022-12-01T12:02:11.955404Z"
    },
    "executionInfo": {
     "elapsed": 352,
     "status": "ok",
     "timestamp": 1667913917513,
     "user": {
      "displayName": "Aakash N S",
      "userId": "03254185060287524023"
     },
     "user_tz": -330
    },
    "id": "7umWfNCvZqsF",
    "papermill": {
     "duration": 0.046739,
     "end_time": "2022-12-01T12:02:11.959123",
     "exception": false,
     "start_time": "2022-12-01T12:02:11.912384",
     "status": "completed"
    },
    "tags": []
   },
   "outputs": [],
   "source": [
    "def remove_stopwords(tokens):\n",
    "    return [word for word in tokens if word.lower() not in english_stopwords]"
   ]
  },
  {
   "cell_type": "code",
   "execution_count": 37,
   "id": "346ddc64",
   "metadata": {
    "execution": {
     "iopub.execute_input": "2022-12-01T12:02:12.036542Z",
     "iopub.status.busy": "2022-12-01T12:02:12.036202Z",
     "iopub.status.idle": "2022-12-01T12:02:12.043240Z",
     "shell.execute_reply": "2022-12-01T12:02:12.042145Z"
    },
    "executionInfo": {
     "elapsed": 930,
     "status": "ok",
     "timestamp": 1667913931371,
     "user": {
      "displayName": "Aakash N S",
      "userId": "03254185060287524023"
     },
     "user_tz": -330
    },
    "id": "15NSoE_Saq6W",
    "outputId": "4abcb5d0-fae7-4c59-f01d-c8d641d798e9",
    "papermill": {
     "duration": 0.04836,
     "end_time": "2022-12-01T12:02:12.045548",
     "exception": false,
     "start_time": "2022-12-01T12:02:11.997188",
     "status": "completed"
    },
    "tags": []
   },
   "outputs": [
    {
     "data": {
      "text/plain": [
       "['Do',\n",
       " 'you',\n",
       " 'have',\n",
       " 'an',\n",
       " 'adopted',\n",
       " 'dog',\n",
       " ',',\n",
       " 'how',\n",
       " 'would',\n",
       " 'you',\n",
       " 'encourage',\n",
       " 'people',\n",
       " 'to',\n",
       " 'adopt',\n",
       " 'and',\n",
       " 'not',\n",
       " 'shop',\n",
       " '?']"
      ]
     },
     "execution_count": 37,
     "metadata": {},
     "output_type": "execute_result"
    }
   ],
   "source": [
    "q0_tok"
   ]
  },
  {
   "cell_type": "code",
   "execution_count": 38,
   "id": "839337cd",
   "metadata": {
    "execution": {
     "iopub.execute_input": "2022-12-01T12:02:12.123069Z",
     "iopub.status.busy": "2022-12-01T12:02:12.122695Z",
     "iopub.status.idle": "2022-12-01T12:02:12.128338Z",
     "shell.execute_reply": "2022-12-01T12:02:12.127120Z"
    },
    "executionInfo": {
     "elapsed": 667,
     "status": "ok",
     "timestamp": 1667913944997,
     "user": {
      "displayName": "Aakash N S",
      "userId": "03254185060287524023"
     },
     "user_tz": -330
    },
    "id": "b59BPAClaq4B",
    "papermill": {
     "duration": 0.046585,
     "end_time": "2022-12-01T12:02:12.130230",
     "exception": false,
     "start_time": "2022-12-01T12:02:12.083645",
     "status": "completed"
    },
    "tags": []
   },
   "outputs": [],
   "source": [
    "q0_stp = remove_stopwords(q0_tok)"
   ]
  },
  {
   "cell_type": "code",
   "execution_count": 39,
   "id": "7e841105",
   "metadata": {
    "execution": {
     "iopub.execute_input": "2022-12-01T12:02:12.207153Z",
     "iopub.status.busy": "2022-12-01T12:02:12.206825Z",
     "iopub.status.idle": "2022-12-01T12:02:12.214312Z",
     "shell.execute_reply": "2022-12-01T12:02:12.212948Z"
    },
    "executionInfo": {
     "elapsed": 502,
     "status": "ok",
     "timestamp": 1667913950071,
     "user": {
      "displayName": "Aakash N S",
      "userId": "03254185060287524023"
     },
     "user_tz": -330
    },
    "id": "UJpOKfd-Zqp_",
    "outputId": "d9cd0cfc-26a5-45a2-eb18-3517d13bedda",
    "papermill": {
     "duration": 0.048931,
     "end_time": "2022-12-01T12:02:12.216897",
     "exception": false,
     "start_time": "2022-12-01T12:02:12.167966",
     "status": "completed"
    },
    "tags": []
   },
   "outputs": [
    {
     "data": {
      "text/plain": [
       "['adopted', 'dog', ',', 'would', 'encourage', 'people', 'adopt', 'shop', '?']"
      ]
     },
     "execution_count": 39,
     "metadata": {},
     "output_type": "execute_result"
    }
   ],
   "source": [
    "q0_stp"
   ]
  },
  {
   "cell_type": "code",
   "execution_count": 40,
   "id": "63528359",
   "metadata": {
    "execution": {
     "iopub.execute_input": "2022-12-01T12:02:12.293999Z",
     "iopub.status.busy": "2022-12-01T12:02:12.293615Z",
     "iopub.status.idle": "2022-12-01T12:02:12.299523Z",
     "shell.execute_reply": "2022-12-01T12:02:12.297887Z"
    },
    "executionInfo": {
     "elapsed": 476,
     "status": "ok",
     "timestamp": 1667913994939,
     "user": {
      "displayName": "Aakash N S",
      "userId": "03254185060287524023"
     },
     "user_tz": -330
    },
    "id": "IKR9dyGVa6OR",
    "papermill": {
     "duration": 0.048002,
     "end_time": "2022-12-01T12:02:12.302126",
     "exception": false,
     "start_time": "2022-12-01T12:02:12.254124",
     "status": "completed"
    },
    "tags": []
   },
   "outputs": [],
   "source": [
    "q1_stp = remove_stopwords(q1_tok)"
   ]
  },
  {
   "cell_type": "code",
   "execution_count": 41,
   "id": "9a8aad13",
   "metadata": {
    "execution": {
     "iopub.execute_input": "2022-12-01T12:02:12.379654Z",
     "iopub.status.busy": "2022-12-01T12:02:12.379235Z",
     "iopub.status.idle": "2022-12-01T12:02:12.386417Z",
     "shell.execute_reply": "2022-12-01T12:02:12.385406Z"
    },
    "executionInfo": {
     "elapsed": 699,
     "status": "ok",
     "timestamp": 1667913999121,
     "user": {
      "displayName": "Aakash N S",
      "userId": "03254185060287524023"
     },
     "user_tz": -330
    },
    "id": "_RvMiZAka6Lv",
    "outputId": "4f446d13-cf60-4da4-e6d6-50b9f46a1ad0",
    "papermill": {
     "duration": 0.048461,
     "end_time": "2022-12-01T12:02:12.388608",
     "exception": false,
     "start_time": "2022-12-01T12:02:12.340147",
     "status": "completed"
    },
    "tags": []
   },
   "outputs": [
    {
     "data": {
      "text/plain": [
       "['Has',\n",
       " 'the',\n",
       " 'United',\n",
       " 'States',\n",
       " 'become',\n",
       " 'the',\n",
       " 'largest',\n",
       " 'dictatorship',\n",
       " 'in',\n",
       " 'the',\n",
       " 'world',\n",
       " '?']"
      ]
     },
     "execution_count": 41,
     "metadata": {},
     "output_type": "execute_result"
    }
   ],
   "source": [
    "q1_tok"
   ]
  },
  {
   "cell_type": "code",
   "execution_count": 42,
   "id": "ef749594",
   "metadata": {
    "execution": {
     "iopub.execute_input": "2022-12-01T12:02:12.467494Z",
     "iopub.status.busy": "2022-12-01T12:02:12.467067Z",
     "iopub.status.idle": "2022-12-01T12:02:12.473287Z",
     "shell.execute_reply": "2022-12-01T12:02:12.472616Z"
    },
    "executionInfo": {
     "elapsed": 485,
     "status": "ok",
     "timestamp": 1667914001968,
     "user": {
      "displayName": "Aakash N S",
      "userId": "03254185060287524023"
     },
     "user_tz": -330
    },
    "id": "GqpqLKw9a-A8",
    "outputId": "9280f918-57dc-4673-bb3b-274107f8b62b",
    "papermill": {
     "duration": 0.048058,
     "end_time": "2022-12-01T12:02:12.475014",
     "exception": false,
     "start_time": "2022-12-01T12:02:12.426956",
     "status": "completed"
    },
    "tags": []
   },
   "outputs": [
    {
     "data": {
      "text/plain": [
       "['United', 'States', 'become', 'largest', 'dictatorship', 'world', '?']"
      ]
     },
     "execution_count": 42,
     "metadata": {},
     "output_type": "execute_result"
    }
   ],
   "source": [
    "q1_stp"
   ]
  },
  {
   "cell_type": "markdown",
   "id": "6cf06a8a",
   "metadata": {
    "id": "FeVx68x5bHEF",
    "papermill": {
     "duration": 0.039159,
     "end_time": "2022-12-01T12:02:12.552108",
     "exception": false,
     "start_time": "2022-12-01T12:02:12.512949",
     "status": "completed"
    },
    "tags": []
   },
   "source": [
    "### Stemming\n",
    "\n",
    "\"go\", \"gone\", \"going\" -> \"go\"\n",
    "\"birds\", \"bird\" -> \"bird\""
   ]
  },
  {
   "cell_type": "code",
   "execution_count": 43,
   "id": "56070e92",
   "metadata": {
    "execution": {
     "iopub.execute_input": "2022-12-01T12:02:12.629652Z",
     "iopub.status.busy": "2022-12-01T12:02:12.629283Z",
     "iopub.status.idle": "2022-12-01T12:02:12.634287Z",
     "shell.execute_reply": "2022-12-01T12:02:12.632967Z"
    },
    "executionInfo": {
     "elapsed": 1054,
     "status": "ok",
     "timestamp": 1667914103321,
     "user": {
      "displayName": "Aakash N S",
      "userId": "03254185060287524023"
     },
     "user_tz": -330
    },
    "id": "9jFOfSqtbG6y",
    "papermill": {
     "duration": 0.046242,
     "end_time": "2022-12-01T12:02:12.636981",
     "exception": false,
     "start_time": "2022-12-01T12:02:12.590739",
     "status": "completed"
    },
    "tags": []
   },
   "outputs": [],
   "source": [
    "from nltk.stem.snowball import SnowballStemmer"
   ]
  },
  {
   "cell_type": "code",
   "execution_count": 44,
   "id": "fcf6e954",
   "metadata": {
    "execution": {
     "iopub.execute_input": "2022-12-01T12:02:12.715214Z",
     "iopub.status.busy": "2022-12-01T12:02:12.714787Z",
     "iopub.status.idle": "2022-12-01T12:02:12.720043Z",
     "shell.execute_reply": "2022-12-01T12:02:12.718987Z"
    },
    "executionInfo": {
     "elapsed": 544,
     "status": "ok",
     "timestamp": 1667914116697,
     "user": {
      "displayName": "Aakash N S",
      "userId": "03254185060287524023"
     },
     "user_tz": -330
    },
    "id": "SC0PMIy3bG4r",
    "papermill": {
     "duration": 0.047443,
     "end_time": "2022-12-01T12:02:12.722735",
     "exception": false,
     "start_time": "2022-12-01T12:02:12.675292",
     "status": "completed"
    },
    "tags": []
   },
   "outputs": [],
   "source": [
    "stemmer = SnowballStemmer(language='english')"
   ]
  },
  {
   "cell_type": "code",
   "execution_count": 45,
   "id": "8932c7cf",
   "metadata": {
    "execution": {
     "iopub.execute_input": "2022-12-01T12:02:12.803141Z",
     "iopub.status.busy": "2022-12-01T12:02:12.802675Z",
     "iopub.status.idle": "2022-12-01T12:02:12.809821Z",
     "shell.execute_reply": "2022-12-01T12:02:12.808866Z"
    },
    "executionInfo": {
     "elapsed": 792,
     "status": "ok",
     "timestamp": 1667914135778,
     "user": {
      "displayName": "Aakash N S",
      "userId": "03254185060287524023"
     },
     "user_tz": -330
    },
    "id": "apl0nhFqbG2F",
    "outputId": "fc70d0f5-0f7a-49b4-ace3-ea1113cb8c66",
    "papermill": {
     "duration": 0.04981,
     "end_time": "2022-12-01T12:02:12.811831",
     "exception": false,
     "start_time": "2022-12-01T12:02:12.762021",
     "status": "completed"
    },
    "tags": []
   },
   "outputs": [
    {
     "data": {
      "text/plain": [
       "'go'"
      ]
     },
     "execution_count": 45,
     "metadata": {},
     "output_type": "execute_result"
    }
   ],
   "source": [
    "stemmer.stem('going')"
   ]
  },
  {
   "cell_type": "code",
   "execution_count": 46,
   "id": "5154cebe",
   "metadata": {
    "execution": {
     "iopub.execute_input": "2022-12-01T12:02:12.893255Z",
     "iopub.status.busy": "2022-12-01T12:02:12.892240Z",
     "iopub.status.idle": "2022-12-01T12:02:12.898821Z",
     "shell.execute_reply": "2022-12-01T12:02:12.897959Z"
    },
    "executionInfo": {
     "elapsed": 386,
     "status": "ok",
     "timestamp": 1667914142907,
     "user": {
      "displayName": "Aakash N S",
      "userId": "03254185060287524023"
     },
     "user_tz": -330
    },
    "id": "wtIoHT1ybGz2",
    "outputId": "3609cf3d-2c9f-4638-db1f-07ce31e63f20",
    "papermill": {
     "duration": 0.049224,
     "end_time": "2022-12-01T12:02:12.900586",
     "exception": false,
     "start_time": "2022-12-01T12:02:12.851362",
     "status": "completed"
    },
    "tags": []
   },
   "outputs": [
    {
     "data": {
      "text/plain": [
       "'suppos'"
      ]
     },
     "execution_count": 46,
     "metadata": {},
     "output_type": "execute_result"
    }
   ],
   "source": [
    "stemmer.stem('supposedly')"
   ]
  },
  {
   "cell_type": "code",
   "execution_count": 47,
   "id": "a98ed331",
   "metadata": {
    "execution": {
     "iopub.execute_input": "2022-12-01T12:02:12.978595Z",
     "iopub.status.busy": "2022-12-01T12:02:12.977367Z",
     "iopub.status.idle": "2022-12-01T12:02:12.983393Z",
     "shell.execute_reply": "2022-12-01T12:02:12.982536Z"
    },
    "executionInfo": {
     "elapsed": 364,
     "status": "ok",
     "timestamp": 1667914180406,
     "user": {
      "displayName": "Aakash N S",
      "userId": "03254185060287524023"
     },
     "user_tz": -330
    },
    "id": "hGdECu-rbmbZ",
    "papermill": {
     "duration": 0.04763,
     "end_time": "2022-12-01T12:02:12.985962",
     "exception": false,
     "start_time": "2022-12-01T12:02:12.938332",
     "status": "completed"
    },
    "tags": []
   },
   "outputs": [],
   "source": [
    "q0_stm = [stemmer.stem(word) for word in q0_stp]"
   ]
  },
  {
   "cell_type": "code",
   "execution_count": 48,
   "id": "e485715e",
   "metadata": {
    "execution": {
     "iopub.execute_input": "2022-12-01T12:02:13.066166Z",
     "iopub.status.busy": "2022-12-01T12:02:13.065620Z",
     "iopub.status.idle": "2022-12-01T12:02:13.071145Z",
     "shell.execute_reply": "2022-12-01T12:02:13.069793Z"
    },
    "executionInfo": {
     "elapsed": 817,
     "status": "ok",
     "timestamp": 1667914186316,
     "user": {
      "displayName": "Aakash N S",
      "userId": "03254185060287524023"
     },
     "user_tz": -330
    },
    "id": "BY0fs95pbqtH",
    "outputId": "5e0d4927-385f-40c7-ad88-82ec30049890",
    "papermill": {
     "duration": 0.047824,
     "end_time": "2022-12-01T12:02:13.073350",
     "exception": false,
     "start_time": "2022-12-01T12:02:13.025526",
     "status": "completed"
    },
    "tags": []
   },
   "outputs": [
    {
     "data": {
      "text/plain": [
       "['adopted', 'dog', ',', 'would', 'encourage', 'people', 'adopt', 'shop', '?']"
      ]
     },
     "execution_count": 48,
     "metadata": {},
     "output_type": "execute_result"
    }
   ],
   "source": [
    "q0_stp"
   ]
  },
  {
   "cell_type": "code",
   "execution_count": 49,
   "id": "4bcf2737",
   "metadata": {
    "execution": {
     "iopub.execute_input": "2022-12-01T12:02:13.150080Z",
     "iopub.status.busy": "2022-12-01T12:02:13.149596Z",
     "iopub.status.idle": "2022-12-01T12:02:13.155864Z",
     "shell.execute_reply": "2022-12-01T12:02:13.155190Z"
    },
    "executionInfo": {
     "elapsed": 573,
     "status": "ok",
     "timestamp": 1667914193742,
     "user": {
      "displayName": "Aakash N S",
      "userId": "03254185060287524023"
     },
     "user_tz": -330
    },
    "id": "ARuFpGkHbqn2",
    "outputId": "3e4e85e5-bb93-4feb-97f2-5141ebbcd1db",
    "papermill": {
     "duration": 0.046793,
     "end_time": "2022-12-01T12:02:13.157628",
     "exception": false,
     "start_time": "2022-12-01T12:02:13.110835",
     "status": "completed"
    },
    "tags": []
   },
   "outputs": [
    {
     "data": {
      "text/plain": [
       "['adopt', 'dog', ',', 'would', 'encourag', 'peopl', 'adopt', 'shop', '?']"
      ]
     },
     "execution_count": 49,
     "metadata": {},
     "output_type": "execute_result"
    }
   ],
   "source": [
    "q0_stm"
   ]
  },
  {
   "cell_type": "code",
   "execution_count": 50,
   "id": "86723caf",
   "metadata": {
    "execution": {
     "iopub.execute_input": "2022-12-01T12:02:13.237276Z",
     "iopub.status.busy": "2022-12-01T12:02:13.236623Z",
     "iopub.status.idle": "2022-12-01T12:02:13.241654Z",
     "shell.execute_reply": "2022-12-01T12:02:13.240570Z"
    },
    "executionInfo": {
     "elapsed": 432,
     "status": "ok",
     "timestamp": 1667914233752,
     "user": {
      "displayName": "Aakash N S",
      "userId": "03254185060287524023"
     },
     "user_tz": -330
    },
    "id": "kiFiGdCpbrot",
    "papermill": {
     "duration": 0.047291,
     "end_time": "2022-12-01T12:02:13.244215",
     "exception": false,
     "start_time": "2022-12-01T12:02:13.196924",
     "status": "completed"
    },
    "tags": []
   },
   "outputs": [],
   "source": [
    "q1_stm = [stemmer.stem(word) for word in q1_stp]"
   ]
  },
  {
   "cell_type": "code",
   "execution_count": 51,
   "id": "a4ed892e",
   "metadata": {
    "execution": {
     "iopub.execute_input": "2022-12-01T12:02:13.323292Z",
     "iopub.status.busy": "2022-12-01T12:02:13.322653Z",
     "iopub.status.idle": "2022-12-01T12:02:13.328647Z",
     "shell.execute_reply": "2022-12-01T12:02:13.327184Z"
    },
    "executionInfo": {
     "elapsed": 458,
     "status": "ok",
     "timestamp": 1667914238715,
     "user": {
      "displayName": "Aakash N S",
      "userId": "03254185060287524023"
     },
     "user_tz": -330
    },
    "id": "WweHQFO4brmn",
    "outputId": "58cc1dae-68c0-4778-9fb1-27e37e054e86",
    "papermill": {
     "duration": 0.048668,
     "end_time": "2022-12-01T12:02:13.330854",
     "exception": false,
     "start_time": "2022-12-01T12:02:13.282186",
     "status": "completed"
    },
    "tags": []
   },
   "outputs": [
    {
     "data": {
      "text/plain": [
       "['United', 'States', 'become', 'largest', 'dictatorship', 'world', '?']"
      ]
     },
     "execution_count": 51,
     "metadata": {},
     "output_type": "execute_result"
    }
   ],
   "source": [
    "q1_stp"
   ]
  },
  {
   "cell_type": "code",
   "execution_count": 52,
   "id": "6ee5c5d3",
   "metadata": {
    "execution": {
     "iopub.execute_input": "2022-12-01T12:02:13.410251Z",
     "iopub.status.busy": "2022-12-01T12:02:13.409272Z",
     "iopub.status.idle": "2022-12-01T12:02:13.415954Z",
     "shell.execute_reply": "2022-12-01T12:02:13.414946Z"
    },
    "executionInfo": {
     "elapsed": 906,
     "status": "ok",
     "timestamp": 1667914244006,
     "user": {
      "displayName": "Aakash N S",
      "userId": "03254185060287524023"
     },
     "user_tz": -330
    },
    "id": "AVu5FiAbbrkV",
    "outputId": "4a4c2193-e5b7-4f1c-8781-127e2f84efb0",
    "papermill": {
     "duration": 0.048248,
     "end_time": "2022-12-01T12:02:13.417884",
     "exception": false,
     "start_time": "2022-12-01T12:02:13.369636",
     "status": "completed"
    },
    "tags": []
   },
   "outputs": [
    {
     "data": {
      "text/plain": [
       "['unit', 'state', 'becom', 'largest', 'dictatorship', 'world', '?']"
      ]
     },
     "execution_count": 52,
     "metadata": {},
     "output_type": "execute_result"
    }
   ],
   "source": [
    "q1_stm"
   ]
  },
  {
   "cell_type": "markdown",
   "id": "eee44e22",
   "metadata": {
    "id": "VWWkiTcWcAR7",
    "papermill": {
     "duration": 0.037892,
     "end_time": "2022-12-01T12:02:13.494146",
     "exception": false,
     "start_time": "2022-12-01T12:02:13.456254",
     "status": "completed"
    },
    "tags": []
   },
   "source": [
    "### Lemmatization\n",
    "\n",
    "\"love\" -> \"love\"\n",
    "\"loving\" -> \"love\"\n",
    "\"lovable\" -> \"love\"\n"
   ]
  },
  {
   "cell_type": "markdown",
   "id": "96ad1bee",
   "metadata": {
    "id": "CuTR9sOWQoMq",
    "papermill": {
     "duration": 0.03808,
     "end_time": "2022-12-01T12:02:13.570184",
     "exception": false,
     "start_time": "2022-12-01T12:02:13.532104",
     "status": "completed"
    },
    "tags": []
   },
   "source": [
    "## Implement Bag of Words \n",
    "\n",
    "\n",
    "Outline:\n",
    "\n",
    "1. Create a vocabulary using Count Vectorizer\n",
    "2. Transform text to vectors using Count Vectorizer\n",
    "3. Configure text preprocessing in Count Vectorizer"
   ]
  },
  {
   "cell_type": "markdown",
   "id": "3440072c",
   "metadata": {
    "id": "0HWShc6jdPFy",
    "papermill": {
     "duration": 0.037268,
     "end_time": "2022-12-01T12:02:13.645684",
     "exception": false,
     "start_time": "2022-12-01T12:02:13.608416",
     "status": "completed"
    },
    "tags": []
   },
   "source": [
    "### Create a Vocabulary"
   ]
  },
  {
   "cell_type": "code",
   "execution_count": 53,
   "id": "c53a7b2d",
   "metadata": {
    "execution": {
     "iopub.execute_input": "2022-12-01T12:02:13.723087Z",
     "iopub.status.busy": "2022-12-01T12:02:13.722705Z",
     "iopub.status.idle": "2022-12-01T12:02:13.735440Z",
     "shell.execute_reply": "2022-12-01T12:02:13.734289Z"
    },
    "executionInfo": {
     "elapsed": 419,
     "status": "ok",
     "timestamp": 1667914532328,
     "user": {
      "displayName": "Aakash N S",
      "userId": "03254185060287524023"
     },
     "user_tz": -330
    },
    "id": "uGScEAd9c_dQ",
    "outputId": "e923813b-b8fd-438b-a6f0-743c280a204d",
    "papermill": {
     "duration": 0.054066,
     "end_time": "2022-12-01T12:02:13.737382",
     "exception": false,
     "start_time": "2022-12-01T12:02:13.683316",
     "status": "completed"
    },
    "tags": []
   },
   "outputs": [
    {
     "data": {
      "text/html": [
       "<div>\n",
       "<style scoped>\n",
       "    .dataframe tbody tr th:only-of-type {\n",
       "        vertical-align: middle;\n",
       "    }\n",
       "\n",
       "    .dataframe tbody tr th {\n",
       "        vertical-align: top;\n",
       "    }\n",
       "\n",
       "    .dataframe thead th {\n",
       "        text-align: right;\n",
       "    }\n",
       "</style>\n",
       "<table border=\"1\" class=\"dataframe\">\n",
       "  <thead>\n",
       "    <tr style=\"text-align: right;\">\n",
       "      <th></th>\n",
       "      <th>qid</th>\n",
       "      <th>question_text</th>\n",
       "      <th>target</th>\n",
       "    </tr>\n",
       "  </thead>\n",
       "  <tbody>\n",
       "    <tr>\n",
       "      <th>0</th>\n",
       "      <td>00002165364db923c7e6</td>\n",
       "      <td>How did Quebec nationalists see their province...</td>\n",
       "      <td>0</td>\n",
       "    </tr>\n",
       "    <tr>\n",
       "      <th>1</th>\n",
       "      <td>000032939017120e6e44</td>\n",
       "      <td>Do you have an adopted dog, how would you enco...</td>\n",
       "      <td>0</td>\n",
       "    </tr>\n",
       "    <tr>\n",
       "      <th>2</th>\n",
       "      <td>0000412ca6e4628ce2cf</td>\n",
       "      <td>Why does velocity affect time? Does velocity a...</td>\n",
       "      <td>0</td>\n",
       "    </tr>\n",
       "    <tr>\n",
       "      <th>3</th>\n",
       "      <td>000042bf85aa498cd78e</td>\n",
       "      <td>How did Otto von Guericke used the Magdeburg h...</td>\n",
       "      <td>0</td>\n",
       "    </tr>\n",
       "    <tr>\n",
       "      <th>4</th>\n",
       "      <td>0000455dfa3e01eae3af</td>\n",
       "      <td>Can I convert montra helicon D to a mountain b...</td>\n",
       "      <td>0</td>\n",
       "    </tr>\n",
       "    <tr>\n",
       "      <th>...</th>\n",
       "      <td>...</td>\n",
       "      <td>...</td>\n",
       "      <td>...</td>\n",
       "    </tr>\n",
       "    <tr>\n",
       "      <th>1306117</th>\n",
       "      <td>ffffcc4e2331aaf1e41e</td>\n",
       "      <td>What other technical skills do you need as a c...</td>\n",
       "      <td>0</td>\n",
       "    </tr>\n",
       "    <tr>\n",
       "      <th>1306118</th>\n",
       "      <td>ffffd431801e5a2f4861</td>\n",
       "      <td>Does MS in ECE have good job prospects in USA ...</td>\n",
       "      <td>0</td>\n",
       "    </tr>\n",
       "    <tr>\n",
       "      <th>1306119</th>\n",
       "      <td>ffffd48fb36b63db010c</td>\n",
       "      <td>Is foam insulation toxic?</td>\n",
       "      <td>0</td>\n",
       "    </tr>\n",
       "    <tr>\n",
       "      <th>1306120</th>\n",
       "      <td>ffffec519fa37cf60c78</td>\n",
       "      <td>How can one start a research project based on ...</td>\n",
       "      <td>0</td>\n",
       "    </tr>\n",
       "    <tr>\n",
       "      <th>1306121</th>\n",
       "      <td>ffffed09fedb5088744a</td>\n",
       "      <td>Who wins in a battle between a Wolverine and a...</td>\n",
       "      <td>0</td>\n",
       "    </tr>\n",
       "  </tbody>\n",
       "</table>\n",
       "<p>1306122 rows × 3 columns</p>\n",
       "</div>"
      ],
      "text/plain": [
       "                          qid  \\\n",
       "0        00002165364db923c7e6   \n",
       "1        000032939017120e6e44   \n",
       "2        0000412ca6e4628ce2cf   \n",
       "3        000042bf85aa498cd78e   \n",
       "4        0000455dfa3e01eae3af   \n",
       "...                       ...   \n",
       "1306117  ffffcc4e2331aaf1e41e   \n",
       "1306118  ffffd431801e5a2f4861   \n",
       "1306119  ffffd48fb36b63db010c   \n",
       "1306120  ffffec519fa37cf60c78   \n",
       "1306121  ffffed09fedb5088744a   \n",
       "\n",
       "                                             question_text  target  \n",
       "0        How did Quebec nationalists see their province...       0  \n",
       "1        Do you have an adopted dog, how would you enco...       0  \n",
       "2        Why does velocity affect time? Does velocity a...       0  \n",
       "3        How did Otto von Guericke used the Magdeburg h...       0  \n",
       "4        Can I convert montra helicon D to a mountain b...       0  \n",
       "...                                                    ...     ...  \n",
       "1306117  What other technical skills do you need as a c...       0  \n",
       "1306118  Does MS in ECE have good job prospects in USA ...       0  \n",
       "1306119                          Is foam insulation toxic?       0  \n",
       "1306120  How can one start a research project based on ...       0  \n",
       "1306121  Who wins in a battle between a Wolverine and a...       0  \n",
       "\n",
       "[1306122 rows x 3 columns]"
      ]
     },
     "execution_count": 53,
     "metadata": {},
     "output_type": "execute_result"
    }
   ],
   "source": [
    "sample_df"
   ]
  },
  {
   "cell_type": "code",
   "execution_count": 54,
   "id": "5703482d",
   "metadata": {
    "execution": {
     "iopub.execute_input": "2022-12-01T12:02:13.817203Z",
     "iopub.status.busy": "2022-12-01T12:02:13.815902Z",
     "iopub.status.idle": "2022-12-01T12:02:13.820911Z",
     "shell.execute_reply": "2022-12-01T12:02:13.820254Z"
    },
    "executionInfo": {
     "elapsed": 707,
     "status": "ok",
     "timestamp": 1667914559612,
     "user": {
      "displayName": "Aakash N S",
      "userId": "03254185060287524023"
     },
     "user_tz": -330
    },
    "id": "IKj0BM2NRATm",
    "papermill": {
     "duration": 0.047546,
     "end_time": "2022-12-01T12:02:13.822692",
     "exception": false,
     "start_time": "2022-12-01T12:02:13.775146",
     "status": "completed"
    },
    "tags": []
   },
   "outputs": [],
   "source": [
    "#taking snall data for test our count vectorizer\n",
    "small_df = sample_df[:5]"
   ]
  },
  {
   "cell_type": "code",
   "execution_count": 55,
   "id": "45bcaf06",
   "metadata": {
    "execution": {
     "iopub.execute_input": "2022-12-01T12:02:13.902754Z",
     "iopub.status.busy": "2022-12-01T12:02:13.902262Z",
     "iopub.status.idle": "2022-12-01T12:02:13.913880Z",
     "shell.execute_reply": "2022-12-01T12:02:13.912869Z"
    },
    "executionInfo": {
     "elapsed": 1222,
     "status": "ok",
     "timestamp": 1667914576774,
     "user": {
      "displayName": "Aakash N S",
      "userId": "03254185060287524023"
     },
     "user_tz": -330
    },
    "id": "awqkIOZEdKFu",
    "outputId": "9c110405-71e1-4c72-c02c-dfbc1d5be43c",
    "papermill": {
     "duration": 0.054191,
     "end_time": "2022-12-01T12:02:13.915826",
     "exception": false,
     "start_time": "2022-12-01T12:02:13.861635",
     "status": "completed"
    },
    "tags": []
   },
   "outputs": [
    {
     "data": {
      "text/html": [
       "<div>\n",
       "<style scoped>\n",
       "    .dataframe tbody tr th:only-of-type {\n",
       "        vertical-align: middle;\n",
       "    }\n",
       "\n",
       "    .dataframe tbody tr th {\n",
       "        vertical-align: top;\n",
       "    }\n",
       "\n",
       "    .dataframe thead th {\n",
       "        text-align: right;\n",
       "    }\n",
       "</style>\n",
       "<table border=\"1\" class=\"dataframe\">\n",
       "  <thead>\n",
       "    <tr style=\"text-align: right;\">\n",
       "      <th></th>\n",
       "      <th>qid</th>\n",
       "      <th>question_text</th>\n",
       "      <th>target</th>\n",
       "    </tr>\n",
       "  </thead>\n",
       "  <tbody>\n",
       "    <tr>\n",
       "      <th>0</th>\n",
       "      <td>00002165364db923c7e6</td>\n",
       "      <td>How did Quebec nationalists see their province...</td>\n",
       "      <td>0</td>\n",
       "    </tr>\n",
       "    <tr>\n",
       "      <th>1</th>\n",
       "      <td>000032939017120e6e44</td>\n",
       "      <td>Do you have an adopted dog, how would you enco...</td>\n",
       "      <td>0</td>\n",
       "    </tr>\n",
       "    <tr>\n",
       "      <th>2</th>\n",
       "      <td>0000412ca6e4628ce2cf</td>\n",
       "      <td>Why does velocity affect time? Does velocity a...</td>\n",
       "      <td>0</td>\n",
       "    </tr>\n",
       "    <tr>\n",
       "      <th>3</th>\n",
       "      <td>000042bf85aa498cd78e</td>\n",
       "      <td>How did Otto von Guericke used the Magdeburg h...</td>\n",
       "      <td>0</td>\n",
       "    </tr>\n",
       "    <tr>\n",
       "      <th>4</th>\n",
       "      <td>0000455dfa3e01eae3af</td>\n",
       "      <td>Can I convert montra helicon D to a mountain b...</td>\n",
       "      <td>0</td>\n",
       "    </tr>\n",
       "  </tbody>\n",
       "</table>\n",
       "</div>"
      ],
      "text/plain": [
       "                    qid                                      question_text  \\\n",
       "0  00002165364db923c7e6  How did Quebec nationalists see their province...   \n",
       "1  000032939017120e6e44  Do you have an adopted dog, how would you enco...   \n",
       "2  0000412ca6e4628ce2cf  Why does velocity affect time? Does velocity a...   \n",
       "3  000042bf85aa498cd78e  How did Otto von Guericke used the Magdeburg h...   \n",
       "4  0000455dfa3e01eae3af  Can I convert montra helicon D to a mountain b...   \n",
       "\n",
       "   target  \n",
       "0       0  \n",
       "1       0  \n",
       "2       0  \n",
       "3       0  \n",
       "4       0  "
      ]
     },
     "execution_count": 55,
     "metadata": {},
     "output_type": "execute_result"
    }
   ],
   "source": [
    "small_df"
   ]
  },
  {
   "cell_type": "code",
   "execution_count": 56,
   "id": "7d1e135f",
   "metadata": {
    "execution": {
     "iopub.execute_input": "2022-12-01T12:02:13.993314Z",
     "iopub.status.busy": "2022-12-01T12:02:13.992110Z",
     "iopub.status.idle": "2022-12-01T12:02:13.998626Z",
     "shell.execute_reply": "2022-12-01T12:02:13.997816Z"
    },
    "executionInfo": {
     "elapsed": 430,
     "status": "ok",
     "timestamp": 1667914566540,
     "user": {
      "displayName": "Aakash N S",
      "userId": "03254185060287524023"
     },
     "user_tz": -330
    },
    "id": "XZOIXmC3RARh",
    "outputId": "330c3a06-1368-40de-ae9c-40f0061e61d6",
    "papermill": {
     "duration": 0.046746,
     "end_time": "2022-12-01T12:02:14.000264",
     "exception": false,
     "start_time": "2022-12-01T12:02:13.953518",
     "status": "completed"
    },
    "tags": []
   },
   "outputs": [
    {
     "data": {
      "text/plain": [
       "array(['How did Quebec nationalists see their province as a nation in the 1960s?',\n",
       "       'Do you have an adopted dog, how would you encourage people to adopt and not shop?',\n",
       "       'Why does velocity affect time? Does velocity affect space geometry?',\n",
       "       'How did Otto von Guericke used the Magdeburg hemispheres?',\n",
       "       'Can I convert montra helicon D to a mountain bike by just changing the tyres?'],\n",
       "      dtype=object)"
      ]
     },
     "execution_count": 56,
     "metadata": {},
     "output_type": "execute_result"
    }
   ],
   "source": [
    "small_df.question_text.values"
   ]
  },
  {
   "cell_type": "code",
   "execution_count": 57,
   "id": "6cdc450b",
   "metadata": {
    "execution": {
     "iopub.execute_input": "2022-12-01T12:02:14.076755Z",
     "iopub.status.busy": "2022-12-01T12:02:14.076254Z",
     "iopub.status.idle": "2022-12-01T12:02:14.080026Z",
     "shell.execute_reply": "2022-12-01T12:02:14.079477Z"
    },
    "executionInfo": {
     "elapsed": 362,
     "status": "ok",
     "timestamp": 1667914669258,
     "user": {
      "displayName": "Aakash N S",
      "userId": "03254185060287524023"
     },
     "user_tz": -330
    },
    "id": "Yr3XgzBWdNNx",
    "papermill": {
     "duration": 0.04474,
     "end_time": "2022-12-01T12:02:14.082415",
     "exception": false,
     "start_time": "2022-12-01T12:02:14.037675",
     "status": "completed"
    },
    "tags": []
   },
   "outputs": [],
   "source": [
    "from sklearn.feature_extraction.text import CountVectorizer"
   ]
  },
  {
   "cell_type": "code",
   "execution_count": 58,
   "id": "e47f6fd4",
   "metadata": {
    "execution": {
     "iopub.execute_input": "2022-12-01T12:02:14.162757Z",
     "iopub.status.busy": "2022-12-01T12:02:14.162223Z",
     "iopub.status.idle": "2022-12-01T12:02:14.166073Z",
     "shell.execute_reply": "2022-12-01T12:02:14.165145Z"
    },
    "executionInfo": {
     "elapsed": 351,
     "status": "ok",
     "timestamp": 1667914677547,
     "user": {
      "displayName": "Aakash N S",
      "userId": "03254185060287524023"
     },
     "user_tz": -330
    },
    "id": "-sE8WL3-dNLf",
    "papermill": {
     "duration": 0.046479,
     "end_time": "2022-12-01T12:02:14.168142",
     "exception": false,
     "start_time": "2022-12-01T12:02:14.121663",
     "status": "completed"
    },
    "tags": []
   },
   "outputs": [],
   "source": [
    "small_vect = CountVectorizer()"
   ]
  },
  {
   "cell_type": "code",
   "execution_count": 59,
   "id": "8e476e55",
   "metadata": {
    "execution": {
     "iopub.execute_input": "2022-12-01T12:02:14.248655Z",
     "iopub.status.busy": "2022-12-01T12:02:14.248232Z",
     "iopub.status.idle": "2022-12-01T12:02:14.263882Z",
     "shell.execute_reply": "2022-12-01T12:02:14.263156Z"
    },
    "executionInfo": {
     "elapsed": 409,
     "status": "ok",
     "timestamp": 1667914713345,
     "user": {
      "displayName": "Aakash N S",
      "userId": "03254185060287524023"
     },
     "user_tz": -330
    },
    "id": "ba9oOkD6RAPP",
    "outputId": "eccc7e9b-266b-4aea-90fa-654fa176b504",
    "papermill": {
     "duration": 0.058519,
     "end_time": "2022-12-01T12:02:14.265786",
     "exception": false,
     "start_time": "2022-12-01T12:02:14.207267",
     "status": "completed"
    },
    "tags": []
   },
   "outputs": [
    {
     "data": {
      "text/plain": [
       "CountVectorizer()"
      ]
     },
     "execution_count": 59,
     "metadata": {},
     "output_type": "execute_result"
    }
   ],
   "source": [
    "small_vect.fit(small_df.question_text)"
   ]
  },
  {
   "cell_type": "code",
   "execution_count": 60,
   "id": "98becba1",
   "metadata": {
    "execution": {
     "iopub.execute_input": "2022-12-01T12:02:14.344007Z",
     "iopub.status.busy": "2022-12-01T12:02:14.343611Z",
     "iopub.status.idle": "2022-12-01T12:02:14.351282Z",
     "shell.execute_reply": "2022-12-01T12:02:14.350191Z"
    },
    "executionInfo": {
     "elapsed": 651,
     "status": "ok",
     "timestamp": 1667914761316,
     "user": {
      "displayName": "Aakash N S",
      "userId": "03254185060287524023"
     },
     "user_tz": -330
    },
    "id": "-QPGkxLZdkPy",
    "outputId": "7de3797e-3a41-4bb1-c581-ad7bd7610eb4",
    "papermill": {
     "duration": 0.048881,
     "end_time": "2022-12-01T12:02:14.353367",
     "exception": false,
     "start_time": "2022-12-01T12:02:14.304486",
     "status": "completed"
    },
    "tags": []
   },
   "outputs": [
    {
     "data": {
      "text/plain": [
       "array(['1960s', 'adopt', 'adopted', 'affect', 'an', 'and', 'as', 'bike',\n",
       "       'by', 'can', 'changing', 'convert', 'did', 'do', 'does', 'dog',\n",
       "       'encourage', 'geometry', 'guericke', 'have', 'helicon',\n",
       "       'hemispheres', 'how', 'in', 'just', 'magdeburg', 'montra',\n",
       "       'mountain', 'nation', 'nationalists', 'not', 'otto', 'people',\n",
       "       'province', 'quebec', 'see', 'shop', 'space', 'the', 'their',\n",
       "       'time', 'to', 'tyres', 'used', 'velocity', 'von', 'why', 'would',\n",
       "       'you'], dtype=object)"
      ]
     },
     "execution_count": 60,
     "metadata": {},
     "output_type": "execute_result"
    }
   ],
   "source": [
    "small_vect.get_feature_names_out()"
   ]
  },
  {
   "cell_type": "markdown",
   "id": "0b0d30d0",
   "metadata": {
    "id": "WXsUWz_hd9KE",
    "papermill": {
     "duration": 0.038564,
     "end_time": "2022-12-01T12:02:14.431638",
     "exception": false,
     "start_time": "2022-12-01T12:02:14.393074",
     "status": "completed"
    },
    "tags": []
   },
   "source": [
    "### Transform documents into Vectors"
   ]
  },
  {
   "cell_type": "code",
   "execution_count": 61,
   "id": "0f3fc2c2",
   "metadata": {
    "execution": {
     "iopub.execute_input": "2022-12-01T12:02:14.511022Z",
     "iopub.status.busy": "2022-12-01T12:02:14.510638Z",
     "iopub.status.idle": "2022-12-01T12:02:14.517006Z",
     "shell.execute_reply": "2022-12-01T12:02:14.515380Z"
    },
    "executionInfo": {
     "elapsed": 533,
     "status": "ok",
     "timestamp": 1667914847949,
     "user": {
      "displayName": "Aakash N S",
      "userId": "03254185060287524023"
     },
     "user_tz": -330
    },
    "id": "nZVZ3jIddkKT",
    "papermill": {
     "duration": 0.048075,
     "end_time": "2022-12-01T12:02:14.519081",
     "exception": false,
     "start_time": "2022-12-01T12:02:14.471006",
     "status": "completed"
    },
    "tags": []
   },
   "outputs": [],
   "source": [
    "vectors = small_vect.transform(small_df.question_text)"
   ]
  },
  {
   "cell_type": "code",
   "execution_count": 62,
   "id": "be2fd2c1",
   "metadata": {
    "execution": {
     "iopub.execute_input": "2022-12-01T12:02:14.599306Z",
     "iopub.status.busy": "2022-12-01T12:02:14.598681Z",
     "iopub.status.idle": "2022-12-01T12:02:14.604454Z",
     "shell.execute_reply": "2022-12-01T12:02:14.603809Z"
    },
    "executionInfo": {
     "elapsed": 638,
     "status": "ok",
     "timestamp": 1667914853853,
     "user": {
      "displayName": "Aakash N S",
      "userId": "03254185060287524023"
     },
     "user_tz": -330
    },
    "id": "MIGbsQEQdkHt",
    "outputId": "1ad2eff7-d795-4c0e-ab60-f88ce7b4ed8c",
    "papermill": {
     "duration": 0.047804,
     "end_time": "2022-12-01T12:02:14.606178",
     "exception": false,
     "start_time": "2022-12-01T12:02:14.558374",
     "status": "completed"
    },
    "tags": []
   },
   "outputs": [
    {
     "data": {
      "text/plain": [
       "<5x49 sparse matrix of type '<class 'numpy.int64'>'\n",
       "\twith 55 stored elements in Compressed Sparse Row format>"
      ]
     },
     "execution_count": 62,
     "metadata": {},
     "output_type": "execute_result"
    }
   ],
   "source": [
    "vectors"
   ]
  },
  {
   "cell_type": "code",
   "execution_count": 63,
   "id": "ed9069c6",
   "metadata": {
    "execution": {
     "iopub.execute_input": "2022-12-01T12:02:14.685287Z",
     "iopub.status.busy": "2022-12-01T12:02:14.684953Z",
     "iopub.status.idle": "2022-12-01T12:02:14.690229Z",
     "shell.execute_reply": "2022-12-01T12:02:14.689406Z"
    },
    "executionInfo": {
     "elapsed": 630,
     "status": "ok",
     "timestamp": 1667914900662,
     "user": {
      "displayName": "Aakash N S",
      "userId": "03254185060287524023"
     },
     "user_tz": -330
    },
    "id": "wriwC-1DeZPA",
    "outputId": "9b7a3cba-e4e6-4023-851b-7cb6b6029f40",
    "papermill": {
     "duration": 0.047083,
     "end_time": "2022-12-01T12:02:14.692097",
     "exception": false,
     "start_time": "2022-12-01T12:02:14.645014",
     "status": "completed"
    },
    "tags": []
   },
   "outputs": [
    {
     "data": {
      "text/plain": [
       "(5, 49)"
      ]
     },
     "execution_count": 63,
     "metadata": {},
     "output_type": "execute_result"
    }
   ],
   "source": [
    "vectors.shape"
   ]
  },
  {
   "cell_type": "code",
   "execution_count": 64,
   "id": "b81aa510",
   "metadata": {
    "execution": {
     "iopub.execute_input": "2022-12-01T12:02:14.772556Z",
     "iopub.status.busy": "2022-12-01T12:02:14.771843Z",
     "iopub.status.idle": "2022-12-01T12:02:14.778107Z",
     "shell.execute_reply": "2022-12-01T12:02:14.777477Z"
    },
    "executionInfo": {
     "elapsed": 495,
     "status": "ok",
     "timestamp": 1667914953574,
     "user": {
      "displayName": "Aakash N S",
      "userId": "03254185060287524023"
     },
     "user_tz": -330
    },
    "id": "bXtFEWjtekqt",
    "outputId": "a4c659e8-4c86-478e-c827-ddbacde28bd9",
    "papermill": {
     "duration": 0.048197,
     "end_time": "2022-12-01T12:02:14.779813",
     "exception": false,
     "start_time": "2022-12-01T12:02:14.731616",
     "status": "completed"
    },
    "tags": []
   },
   "outputs": [
    {
     "data": {
      "text/plain": [
       "'How did Quebec nationalists see their province as a nation in the 1960s?'"
      ]
     },
     "execution_count": 64,
     "metadata": {},
     "output_type": "execute_result"
    }
   ],
   "source": [
    "small_df.question_text.values[0]"
   ]
  },
  {
   "cell_type": "code",
   "execution_count": 65,
   "id": "3055ad47",
   "metadata": {
    "execution": {
     "iopub.execute_input": "2022-12-01T12:02:14.861119Z",
     "iopub.status.busy": "2022-12-01T12:02:14.860513Z",
     "iopub.status.idle": "2022-12-01T12:02:14.867587Z",
     "shell.execute_reply": "2022-12-01T12:02:14.866386Z"
    },
    "executionInfo": {
     "elapsed": 982,
     "status": "ok",
     "timestamp": 1667915020439,
     "user": {
      "displayName": "Aakash N S",
      "userId": "03254185060287524023"
     },
     "user_tz": -330
    },
    "id": "etQ-T7_1e0vF",
    "outputId": "9446f31f-ae80-4fac-857f-42f9481bafed",
    "papermill": {
     "duration": 0.050082,
     "end_time": "2022-12-01T12:02:14.869622",
     "exception": false,
     "start_time": "2022-12-01T12:02:14.819540",
     "status": "completed"
    },
    "tags": []
   },
   "outputs": [
    {
     "data": {
      "text/plain": [
       "array([[1, 0, 0, 0, 0, 0, 1, 0, 0, 0, 0, 0, 1, 0, 0, 0, 0, 0, 0, 0, 0, 0,\n",
       "        1, 1, 0, 0, 0, 0, 1, 1, 0, 0, 0, 1, 1, 1, 0, 0, 1, 1, 0, 0, 0, 0,\n",
       "        0, 0, 0, 0, 0]])"
      ]
     },
     "execution_count": 65,
     "metadata": {},
     "output_type": "execute_result"
    }
   ],
   "source": [
    "vectors[0].toarray()"
   ]
  },
  {
   "cell_type": "code",
   "execution_count": 66,
   "id": "ac60815e",
   "metadata": {
    "execution": {
     "iopub.execute_input": "2022-12-01T12:02:14.950215Z",
     "iopub.status.busy": "2022-12-01T12:02:14.949875Z",
     "iopub.status.idle": "2022-12-01T12:02:14.956763Z",
     "shell.execute_reply": "2022-12-01T12:02:14.955791Z"
    },
    "executionInfo": {
     "elapsed": 483,
     "status": "ok",
     "timestamp": 1667914889375,
     "user": {
      "displayName": "Aakash N S",
      "userId": "03254185060287524023"
     },
     "user_tz": -330
    },
    "id": "hSrf1ZPndkFX",
    "outputId": "63dd68aa-56d5-4838-9f41-9f12c165e9b2",
    "papermill": {
     "duration": 0.049577,
     "end_time": "2022-12-01T12:02:14.958586",
     "exception": false,
     "start_time": "2022-12-01T12:02:14.909009",
     "status": "completed"
    },
    "tags": []
   },
   "outputs": [
    {
     "data": {
      "text/plain": [
       "array([[1, 0, 0, 0, 0, 0, 1, 0, 0, 0, 0, 0, 1, 0, 0, 0, 0, 0, 0, 0, 0, 0,\n",
       "        1, 1, 0, 0, 0, 0, 1, 1, 0, 0, 0, 1, 1, 1, 0, 0, 1, 1, 0, 0, 0, 0,\n",
       "        0, 0, 0, 0, 0],\n",
       "       [0, 1, 1, 0, 1, 1, 0, 0, 0, 0, 0, 0, 0, 1, 0, 1, 1, 0, 0, 1, 0, 0,\n",
       "        1, 0, 0, 0, 0, 0, 0, 0, 1, 0, 1, 0, 0, 0, 1, 0, 0, 0, 0, 1, 0, 0,\n",
       "        0, 0, 0, 1, 2],\n",
       "       [0, 0, 0, 2, 0, 0, 0, 0, 0, 0, 0, 0, 0, 0, 2, 0, 0, 1, 0, 0, 0, 0,\n",
       "        0, 0, 0, 0, 0, 0, 0, 0, 0, 0, 0, 0, 0, 0, 0, 1, 0, 0, 1, 0, 0, 0,\n",
       "        2, 0, 1, 0, 0],\n",
       "       [0, 0, 0, 0, 0, 0, 0, 0, 0, 0, 0, 0, 1, 0, 0, 0, 0, 0, 1, 0, 0, 1,\n",
       "        1, 0, 0, 1, 0, 0, 0, 0, 0, 1, 0, 0, 0, 0, 0, 0, 1, 0, 0, 0, 0, 1,\n",
       "        0, 1, 0, 0, 0],\n",
       "       [0, 0, 0, 0, 0, 0, 0, 1, 1, 1, 1, 1, 0, 0, 0, 0, 0, 0, 0, 0, 1, 0,\n",
       "        0, 0, 1, 0, 1, 1, 0, 0, 0, 0, 0, 0, 0, 0, 0, 0, 1, 0, 0, 1, 1, 0,\n",
       "        0, 0, 0, 0, 0]])"
      ]
     },
     "execution_count": 66,
     "metadata": {},
     "output_type": "execute_result"
    }
   ],
   "source": [
    "vectors.toarray()"
   ]
  },
  {
   "cell_type": "markdown",
   "id": "c2038802",
   "metadata": {
    "id": "vZPCOwobe485",
    "papermill": {
     "duration": 0.039953,
     "end_time": "2022-12-01T12:02:15.037933",
     "exception": false,
     "start_time": "2022-12-01T12:02:14.997980",
     "status": "completed"
    },
    "tags": []
   },
   "source": [
    "### Configure Count Vectorizer Parameters"
   ]
  },
  {
   "cell_type": "code",
   "execution_count": 67,
   "id": "9e34ade0",
   "metadata": {
    "execution": {
     "iopub.execute_input": "2022-12-01T12:02:15.118111Z",
     "iopub.status.busy": "2022-12-01T12:02:15.117679Z",
     "iopub.status.idle": "2022-12-01T12:02:15.122684Z",
     "shell.execute_reply": "2022-12-01T12:02:15.121639Z"
    },
    "executionInfo": {
     "elapsed": 391,
     "status": "ok",
     "timestamp": 1667915246398,
     "user": {
      "displayName": "Aakash N S",
      "userId": "03254185060287524023"
     },
     "user_tz": -330
    },
    "id": "xUjZDsdqfq4u",
    "papermill": {
     "duration": 0.047717,
     "end_time": "2022-12-01T12:02:15.124441",
     "exception": false,
     "start_time": "2022-12-01T12:02:15.076724",
     "status": "completed"
    },
    "tags": []
   },
   "outputs": [],
   "source": [
    "stemmer = SnowballStemmer(language='english')"
   ]
  },
  {
   "cell_type": "code",
   "execution_count": 68,
   "id": "820034dd",
   "metadata": {
    "execution": {
     "iopub.execute_input": "2022-12-01T12:02:15.206595Z",
     "iopub.status.busy": "2022-12-01T12:02:15.205986Z",
     "iopub.status.idle": "2022-12-01T12:02:15.210391Z",
     "shell.execute_reply": "2022-12-01T12:02:15.209793Z"
    },
    "executionInfo": {
     "elapsed": 368,
     "status": "ok",
     "timestamp": 1667915256240,
     "user": {
      "displayName": "Aakash N S",
      "userId": "03254185060287524023"
     },
     "user_tz": -330
    },
    "id": "9hZzn1LBfPoM",
    "papermill": {
     "duration": 0.046786,
     "end_time": "2022-12-01T12:02:15.212251",
     "exception": false,
     "start_time": "2022-12-01T12:02:15.165465",
     "status": "completed"
    },
    "tags": []
   },
   "outputs": [],
   "source": [
    "def tokenize(text):\n",
    "    return [stemmer.stem(word) for word in word_tokenize(text)]"
   ]
  },
  {
   "cell_type": "code",
   "execution_count": 69,
   "id": "fd225e14",
   "metadata": {
    "execution": {
     "iopub.execute_input": "2022-12-01T12:02:15.291020Z",
     "iopub.status.busy": "2022-12-01T12:02:15.290392Z",
     "iopub.status.idle": "2022-12-01T12:02:15.296367Z",
     "shell.execute_reply": "2022-12-01T12:02:15.295668Z"
    },
    "executionInfo": {
     "elapsed": 358,
     "status": "ok",
     "timestamp": 1667915263406,
     "user": {
      "displayName": "Aakash N S",
      "userId": "03254185060287524023"
     },
     "user_tz": -330
    },
    "id": "OAausoIrfa2I",
    "outputId": "96c1e3a3-1f5c-40d0-e05b-1c32046aff8c",
    "papermill": {
     "duration": 0.04746,
     "end_time": "2022-12-01T12:02:15.298147",
     "exception": false,
     "start_time": "2022-12-01T12:02:15.250687",
     "status": "completed"
    },
    "tags": []
   },
   "outputs": [
    {
     "data": {
      "text/plain": [
       "['what', 'is', 'the', 'realli', '(', 'deal', ')', 'here', '?']"
      ]
     },
     "execution_count": 69,
     "metadata": {},
     "output_type": "execute_result"
    }
   ],
   "source": [
    "tokenize('What is the really (dealing) here?')"
   ]
  },
  {
   "cell_type": "code",
   "execution_count": 70,
   "id": "1eab63e5",
   "metadata": {
    "execution": {
     "iopub.execute_input": "2022-12-01T12:02:15.377216Z",
     "iopub.status.busy": "2022-12-01T12:02:15.376884Z",
     "iopub.status.idle": "2022-12-01T12:02:15.381779Z",
     "shell.execute_reply": "2022-12-01T12:02:15.380669Z"
    },
    "executionInfo": {
     "elapsed": 559,
     "status": "ok",
     "timestamp": 1667915360958,
     "user": {
      "displayName": "Aakash N S",
      "userId": "03254185060287524023"
     },
     "user_tz": -330
    },
    "id": "pJGAErs7e9Fh",
    "papermill": {
     "duration": 0.046967,
     "end_time": "2022-12-01T12:02:15.383590",
     "exception": false,
     "start_time": "2022-12-01T12:02:15.336623",
     "status": "completed"
    },
    "tags": []
   },
   "outputs": [],
   "source": [
    "vectorizer = CountVectorizer(lowercase=True, \n",
    "                             tokenizer=tokenize,\n",
    "                             stop_words=english_stopwords,\n",
    "                             max_features=1000)"
   ]
  },
  {
   "cell_type": "code",
   "execution_count": 71,
   "id": "ed61179e",
   "metadata": {
    "execution": {
     "iopub.execute_input": "2022-12-01T12:02:15.462915Z",
     "iopub.status.busy": "2022-12-01T12:02:15.462586Z",
     "iopub.status.idle": "2022-12-01T12:08:26.119287Z",
     "shell.execute_reply": "2022-12-01T12:08:26.118316Z"
    },
    "executionInfo": {
     "elapsed": 32457,
     "status": "ok",
     "timestamp": 1667915423839,
     "user": {
      "displayName": "Aakash N S",
      "userId": "03254185060287524023"
     },
     "user_tz": -330
    },
    "id": "pI8nbkpAe9Dg",
    "outputId": "e6151146-4e99-4bb5-bf70-c7336b5ed226",
    "papermill": {
     "duration": 370.809105,
     "end_time": "2022-12-01T12:08:26.231379",
     "exception": false,
     "start_time": "2022-12-01T12:02:15.422274",
     "status": "completed"
    },
    "tags": []
   },
   "outputs": [
    {
     "name": "stderr",
     "output_type": "stream",
     "text": [
      "/opt/conda/lib/python3.7/site-packages/sklearn/feature_extraction/text.py:517: UserWarning: The parameter 'token_pattern' will not be used since 'tokenizer' is not None'\n",
      "  \"The parameter 'token_pattern' will not be used\"\n",
      "/opt/conda/lib/python3.7/site-packages/sklearn/feature_extraction/text.py:401: UserWarning: Your stop_words may be inconsistent with your preprocessing. Tokenizing the stop words generated tokens [\"'d\", \"'s\", 'abov', 'ani', 'becaus', 'befor', 'could', 'doe', 'dure', 'might', 'must', \"n't\", 'need', 'onc', 'onli', 'ourselv', 'sha', 'themselv', 'veri', 'whi', 'wo', 'would', 'yourselv'] not in stop_words.\n",
      "  % sorted(inconsistent)\n"
     ]
    },
    {
     "name": "stdout",
     "output_type": "stream",
     "text": [
      "CPU times: user 6min 9s, sys: 765 ms, total: 6min 10s\n",
      "Wall time: 6min 10s\n"
     ]
    },
    {
     "data": {
      "text/plain": [
       "CountVectorizer(max_features=1000,\n",
       "                stop_words=['i', 'me', 'my', 'myself', 'we', 'our', 'ours',\n",
       "                            'ourselves', 'you', \"you're\", \"you've\", \"you'll\",\n",
       "                            \"you'd\", 'your', 'yours', 'yourself', 'yourselves',\n",
       "                            'he', 'him', 'his', 'himself', 'she', \"she's\",\n",
       "                            'her', 'hers', 'herself', 'it', \"it's\", 'its',\n",
       "                            'itself', ...],\n",
       "                tokenizer=<function tokenize at 0x7f2234f85320>)"
      ]
     },
     "execution_count": 71,
     "metadata": {},
     "output_type": "execute_result"
    }
   ],
   "source": [
    "%%time\n",
    "vectorizer.fit(sample_df.question_text)"
   ]
  },
  {
   "cell_type": "code",
   "execution_count": 72,
   "id": "d80de121",
   "metadata": {
    "execution": {
     "iopub.execute_input": "2022-12-01T12:08:26.315040Z",
     "iopub.status.busy": "2022-12-01T12:08:26.314583Z",
     "iopub.status.idle": "2022-12-01T12:08:26.321012Z",
     "shell.execute_reply": "2022-12-01T12:08:26.319836Z"
    },
    "executionInfo": {
     "elapsed": 2068,
     "status": "ok",
     "timestamp": 1667915449808,
     "user": {
      "displayName": "Aakash N S",
      "userId": "03254185060287524023"
     },
     "user_tz": -330
    },
    "id": "sJBlLm5Ye88Z",
    "outputId": "e8ad80f8-cd4d-4289-fd26-163dc808e69f",
    "papermill": {
     "duration": 0.051105,
     "end_time": "2022-12-01T12:08:26.322966",
     "exception": false,
     "start_time": "2022-12-01T12:08:26.271861",
     "status": "completed"
    },
    "tags": []
   },
   "outputs": [
    {
     "data": {
      "text/plain": [
       "1000"
      ]
     },
     "execution_count": 72,
     "metadata": {},
     "output_type": "execute_result"
    }
   ],
   "source": [
    "len(vectorizer.vocabulary_)"
   ]
  },
  {
   "cell_type": "code",
   "execution_count": 73,
   "id": "b79c917b",
   "metadata": {
    "execution": {
     "iopub.execute_input": "2022-12-01T12:08:26.409703Z",
     "iopub.status.busy": "2022-12-01T12:08:26.409080Z",
     "iopub.status.idle": "2022-12-01T12:08:26.417153Z",
     "shell.execute_reply": "2022-12-01T12:08:26.415918Z"
    },
    "executionInfo": {
     "elapsed": 1059,
     "status": "ok",
     "timestamp": 1667915475499,
     "user": {
      "displayName": "Aakash N S",
      "userId": "03254185060287524023"
     },
     "user_tz": -330
    },
    "id": "b9K638h1gg5_",
    "outputId": "955fe2e0-52ab-4137-9ecc-f18a64542e45",
    "papermill": {
     "duration": 0.053831,
     "end_time": "2022-12-01T12:08:26.419842",
     "exception": false,
     "start_time": "2022-12-01T12:08:26.366011",
     "status": "completed"
    },
    "tags": []
   },
   "outputs": [
    {
     "data": {
      "text/plain": [
       "array(['!', '$', '%', '&', \"'\", \"''\", \"'m\", \"'s\", '(', ')', ',', '-', '.',\n",
       "       '1', '10', '100', '12', '12th', '15', '2', '20', '2017', '2018',\n",
       "       '3', '4', '5', '6', '7', '8', ':', '?', '[', ']', '``', 'abl',\n",
       "       'abroad', 'abus', 'accept', 'access', 'accomplish', 'accord',\n",
       "       'account', 'achiev', 'acid', 'act', 'action', 'activ', 'actor',\n",
       "       'actual', 'ad', 'add', 'address', 'admiss', 'adult', 'advanc',\n",
       "       'advantag', 'advic', 'affect', 'africa', 'african', 'age', 'ago',\n",
       "       'air', 'allow', 'almost', 'alon', 'alreadi', 'also', 'altern',\n",
       "       'alway', 'amazon', 'america', 'american', 'among', 'amount',\n",
       "       'analysi', 'android', 'ani', 'anim', 'anoth', 'answer', 'anyon',\n",
       "       'anyth', 'apart', 'app', 'appear', 'appl', 'appli', 'applic',\n",
       "       'approach', 'arab', 'area', 'armi', 'around', 'art', 'asian',\n",
       "       'ask', 'associ', 'atheist', 'attack'], dtype=object)"
      ]
     },
     "execution_count": 73,
     "metadata": {},
     "output_type": "execute_result"
    }
   ],
   "source": [
    "vectorizer.get_feature_names_out()[:100]"
   ]
  },
  {
   "cell_type": "code",
   "execution_count": 74,
   "id": "a226e9c2",
   "metadata": {
    "execution": {
     "iopub.execute_input": "2022-12-01T12:08:26.507253Z",
     "iopub.status.busy": "2022-12-01T12:08:26.506612Z",
     "iopub.status.idle": "2022-12-01T12:14:38.010816Z",
     "shell.execute_reply": "2022-12-01T12:14:38.009506Z"
    },
    "executionInfo": {
     "elapsed": 30784,
     "status": "ok",
     "timestamp": 1667915566857,
     "user": {
      "displayName": "Aakash N S",
      "userId": "03254185060287524023"
     },
     "user_tz": -330
    },
    "id": "n3iq65OsguTR",
    "outputId": "35c22bcd-b6c2-4629-9e83-ad81a29456ee",
    "papermill": {
     "duration": 371.590694,
     "end_time": "2022-12-01T12:14:38.053219",
     "exception": false,
     "start_time": "2022-12-01T12:08:26.462525",
     "status": "completed"
    },
    "tags": []
   },
   "outputs": [
    {
     "name": "stdout",
     "output_type": "stream",
     "text": [
      "CPU times: user 6min 11s, sys: 315 ms, total: 6min 11s\n",
      "Wall time: 6min 11s\n"
     ]
    }
   ],
   "source": [
    "%%time\n",
    "inputs = vectorizer.transform(sample_df.question_text)"
   ]
  },
  {
   "cell_type": "code",
   "execution_count": 75,
   "id": "971df9a4",
   "metadata": {
    "execution": {
     "iopub.execute_input": "2022-12-01T12:14:38.135745Z",
     "iopub.status.busy": "2022-12-01T12:14:38.135372Z",
     "iopub.status.idle": "2022-12-01T12:14:38.142912Z",
     "shell.execute_reply": "2022-12-01T12:14:38.141558Z"
    },
    "executionInfo": {
     "elapsed": 661,
     "status": "ok",
     "timestamp": 1667915574286,
     "user": {
      "displayName": "Aakash N S",
      "userId": "03254185060287524023"
     },
     "user_tz": -330
    },
    "id": "9aEbKIC0gg3o",
    "outputId": "a0f9fdcf-a53d-455d-bd49-691f1f737a47",
    "papermill": {
     "duration": 0.051352,
     "end_time": "2022-12-01T12:14:38.145066",
     "exception": false,
     "start_time": "2022-12-01T12:14:38.093714",
     "status": "completed"
    },
    "tags": []
   },
   "outputs": [
    {
     "data": {
      "text/plain": [
       "(1306122, 1000)"
      ]
     },
     "execution_count": 75,
     "metadata": {},
     "output_type": "execute_result"
    }
   ],
   "source": [
    "inputs.shape"
   ]
  },
  {
   "cell_type": "code",
   "execution_count": 76,
   "id": "19adecb9",
   "metadata": {
    "execution": {
     "iopub.execute_input": "2022-12-01T12:14:38.228147Z",
     "iopub.status.busy": "2022-12-01T12:14:38.227057Z",
     "iopub.status.idle": "2022-12-01T12:14:38.235278Z",
     "shell.execute_reply": "2022-12-01T12:14:38.234190Z"
    },
    "executionInfo": {
     "elapsed": 2,
     "status": "ok",
     "timestamp": 1667915578819,
     "user": {
      "displayName": "Aakash N S",
      "userId": "03254185060287524023"
     },
     "user_tz": -330
    },
    "id": "meslQK7Le86I",
    "outputId": "d6cdab93-2640-43d0-d5fd-b907c201177d",
    "papermill": {
     "duration": 0.052024,
     "end_time": "2022-12-01T12:14:38.237547",
     "exception": false,
     "start_time": "2022-12-01T12:14:38.185523",
     "status": "completed"
    },
    "tags": []
   },
   "outputs": [
    {
     "data": {
      "text/plain": [
       "<1306122x1000 sparse matrix of type '<class 'numpy.int64'>'\n",
       "\twith 7154119 stored elements in Compressed Sparse Row format>"
      ]
     },
     "execution_count": 76,
     "metadata": {},
     "output_type": "execute_result"
    }
   ],
   "source": [
    "inputs"
   ]
  },
  {
   "cell_type": "code",
   "execution_count": 77,
   "id": "3772a96f",
   "metadata": {
    "execution": {
     "iopub.execute_input": "2022-12-01T12:14:38.322294Z",
     "iopub.status.busy": "2022-12-01T12:14:38.320981Z",
     "iopub.status.idle": "2022-12-01T12:14:38.328443Z",
     "shell.execute_reply": "2022-12-01T12:14:38.327255Z"
    },
    "executionInfo": {
     "elapsed": 652,
     "status": "ok",
     "timestamp": 1667915621850,
     "user": {
      "displayName": "Aakash N S",
      "userId": "03254185060287524023"
     },
     "user_tz": -330
    },
    "id": "ARTJ68oehHVR",
    "outputId": "83f27c51-7c51-4808-9450-489e5599776b",
    "papermill": {
     "duration": 0.05264,
     "end_time": "2022-12-01T12:14:38.330927",
     "exception": false,
     "start_time": "2022-12-01T12:14:38.278287",
     "status": "completed"
    },
    "tags": []
   },
   "outputs": [
    {
     "data": {
      "text/plain": [
       "'How did Quebec nationalists see their province as a nation in the 1960s?'"
      ]
     },
     "execution_count": 77,
     "metadata": {},
     "output_type": "execute_result"
    }
   ],
   "source": [
    "sample_df.question_text.values[0]"
   ]
  },
  {
   "cell_type": "code",
   "execution_count": 78,
   "id": "48bbc992",
   "metadata": {
    "execution": {
     "iopub.execute_input": "2022-12-01T12:14:38.413658Z",
     "iopub.status.busy": "2022-12-01T12:14:38.413234Z",
     "iopub.status.idle": "2022-12-01T12:14:38.425298Z",
     "shell.execute_reply": "2022-12-01T12:14:38.424315Z"
    },
    "executionInfo": {
     "elapsed": 1081,
     "status": "ok",
     "timestamp": 1667915683093,
     "user": {
      "displayName": "Aakash N S",
      "userId": "03254185060287524023"
     },
     "user_tz": -330
    },
    "id": "fJ497jJyhCaK",
    "outputId": "cdb77624-843c-4fe1-ff52-5f93794be092",
    "papermill": {
     "duration": 0.055627,
     "end_time": "2022-12-01T12:14:38.427361",
     "exception": false,
     "start_time": "2022-12-01T12:14:38.371734",
     "status": "completed"
    },
    "tags": []
   },
   "outputs": [
    {
     "data": {
      "text/html": [
       "<div>\n",
       "<style scoped>\n",
       "    .dataframe tbody tr th:only-of-type {\n",
       "        vertical-align: middle;\n",
       "    }\n",
       "\n",
       "    .dataframe tbody tr th {\n",
       "        vertical-align: top;\n",
       "    }\n",
       "\n",
       "    .dataframe thead th {\n",
       "        text-align: right;\n",
       "    }\n",
       "</style>\n",
       "<table border=\"1\" class=\"dataframe\">\n",
       "  <thead>\n",
       "    <tr style=\"text-align: right;\">\n",
       "      <th></th>\n",
       "      <th>qid</th>\n",
       "      <th>question_text</th>\n",
       "    </tr>\n",
       "  </thead>\n",
       "  <tbody>\n",
       "    <tr>\n",
       "      <th>0</th>\n",
       "      <td>0000163e3ea7c7a74cd7</td>\n",
       "      <td>Why do so many women become so rude and arroga...</td>\n",
       "    </tr>\n",
       "    <tr>\n",
       "      <th>1</th>\n",
       "      <td>00002bd4fb5d505b9161</td>\n",
       "      <td>When should I apply for RV college of engineer...</td>\n",
       "    </tr>\n",
       "    <tr>\n",
       "      <th>2</th>\n",
       "      <td>00007756b4a147d2b0b3</td>\n",
       "      <td>What is it really like to be a nurse practitio...</td>\n",
       "    </tr>\n",
       "    <tr>\n",
       "      <th>3</th>\n",
       "      <td>000086e4b7e1c7146103</td>\n",
       "      <td>Who are entrepreneurs?</td>\n",
       "    </tr>\n",
       "    <tr>\n",
       "      <th>4</th>\n",
       "      <td>0000c4c3fbe8785a3090</td>\n",
       "      <td>Is education really making good people nowadays?</td>\n",
       "    </tr>\n",
       "    <tr>\n",
       "      <th>...</th>\n",
       "      <td>...</td>\n",
       "      <td>...</td>\n",
       "    </tr>\n",
       "    <tr>\n",
       "      <th>375801</th>\n",
       "      <td>ffff7fa746bd6d6197a9</td>\n",
       "      <td>How many countries listed in gold import in in...</td>\n",
       "    </tr>\n",
       "    <tr>\n",
       "      <th>375802</th>\n",
       "      <td>ffffa1be31c43046ab6b</td>\n",
       "      <td>Is there an alternative to dresses on formal p...</td>\n",
       "    </tr>\n",
       "    <tr>\n",
       "      <th>375803</th>\n",
       "      <td>ffffae173b6ca6bfa563</td>\n",
       "      <td>Where I can find best friendship quotes in Tel...</td>\n",
       "    </tr>\n",
       "    <tr>\n",
       "      <th>375804</th>\n",
       "      <td>ffffb1f7f1a008620287</td>\n",
       "      <td>What are the causes of refraction of light?</td>\n",
       "    </tr>\n",
       "    <tr>\n",
       "      <th>375805</th>\n",
       "      <td>fffff85473f4699474b0</td>\n",
       "      <td>Climate change is a worrying topic. How much t...</td>\n",
       "    </tr>\n",
       "  </tbody>\n",
       "</table>\n",
       "<p>375806 rows × 2 columns</p>\n",
       "</div>"
      ],
      "text/plain": [
       "                         qid  \\\n",
       "0       0000163e3ea7c7a74cd7   \n",
       "1       00002bd4fb5d505b9161   \n",
       "2       00007756b4a147d2b0b3   \n",
       "3       000086e4b7e1c7146103   \n",
       "4       0000c4c3fbe8785a3090   \n",
       "...                      ...   \n",
       "375801  ffff7fa746bd6d6197a9   \n",
       "375802  ffffa1be31c43046ab6b   \n",
       "375803  ffffae173b6ca6bfa563   \n",
       "375804  ffffb1f7f1a008620287   \n",
       "375805  fffff85473f4699474b0   \n",
       "\n",
       "                                            question_text  \n",
       "0       Why do so many women become so rude and arroga...  \n",
       "1       When should I apply for RV college of engineer...  \n",
       "2       What is it really like to be a nurse practitio...  \n",
       "3                                  Who are entrepreneurs?  \n",
       "4        Is education really making good people nowadays?  \n",
       "...                                                   ...  \n",
       "375801  How many countries listed in gold import in in...  \n",
       "375802  Is there an alternative to dresses on formal p...  \n",
       "375803  Where I can find best friendship quotes in Tel...  \n",
       "375804        What are the causes of refraction of light?  \n",
       "375805  Climate change is a worrying topic. How much t...  \n",
       "\n",
       "[375806 rows x 2 columns]"
      ]
     },
     "execution_count": 78,
     "metadata": {},
     "output_type": "execute_result"
    }
   ],
   "source": [
    "#checking with test data\n",
    "test_df"
   ]
  },
  {
   "cell_type": "code",
   "execution_count": 79,
   "id": "683a0b16",
   "metadata": {
    "execution": {
     "iopub.execute_input": "2022-12-01T12:14:38.510845Z",
     "iopub.status.busy": "2022-12-01T12:14:38.510462Z",
     "iopub.status.idle": "2022-12-01T12:16:24.404639Z",
     "shell.execute_reply": "2022-12-01T12:16:24.403696Z"
    },
    "executionInfo": {
     "elapsed": 112943,
     "status": "ok",
     "timestamp": 1667915815920,
     "user": {
      "displayName": "Aakash N S",
      "userId": "03254185060287524023"
     },
     "user_tz": -330
    },
    "id": "UDu0wUf9g--d",
    "outputId": "3db731b6-8002-435a-bfb5-7500c8921da8",
    "papermill": {
     "duration": 105.981473,
     "end_time": "2022-12-01T12:16:24.449791",
     "exception": false,
     "start_time": "2022-12-01T12:14:38.468318",
     "status": "completed"
    },
    "tags": []
   },
   "outputs": [
    {
     "name": "stdout",
     "output_type": "stream",
     "text": [
      "CPU times: user 1min 45s, sys: 37.9 ms, total: 1min 45s\n",
      "Wall time: 1min 45s\n"
     ]
    }
   ],
   "source": [
    "%%time\n",
    "test_inputs = vectorizer.transform(test_df.question_text)"
   ]
  },
  {
   "cell_type": "code",
   "execution_count": 80,
   "id": "a970ef7e",
   "metadata": {
    "execution": {
     "iopub.execute_input": "2022-12-01T12:16:24.541483Z",
     "iopub.status.busy": "2022-12-01T12:16:24.541135Z",
     "iopub.status.idle": "2022-12-01T12:16:24.546585Z",
     "shell.execute_reply": "2022-12-01T12:16:24.545721Z"
    },
    "id": "CKLhsg9GdkDW",
    "papermill": {
     "duration": 0.050968,
     "end_time": "2022-12-01T12:16:24.548476",
     "exception": false,
     "start_time": "2022-12-01T12:16:24.497508",
     "status": "completed"
    },
    "tags": []
   },
   "outputs": [
    {
     "data": {
      "text/plain": [
       "(375806, 1000)"
      ]
     },
     "execution_count": 80,
     "metadata": {},
     "output_type": "execute_result"
    }
   ],
   "source": [
    "test_inputs.shape"
   ]
  },
  {
   "cell_type": "markdown",
   "id": "12c3bb35",
   "metadata": {
    "id": "AyVwmOboQoJn",
    "papermill": {
     "duration": 0.041298,
     "end_time": "2022-12-01T12:16:24.630622",
     "exception": false,
     "start_time": "2022-12-01T12:16:24.589324",
     "status": "completed"
    },
    "tags": []
   },
   "source": [
    "## ML Models for Text Classification\n",
    "\n",
    "Outline:\n",
    "\n",
    "- Create a training & validation set\n",
    "- Train a logistic regression model\n",
    "- Make predictions on training, validation & test data"
   ]
  },
  {
   "cell_type": "markdown",
   "id": "982521f7",
   "metadata": {
    "id": "1CPsktK-iPgK",
    "papermill": {
     "duration": 0.040965,
     "end_time": "2022-12-01T12:16:24.713169",
     "exception": false,
     "start_time": "2022-12-01T12:16:24.672204",
     "status": "completed"
    },
    "tags": []
   },
   "source": [
    "### Split into Training and Validation Set"
   ]
  },
  {
   "cell_type": "code",
   "execution_count": 81,
   "id": "b9f1ba48",
   "metadata": {
    "execution": {
     "iopub.execute_input": "2022-12-01T12:16:24.796229Z",
     "iopub.status.busy": "2022-12-01T12:16:24.795690Z",
     "iopub.status.idle": "2022-12-01T12:16:24.806936Z",
     "shell.execute_reply": "2022-12-01T12:16:24.805912Z"
    },
    "executionInfo": {
     "elapsed": 3,
     "status": "ok",
     "timestamp": 1667915931527,
     "user": {
      "displayName": "Aakash N S",
      "userId": "03254185060287524023"
     },
     "user_tz": -330
    },
    "id": "hoIv721biUVy",
    "outputId": "73a07b8c-ec27-495e-8ccd-9bb4c53e40da",
    "papermill": {
     "duration": 0.055322,
     "end_time": "2022-12-01T12:16:24.809024",
     "exception": false,
     "start_time": "2022-12-01T12:16:24.753702",
     "status": "completed"
    },
    "tags": []
   },
   "outputs": [
    {
     "data": {
      "text/html": [
       "<div>\n",
       "<style scoped>\n",
       "    .dataframe tbody tr th:only-of-type {\n",
       "        vertical-align: middle;\n",
       "    }\n",
       "\n",
       "    .dataframe tbody tr th {\n",
       "        vertical-align: top;\n",
       "    }\n",
       "\n",
       "    .dataframe thead th {\n",
       "        text-align: right;\n",
       "    }\n",
       "</style>\n",
       "<table border=\"1\" class=\"dataframe\">\n",
       "  <thead>\n",
       "    <tr style=\"text-align: right;\">\n",
       "      <th></th>\n",
       "      <th>qid</th>\n",
       "      <th>question_text</th>\n",
       "      <th>target</th>\n",
       "    </tr>\n",
       "  </thead>\n",
       "  <tbody>\n",
       "    <tr>\n",
       "      <th>0</th>\n",
       "      <td>00002165364db923c7e6</td>\n",
       "      <td>How did Quebec nationalists see their province...</td>\n",
       "      <td>0</td>\n",
       "    </tr>\n",
       "    <tr>\n",
       "      <th>1</th>\n",
       "      <td>000032939017120e6e44</td>\n",
       "      <td>Do you have an adopted dog, how would you enco...</td>\n",
       "      <td>0</td>\n",
       "    </tr>\n",
       "    <tr>\n",
       "      <th>2</th>\n",
       "      <td>0000412ca6e4628ce2cf</td>\n",
       "      <td>Why does velocity affect time? Does velocity a...</td>\n",
       "      <td>0</td>\n",
       "    </tr>\n",
       "    <tr>\n",
       "      <th>3</th>\n",
       "      <td>000042bf85aa498cd78e</td>\n",
       "      <td>How did Otto von Guericke used the Magdeburg h...</td>\n",
       "      <td>0</td>\n",
       "    </tr>\n",
       "    <tr>\n",
       "      <th>4</th>\n",
       "      <td>0000455dfa3e01eae3af</td>\n",
       "      <td>Can I convert montra helicon D to a mountain b...</td>\n",
       "      <td>0</td>\n",
       "    </tr>\n",
       "    <tr>\n",
       "      <th>...</th>\n",
       "      <td>...</td>\n",
       "      <td>...</td>\n",
       "      <td>...</td>\n",
       "    </tr>\n",
       "    <tr>\n",
       "      <th>1306117</th>\n",
       "      <td>ffffcc4e2331aaf1e41e</td>\n",
       "      <td>What other technical skills do you need as a c...</td>\n",
       "      <td>0</td>\n",
       "    </tr>\n",
       "    <tr>\n",
       "      <th>1306118</th>\n",
       "      <td>ffffd431801e5a2f4861</td>\n",
       "      <td>Does MS in ECE have good job prospects in USA ...</td>\n",
       "      <td>0</td>\n",
       "    </tr>\n",
       "    <tr>\n",
       "      <th>1306119</th>\n",
       "      <td>ffffd48fb36b63db010c</td>\n",
       "      <td>Is foam insulation toxic?</td>\n",
       "      <td>0</td>\n",
       "    </tr>\n",
       "    <tr>\n",
       "      <th>1306120</th>\n",
       "      <td>ffffec519fa37cf60c78</td>\n",
       "      <td>How can one start a research project based on ...</td>\n",
       "      <td>0</td>\n",
       "    </tr>\n",
       "    <tr>\n",
       "      <th>1306121</th>\n",
       "      <td>ffffed09fedb5088744a</td>\n",
       "      <td>Who wins in a battle between a Wolverine and a...</td>\n",
       "      <td>0</td>\n",
       "    </tr>\n",
       "  </tbody>\n",
       "</table>\n",
       "<p>1306122 rows × 3 columns</p>\n",
       "</div>"
      ],
      "text/plain": [
       "                          qid  \\\n",
       "0        00002165364db923c7e6   \n",
       "1        000032939017120e6e44   \n",
       "2        0000412ca6e4628ce2cf   \n",
       "3        000042bf85aa498cd78e   \n",
       "4        0000455dfa3e01eae3af   \n",
       "...                       ...   \n",
       "1306117  ffffcc4e2331aaf1e41e   \n",
       "1306118  ffffd431801e5a2f4861   \n",
       "1306119  ffffd48fb36b63db010c   \n",
       "1306120  ffffec519fa37cf60c78   \n",
       "1306121  ffffed09fedb5088744a   \n",
       "\n",
       "                                             question_text  target  \n",
       "0        How did Quebec nationalists see their province...       0  \n",
       "1        Do you have an adopted dog, how would you enco...       0  \n",
       "2        Why does velocity affect time? Does velocity a...       0  \n",
       "3        How did Otto von Guericke used the Magdeburg h...       0  \n",
       "4        Can I convert montra helicon D to a mountain b...       0  \n",
       "...                                                    ...     ...  \n",
       "1306117  What other technical skills do you need as a c...       0  \n",
       "1306118  Does MS in ECE have good job prospects in USA ...       0  \n",
       "1306119                          Is foam insulation toxic?       0  \n",
       "1306120  How can one start a research project based on ...       0  \n",
       "1306121  Who wins in a battle between a Wolverine and a...       0  \n",
       "\n",
       "[1306122 rows x 3 columns]"
      ]
     },
     "execution_count": 81,
     "metadata": {},
     "output_type": "execute_result"
    }
   ],
   "source": [
    "sample_df"
   ]
  },
  {
   "cell_type": "code",
   "execution_count": 82,
   "id": "58f2203e",
   "metadata": {
    "execution": {
     "iopub.execute_input": "2022-12-01T12:16:24.898488Z",
     "iopub.status.busy": "2022-12-01T12:16:24.898013Z",
     "iopub.status.idle": "2022-12-01T12:16:24.905176Z",
     "shell.execute_reply": "2022-12-01T12:16:24.904126Z"
    },
    "executionInfo": {
     "elapsed": 613,
     "status": "ok",
     "timestamp": 1667915949798,
     "user": {
      "displayName": "Aakash N S",
      "userId": "03254185060287524023"
     },
     "user_tz": -330
    },
    "id": "ckPyKMcMRBET",
    "outputId": "0bb74251-5275-42ed-b60a-eb763113e3c0",
    "papermill": {
     "duration": 0.053256,
     "end_time": "2022-12-01T12:16:24.907328",
     "exception": false,
     "start_time": "2022-12-01T12:16:24.854072",
     "status": "completed"
    },
    "tags": []
   },
   "outputs": [
    {
     "data": {
      "text/plain": [
       "(1306122, 1000)"
      ]
     },
     "execution_count": 82,
     "metadata": {},
     "output_type": "execute_result"
    }
   ],
   "source": [
    "inputs.shape"
   ]
  },
  {
   "cell_type": "code",
   "execution_count": 83,
   "id": "73180bb1",
   "metadata": {
    "execution": {
     "iopub.execute_input": "2022-12-01T12:16:24.996187Z",
     "iopub.status.busy": "2022-12-01T12:16:24.994668Z",
     "iopub.status.idle": "2022-12-01T12:16:25.002254Z",
     "shell.execute_reply": "2022-12-01T12:16:25.000482Z"
    },
    "executionInfo": {
     "elapsed": 348,
     "status": "ok",
     "timestamp": 1667916033391,
     "user": {
      "displayName": "Aakash N S",
      "userId": "03254185060287524023"
     },
     "user_tz": -330
    },
    "id": "OB2jqu7dirOn",
    "papermill": {
     "duration": 0.055067,
     "end_time": "2022-12-01T12:16:25.004882",
     "exception": false,
     "start_time": "2022-12-01T12:16:24.949815",
     "status": "completed"
    },
    "tags": []
   },
   "outputs": [],
   "source": [
    "from sklearn.model_selection import train_test_split"
   ]
  },
  {
   "cell_type": "code",
   "execution_count": 84,
   "id": "0a9babd9",
   "metadata": {
    "execution": {
     "iopub.execute_input": "2022-12-01T12:16:25.090336Z",
     "iopub.status.busy": "2022-12-01T12:16:25.089990Z",
     "iopub.status.idle": "2022-12-01T12:16:25.497974Z",
     "shell.execute_reply": "2022-12-01T12:16:25.496735Z"
    },
    "executionInfo": {
     "elapsed": 364,
     "status": "ok",
     "timestamp": 1667916089349,
     "user": {
      "displayName": "Aakash N S",
      "userId": "03254185060287524023"
     },
     "user_tz": -330
    },
    "id": "m3eE_6y6ieLP",
    "papermill": {
     "duration": 0.453921,
     "end_time": "2022-12-01T12:16:25.501333",
     "exception": false,
     "start_time": "2022-12-01T12:16:25.047412",
     "status": "completed"
    },
    "tags": []
   },
   "outputs": [],
   "source": [
    "train_inputs, val_inputs, train_targets, val_targets = train_test_split(inputs, sample_df.target, \n",
    "                                                                        test_size=0.3, random_state=42)"
   ]
  },
  {
   "cell_type": "code",
   "execution_count": 85,
   "id": "3450cf9b",
   "metadata": {
    "execution": {
     "iopub.execute_input": "2022-12-01T12:16:25.587768Z",
     "iopub.status.busy": "2022-12-01T12:16:25.587381Z",
     "iopub.status.idle": "2022-12-01T12:16:25.596008Z",
     "shell.execute_reply": "2022-12-01T12:16:25.594114Z"
    },
    "executionInfo": {
     "elapsed": 908,
     "status": "ok",
     "timestamp": 1667916115211,
     "user": {
      "displayName": "Aakash N S",
      "userId": "03254185060287524023"
     },
     "user_tz": -330
    },
    "id": "1hMoWlcrRBBt",
    "outputId": "c604cdcc-ed79-4c04-dba0-8d46713cab38",
    "papermill": {
     "duration": 0.054931,
     "end_time": "2022-12-01T12:16:25.599061",
     "exception": false,
     "start_time": "2022-12-01T12:16:25.544130",
     "status": "completed"
    },
    "tags": []
   },
   "outputs": [
    {
     "data": {
      "text/plain": [
       "(914285, 1000)"
      ]
     },
     "execution_count": 85,
     "metadata": {},
     "output_type": "execute_result"
    }
   ],
   "source": [
    "train_inputs.shape"
   ]
  },
  {
   "cell_type": "code",
   "execution_count": 86,
   "id": "42fbf2be",
   "metadata": {
    "execution": {
     "iopub.execute_input": "2022-12-01T12:16:25.686639Z",
     "iopub.status.busy": "2022-12-01T12:16:25.686210Z",
     "iopub.status.idle": "2022-12-01T12:16:25.693863Z",
     "shell.execute_reply": "2022-12-01T12:16:25.692287Z"
    },
    "executionInfo": {
     "elapsed": 986,
     "status": "ok",
     "timestamp": 1667916129267,
     "user": {
      "displayName": "Aakash N S",
      "userId": "03254185060287524023"
     },
     "user_tz": -330
    },
    "id": "ioOd41xKjCkX",
    "outputId": "f3c280ca-aa5c-4f49-d551-3ffebe05c89a",
    "papermill": {
     "duration": 0.054816,
     "end_time": "2022-12-01T12:16:25.696857",
     "exception": false,
     "start_time": "2022-12-01T12:16:25.642041",
     "status": "completed"
    },
    "tags": []
   },
   "outputs": [
    {
     "data": {
      "text/plain": [
       "(914285,)"
      ]
     },
     "execution_count": 86,
     "metadata": {},
     "output_type": "execute_result"
    }
   ],
   "source": [
    "train_targets.shape"
   ]
  },
  {
   "cell_type": "code",
   "execution_count": 87,
   "id": "84690977",
   "metadata": {
    "execution": {
     "iopub.execute_input": "2022-12-01T12:16:25.789193Z",
     "iopub.status.busy": "2022-12-01T12:16:25.788745Z",
     "iopub.status.idle": "2022-12-01T12:16:25.795190Z",
     "shell.execute_reply": "2022-12-01T12:16:25.793563Z"
    },
    "executionInfo": {
     "elapsed": 493,
     "status": "ok",
     "timestamp": 1667916138104,
     "user": {
      "displayName": "Aakash N S",
      "userId": "03254185060287524023"
     },
     "user_tz": -330
    },
    "id": "d2ipJkxRjChw",
    "outputId": "798265ae-8305-41b5-f96c-8611c45aef4f",
    "papermill": {
     "duration": 0.055492,
     "end_time": "2022-12-01T12:16:25.797419",
     "exception": false,
     "start_time": "2022-12-01T12:16:25.741927",
     "status": "completed"
    },
    "tags": []
   },
   "outputs": [
    {
     "data": {
      "text/plain": [
       "(391837, 1000)"
      ]
     },
     "execution_count": 87,
     "metadata": {},
     "output_type": "execute_result"
    }
   ],
   "source": [
    "val_inputs.shape"
   ]
  },
  {
   "cell_type": "code",
   "execution_count": 88,
   "id": "6790b414",
   "metadata": {
    "execution": {
     "iopub.execute_input": "2022-12-01T12:16:25.889843Z",
     "iopub.status.busy": "2022-12-01T12:16:25.889318Z",
     "iopub.status.idle": "2022-12-01T12:16:25.896264Z",
     "shell.execute_reply": "2022-12-01T12:16:25.895490Z"
    },
    "executionInfo": {
     "elapsed": 1040,
     "status": "ok",
     "timestamp": 1667916148487,
     "user": {
      "displayName": "Aakash N S",
      "userId": "03254185060287524023"
     },
     "user_tz": -330
    },
    "id": "TZuuLryBjIWZ",
    "outputId": "caa99599-0889-4588-ec20-3ad21881b1d6",
    "papermill": {
     "duration": 0.054347,
     "end_time": "2022-12-01T12:16:25.898011",
     "exception": false,
     "start_time": "2022-12-01T12:16:25.843664",
     "status": "completed"
    },
    "tags": []
   },
   "outputs": [
    {
     "data": {
      "text/plain": [
       "(391837,)"
      ]
     },
     "execution_count": 88,
     "metadata": {},
     "output_type": "execute_result"
    }
   ],
   "source": [
    "val_targets.shape"
   ]
  },
  {
   "cell_type": "markdown",
   "id": "74acbf5e",
   "metadata": {
    "id": "bBAcDSenjMSk",
    "papermill": {
     "duration": 0.044446,
     "end_time": "2022-12-01T12:16:25.986830",
     "exception": false,
     "start_time": "2022-12-01T12:16:25.942384",
     "status": "completed"
    },
    "tags": []
   },
   "source": [
    "### Train Logistic Regression model"
   ]
  },
  {
   "cell_type": "code",
   "execution_count": 89,
   "id": "f00fc11f",
   "metadata": {
    "execution": {
     "iopub.execute_input": "2022-12-01T12:16:26.076131Z",
     "iopub.status.busy": "2022-12-01T12:16:26.075758Z",
     "iopub.status.idle": "2022-12-01T12:16:26.081184Z",
     "shell.execute_reply": "2022-12-01T12:16:26.079386Z"
    },
    "executionInfo": {
     "elapsed": 535,
     "status": "ok",
     "timestamp": 1667916194680,
     "user": {
      "displayName": "Aakash N S",
      "userId": "03254185060287524023"
     },
     "user_tz": -330
    },
    "id": "tURg-O4pjMmX",
    "papermill": {
     "duration": 0.054125,
     "end_time": "2022-12-01T12:16:26.084477",
     "exception": false,
     "start_time": "2022-12-01T12:16:26.030352",
     "status": "completed"
    },
    "tags": []
   },
   "outputs": [],
   "source": [
    "from sklearn.linear_model import LogisticRegression"
   ]
  },
  {
   "cell_type": "code",
   "execution_count": 90,
   "id": "3867ccdb",
   "metadata": {
    "execution": {
     "iopub.execute_input": "2022-12-01T12:16:26.173891Z",
     "iopub.status.busy": "2022-12-01T12:16:26.173504Z",
     "iopub.status.idle": "2022-12-01T12:16:26.177155Z",
     "shell.execute_reply": "2022-12-01T12:16:26.176478Z"
    },
    "executionInfo": {
     "elapsed": 373,
     "status": "ok",
     "timestamp": 1667918920336,
     "user": {
      "displayName": "Aakash N S",
      "userId": "03254185060287524023"
     },
     "user_tz": -330
    },
    "id": "aqk9RFIYj9tu",
    "papermill": {
     "duration": 0.050385,
     "end_time": "2022-12-01T12:16:26.178794",
     "exception": false,
     "start_time": "2022-12-01T12:16:26.128409",
     "status": "completed"
    },
    "tags": []
   },
   "outputs": [],
   "source": [
    "MAX_ITER = 1000"
   ]
  },
  {
   "cell_type": "code",
   "execution_count": 91,
   "id": "67d6a2d7",
   "metadata": {
    "execution": {
     "iopub.execute_input": "2022-12-01T12:16:26.264346Z",
     "iopub.status.busy": "2022-12-01T12:16:26.263996Z",
     "iopub.status.idle": "2022-12-01T12:16:26.268979Z",
     "shell.execute_reply": "2022-12-01T12:16:26.267923Z"
    },
    "executionInfo": {
     "elapsed": 626,
     "status": "ok",
     "timestamp": 1667916401162,
     "user": {
      "displayName": "Aakash N S",
      "userId": "03254185060287524023"
     },
     "user_tz": -330
    },
    "id": "uUQ0wzNIjNHr",
    "papermill": {
     "duration": 0.050242,
     "end_time": "2022-12-01T12:16:26.270821",
     "exception": false,
     "start_time": "2022-12-01T12:16:26.220579",
     "status": "completed"
    },
    "tags": []
   },
   "outputs": [],
   "source": [
    "model = LogisticRegression(max_iter=MAX_ITER, solver='sag')"
   ]
  },
  {
   "cell_type": "code",
   "execution_count": 92,
   "id": "46c515a8",
   "metadata": {
    "execution": {
     "iopub.execute_input": "2022-12-01T12:16:26.357810Z",
     "iopub.status.busy": "2022-12-01T12:16:26.357404Z",
     "iopub.status.idle": "2022-12-01T12:24:21.534153Z",
     "shell.execute_reply": "2022-12-01T12:24:21.533275Z"
    },
    "executionInfo": {
     "elapsed": 27440,
     "status": "ok",
     "timestamp": 1667916434501,
     "user": {
      "displayName": "Aakash N S",
      "userId": "03254185060287524023"
     },
     "user_tz": -330
    },
    "id": "fOehu5rLjNFl",
    "outputId": "319e0d60-e7db-4851-d7a5-1bcefd58f239",
    "papermill": {
     "duration": 475.264695,
     "end_time": "2022-12-01T12:24:21.578037",
     "exception": false,
     "start_time": "2022-12-01T12:16:26.313342",
     "status": "completed"
    },
    "tags": []
   },
   "outputs": [
    {
     "name": "stdout",
     "output_type": "stream",
     "text": [
      "CPU times: user 7min 54s, sys: 109 ms, total: 7min 55s\n",
      "Wall time: 7min 55s\n"
     ]
    },
    {
     "data": {
      "text/plain": [
       "LogisticRegression(max_iter=1000, solver='sag')"
      ]
     },
     "execution_count": 92,
     "metadata": {},
     "output_type": "execute_result"
    }
   ],
   "source": [
    "%%time\n",
    "model.fit(train_inputs, train_targets)"
   ]
  },
  {
   "cell_type": "markdown",
   "id": "081a8f73",
   "metadata": {
    "id": "o16-8HmXmQT0",
    "papermill": {
     "duration": 0.041311,
     "end_time": "2022-12-01T12:24:21.660356",
     "exception": false,
     "start_time": "2022-12-01T12:24:21.619045",
     "status": "completed"
    },
    "tags": []
   },
   "source": [
    "### Make predictions using the model"
   ]
  },
  {
   "cell_type": "code",
   "execution_count": 93,
   "id": "06be3f62",
   "metadata": {
    "execution": {
     "iopub.execute_input": "2022-12-01T12:24:21.745094Z",
     "iopub.status.busy": "2022-12-01T12:24:21.744678Z",
     "iopub.status.idle": "2022-12-01T12:24:21.767094Z",
     "shell.execute_reply": "2022-12-01T12:24:21.766188Z"
    },
    "executionInfo": {
     "elapsed": 1020,
     "status": "ok",
     "timestamp": 1667916460185,
     "user": {
      "displayName": "Aakash N S",
      "userId": "03254185060287524023"
     },
     "user_tz": -330
    },
    "id": "i12DBlkVkThU",
    "papermill": {
     "duration": 0.067569,
     "end_time": "2022-12-01T12:24:21.769243",
     "exception": false,
     "start_time": "2022-12-01T12:24:21.701674",
     "status": "completed"
    },
    "tags": []
   },
   "outputs": [],
   "source": [
    "train_preds = model.predict(train_inputs)"
   ]
  },
  {
   "cell_type": "code",
   "execution_count": 94,
   "id": "2303b41c",
   "metadata": {
    "execution": {
     "iopub.execute_input": "2022-12-01T12:24:21.855411Z",
     "iopub.status.busy": "2022-12-01T12:24:21.855035Z",
     "iopub.status.idle": "2022-12-01T12:24:21.862054Z",
     "shell.execute_reply": "2022-12-01T12:24:21.861334Z"
    },
    "executionInfo": {
     "elapsed": 363,
     "status": "ok",
     "timestamp": 1667916573761,
     "user": {
      "displayName": "Aakash N S",
      "userId": "03254185060287524023"
     },
     "user_tz": -330
    },
    "id": "urNCyppPkxZB",
    "outputId": "71349a02-b3a6-4b44-d87f-727dde95605e",
    "papermill": {
     "duration": 0.052165,
     "end_time": "2022-12-01T12:24:21.863790",
     "exception": false,
     "start_time": "2022-12-01T12:24:21.811625",
     "status": "completed"
    },
    "tags": []
   },
   "outputs": [
    {
     "data": {
      "text/plain": [
       "6750       0\n",
       "1264797    0\n",
       "867014     0\n",
       "1068814    0\n",
       "161774     0\n",
       "          ..\n",
       "110268     0\n",
       "259178     0\n",
       "131932     0\n",
       "671155     0\n",
       "121958     0\n",
       "Name: target, Length: 914285, dtype: int64"
      ]
     },
     "execution_count": 94,
     "metadata": {},
     "output_type": "execute_result"
    }
   ],
   "source": [
    "train_targets"
   ]
  },
  {
   "cell_type": "code",
   "execution_count": 95,
   "id": "7f2a43b8",
   "metadata": {
    "execution": {
     "iopub.execute_input": "2022-12-01T12:24:21.950489Z",
     "iopub.status.busy": "2022-12-01T12:24:21.950082Z",
     "iopub.status.idle": "2022-12-01T12:24:21.957062Z",
     "shell.execute_reply": "2022-12-01T12:24:21.955786Z"
    },
    "executionInfo": {
     "elapsed": 861,
     "status": "ok",
     "timestamp": 1667916464475,
     "user": {
      "displayName": "Aakash N S",
      "userId": "03254185060287524023"
     },
     "user_tz": -330
    },
    "id": "qS8PDYxljNDP",
    "outputId": "9216c5a9-c9aa-4d6a-d540-e804d4d3c925",
    "papermill": {
     "duration": 0.052434,
     "end_time": "2022-12-01T12:24:21.959448",
     "exception": false,
     "start_time": "2022-12-01T12:24:21.907014",
     "status": "completed"
    },
    "tags": []
   },
   "outputs": [
    {
     "data": {
      "text/plain": [
       "array([0, 0, 0, ..., 0, 0, 0])"
      ]
     },
     "execution_count": 95,
     "metadata": {},
     "output_type": "execute_result"
    }
   ],
   "source": [
    "train_preds"
   ]
  },
  {
   "cell_type": "code",
   "execution_count": 96,
   "id": "ccaad5dc",
   "metadata": {
    "execution": {
     "iopub.execute_input": "2022-12-01T12:24:22.045492Z",
     "iopub.status.busy": "2022-12-01T12:24:22.044902Z",
     "iopub.status.idle": "2022-12-01T12:24:22.059343Z",
     "shell.execute_reply": "2022-12-01T12:24:22.058483Z"
    },
    "executionInfo": {
     "elapsed": 567,
     "status": "ok",
     "timestamp": 1667916484628,
     "user": {
      "displayName": "Aakash N S",
      "userId": "03254185060287524023"
     },
     "user_tz": -330
    },
    "id": "W74eTiJgjNA9",
    "outputId": "4f1aa29b-d959-4561-9384-a83fc36ca13d",
    "papermill": {
     "duration": 0.059729,
     "end_time": "2022-12-01T12:24:22.061286",
     "exception": false,
     "start_time": "2022-12-01T12:24:22.001557",
     "status": "completed"
    },
    "tags": []
   },
   "outputs": [
    {
     "data": {
      "text/plain": [
       "0    888377\n",
       "1     25908\n",
       "dtype: int64"
      ]
     },
     "execution_count": 96,
     "metadata": {},
     "output_type": "execute_result"
    }
   ],
   "source": [
    "pd.Series(train_preds).value_counts()"
   ]
  },
  {
   "cell_type": "code",
   "execution_count": 97,
   "id": "05e9e846",
   "metadata": {
    "execution": {
     "iopub.execute_input": "2022-12-01T12:24:22.146838Z",
     "iopub.status.busy": "2022-12-01T12:24:22.146330Z",
     "iopub.status.idle": "2022-12-01T12:24:22.160593Z",
     "shell.execute_reply": "2022-12-01T12:24:22.159732Z"
    },
    "executionInfo": {
     "elapsed": 1125,
     "status": "ok",
     "timestamp": 1667916512008,
     "user": {
      "displayName": "Aakash N S",
      "userId": "03254185060287524023"
     },
     "user_tz": -330
    },
    "id": "pixsvLxrkhK4",
    "outputId": "44819bce-587f-41e3-cb6b-55e67b8c7c84",
    "papermill": {
     "duration": 0.059364,
     "end_time": "2022-12-01T12:24:22.162395",
     "exception": false,
     "start_time": "2022-12-01T12:24:22.103031",
     "status": "completed"
    },
    "tags": []
   },
   "outputs": [
    {
     "data": {
      "text/plain": [
       "0    857339\n",
       "1     56946\n",
       "Name: target, dtype: int64"
      ]
     },
     "execution_count": 97,
     "metadata": {},
     "output_type": "execute_result"
    }
   ],
   "source": [
    "pd.Series(train_targets).value_counts()"
   ]
  },
  {
   "cell_type": "code",
   "execution_count": 98,
   "id": "bce7c65e",
   "metadata": {
    "execution": {
     "iopub.execute_input": "2022-12-01T12:24:22.247791Z",
     "iopub.status.busy": "2022-12-01T12:24:22.247417Z",
     "iopub.status.idle": "2022-12-01T12:24:22.252098Z",
     "shell.execute_reply": "2022-12-01T12:24:22.250618Z"
    },
    "executionInfo": {
     "elapsed": 370,
     "status": "ok",
     "timestamp": 1667916547769,
     "user": {
      "displayName": "Aakash N S",
      "userId": "03254185060287524023"
     },
     "user_tz": -330
    },
    "id": "YxH33IpFkpXJ",
    "papermill": {
     "duration": 0.050638,
     "end_time": "2022-12-01T12:24:22.254714",
     "exception": false,
     "start_time": "2022-12-01T12:24:22.204076",
     "status": "completed"
    },
    "tags": []
   },
   "outputs": [],
   "source": [
    "from sklearn.metrics import accuracy_score"
   ]
  },
  {
   "cell_type": "code",
   "execution_count": 99,
   "id": "43caea01",
   "metadata": {
    "execution": {
     "iopub.execute_input": "2022-12-01T12:24:22.340323Z",
     "iopub.status.busy": "2022-12-01T12:24:22.339910Z",
     "iopub.status.idle": "2022-12-01T12:24:22.388217Z",
     "shell.execute_reply": "2022-12-01T12:24:22.387107Z"
    },
    "executionInfo": {
     "elapsed": 893,
     "status": "ok",
     "timestamp": 1667916561938,
     "user": {
      "displayName": "Aakash N S",
      "userId": "03254185060287524023"
     },
     "user_tz": -330
    },
    "id": "oUgKam9RkYD6",
    "outputId": "dfc12873-4db8-4993-ad67-bbf6456d8b18",
    "papermill": {
     "duration": 0.093858,
     "end_time": "2022-12-01T12:24:22.390274",
     "exception": false,
     "start_time": "2022-12-01T12:24:22.296416",
     "status": "completed"
    },
    "tags": []
   },
   "outputs": [
    {
     "data": {
      "text/plain": [
       "0.9466752708400553"
      ]
     },
     "execution_count": 99,
     "metadata": {},
     "output_type": "execute_result"
    }
   ],
   "source": [
    "accuracy_score(train_targets, train_preds)"
   ]
  },
  {
   "cell_type": "code",
   "execution_count": 100,
   "id": "d1760d93",
   "metadata": {
    "execution": {
     "iopub.execute_input": "2022-12-01T12:24:22.476991Z",
     "iopub.status.busy": "2022-12-01T12:24:22.476619Z",
     "iopub.status.idle": "2022-12-01T12:24:22.481237Z",
     "shell.execute_reply": "2022-12-01T12:24:22.480101Z"
    },
    "executionInfo": {
     "elapsed": 373,
     "status": "ok",
     "timestamp": 1667916643295,
     "user": {
      "displayName": "Aakash N S",
      "userId": "03254185060287524023"
     },
     "user_tz": -330
    },
    "id": "ipzg1inClCcJ",
    "papermill": {
     "duration": 0.052064,
     "end_time": "2022-12-01T12:24:22.484574",
     "exception": false,
     "start_time": "2022-12-01T12:24:22.432510",
     "status": "completed"
    },
    "tags": []
   },
   "outputs": [],
   "source": [
    "import numpy as np"
   ]
  },
  {
   "cell_type": "code",
   "execution_count": 101,
   "id": "fe47b8bd",
   "metadata": {
    "execution": {
     "iopub.execute_input": "2022-12-01T12:24:22.571167Z",
     "iopub.status.busy": "2022-12-01T12:24:22.570867Z",
     "iopub.status.idle": "2022-12-01T12:24:22.643158Z",
     "shell.execute_reply": "2022-12-01T12:24:22.642100Z"
    },
    "executionInfo": {
     "elapsed": 620,
     "status": "ok",
     "timestamp": 1667916647313,
     "user": {
      "displayName": "Aakash N S",
      "userId": "03254185060287524023"
     },
     "user_tz": -330
    },
    "id": "_P-IsOtTk5x_",
    "outputId": "3aed16ea-c1ab-4c6c-db22-cc083ebe1278",
    "papermill": {
     "duration": 0.118149,
     "end_time": "2022-12-01T12:24:22.645191",
     "exception": false,
     "start_time": "2022-12-01T12:24:22.527042",
     "status": "completed"
    },
    "tags": []
   },
   "outputs": [
    {
     "data": {
      "text/plain": [
       "0.9377152638400499"
      ]
     },
     "execution_count": 101,
     "metadata": {},
     "output_type": "execute_result"
    }
   ],
   "source": [
    "accuracy_score(train_targets, np.zeros(len(train_targets)))"
   ]
  },
  {
   "cell_type": "code",
   "execution_count": 102,
   "id": "ea87e899",
   "metadata": {
    "execution": {
     "iopub.execute_input": "2022-12-01T12:24:22.734920Z",
     "iopub.status.busy": "2022-12-01T12:24:22.734551Z",
     "iopub.status.idle": "2022-12-01T12:24:22.738629Z",
     "shell.execute_reply": "2022-12-01T12:24:22.737656Z"
    },
    "executionInfo": {
     "elapsed": 896,
     "status": "ok",
     "timestamp": 1667916682226,
     "user": {
      "displayName": "Aakash N S",
      "userId": "03254185060287524023"
     },
     "user_tz": -330
    },
    "id": "89TtZhqclKwb",
    "papermill": {
     "duration": 0.051999,
     "end_time": "2022-12-01T12:24:22.740217",
     "exception": false,
     "start_time": "2022-12-01T12:24:22.688218",
     "status": "completed"
    },
    "tags": []
   },
   "outputs": [],
   "source": [
    "from sklearn.metrics import f1_score"
   ]
  },
  {
   "cell_type": "code",
   "execution_count": 103,
   "id": "3434badd",
   "metadata": {
    "execution": {
     "iopub.execute_input": "2022-12-01T12:24:22.826265Z",
     "iopub.status.busy": "2022-12-01T12:24:22.825912Z",
     "iopub.status.idle": "2022-12-01T12:24:23.026457Z",
     "shell.execute_reply": "2022-12-01T12:24:23.025601Z"
    },
    "executionInfo": {
     "elapsed": 476,
     "status": "ok",
     "timestamp": 1667916695952,
     "user": {
      "displayName": "Aakash N S",
      "userId": "03254185060287524023"
     },
     "user_tz": -330
    },
    "id": "pim_sjENlKn0",
    "outputId": "a919cf7d-3c6b-42ce-c99e-e2da856291ab",
    "papermill": {
     "duration": 0.245872,
     "end_time": "2022-12-01T12:24:23.028223",
     "exception": false,
     "start_time": "2022-12-01T12:24:22.782351",
     "status": "completed"
    },
    "tags": []
   },
   "outputs": [
    {
     "data": {
      "text/plain": [
       "0.4115673353127188"
      ]
     },
     "execution_count": 103,
     "metadata": {},
     "output_type": "execute_result"
    }
   ],
   "source": [
    "f1_score(train_targets, train_preds)"
   ]
  },
  {
   "cell_type": "code",
   "execution_count": 104,
   "id": "3b81ba9c",
   "metadata": {
    "execution": {
     "iopub.execute_input": "2022-12-01T12:24:23.112131Z",
     "iopub.status.busy": "2022-12-01T12:24:23.111816Z",
     "iopub.status.idle": "2022-12-01T12:24:23.395942Z",
     "shell.execute_reply": "2022-12-01T12:24:23.394895Z"
    },
    "executionInfo": {
     "elapsed": 375,
     "status": "ok",
     "timestamp": 1667916720434,
     "user": {
      "displayName": "Aakash N S",
      "userId": "03254185060287524023"
     },
     "user_tz": -330
    },
    "id": "RembBU-Fksbk",
    "outputId": "9c815608-6f06-45d9-c352-d52ad659c965",
    "papermill": {
     "duration": 0.328476,
     "end_time": "2022-12-01T12:24:23.397967",
     "exception": false,
     "start_time": "2022-12-01T12:24:23.069491",
     "status": "completed"
    },
    "tags": []
   },
   "outputs": [
    {
     "data": {
      "text/plain": [
       "0.0"
      ]
     },
     "execution_count": 104,
     "metadata": {},
     "output_type": "execute_result"
    }
   ],
   "source": [
    "f1_score(train_targets, np.zeros(len(train_targets)))"
   ]
  },
  {
   "cell_type": "code",
   "execution_count": 105,
   "id": "d488cea7",
   "metadata": {
    "execution": {
     "iopub.execute_input": "2022-12-01T12:24:23.486468Z",
     "iopub.status.busy": "2022-12-01T12:24:23.485917Z",
     "iopub.status.idle": "2022-12-01T12:24:23.733306Z",
     "shell.execute_reply": "2022-12-01T12:24:23.732465Z"
    },
    "executionInfo": {
     "elapsed": 530,
     "status": "ok",
     "timestamp": 1667916804410,
     "user": {
      "displayName": "Aakash N S",
      "userId": "03254185060287524023"
     },
     "user_tz": -330
    },
    "id": "43hI8WB8ld0e",
    "outputId": "36a47c48-a715-47a9-9698-92c5eec0cd7f",
    "papermill": {
     "duration": 0.29522,
     "end_time": "2022-12-01T12:24:23.735620",
     "exception": false,
     "start_time": "2022-12-01T12:24:23.440400",
     "status": "completed"
    },
    "tags": []
   },
   "outputs": [
    {
     "data": {
      "text/plain": [
       "0.11143885339427008"
      ]
     },
     "execution_count": 105,
     "metadata": {},
     "output_type": "execute_result"
    }
   ],
   "source": [
    "random_preds = np.random.choice((0, 1), len(train_targets))\n",
    "f1_score(train_targets, random_preds)"
   ]
  },
  {
   "cell_type": "code",
   "execution_count": 106,
   "id": "1aed5bc4",
   "metadata": {
    "execution": {
     "iopub.execute_input": "2022-12-01T12:24:23.822117Z",
     "iopub.status.busy": "2022-12-01T12:24:23.821628Z",
     "iopub.status.idle": "2022-12-01T12:24:23.833659Z",
     "shell.execute_reply": "2022-12-01T12:24:23.832577Z"
    },
    "executionInfo": {
     "elapsed": 394,
     "status": "ok",
     "timestamp": 1667916889103,
     "user": {
      "displayName": "Aakash N S",
      "userId": "03254185060287524023"
     },
     "user_tz": -330
    },
    "id": "FM0X5ImAl7gB",
    "papermill": {
     "duration": 0.057658,
     "end_time": "2022-12-01T12:24:23.835890",
     "exception": false,
     "start_time": "2022-12-01T12:24:23.778232",
     "status": "completed"
    },
    "tags": []
   },
   "outputs": [],
   "source": [
    "val_preds = model.predict(val_inputs)"
   ]
  },
  {
   "cell_type": "code",
   "execution_count": 107,
   "id": "88126a47",
   "metadata": {
    "execution": {
     "iopub.execute_input": "2022-12-01T12:24:23.921630Z",
     "iopub.status.busy": "2022-12-01T12:24:23.921124Z",
     "iopub.status.idle": "2022-12-01T12:24:23.944239Z",
     "shell.execute_reply": "2022-12-01T12:24:23.942959Z"
    },
    "executionInfo": {
     "elapsed": 592,
     "status": "ok",
     "timestamp": 1667916920449,
     "user": {
      "displayName": "Aakash N S",
      "userId": "03254185060287524023"
     },
     "user_tz": -330
    },
    "id": "WiXz18lal7db",
    "outputId": "1199b1c7-51b2-4c95-d83e-d945e1541bf9",
    "papermill": {
     "duration": 0.067876,
     "end_time": "2022-12-01T12:24:23.946163",
     "exception": false,
     "start_time": "2022-12-01T12:24:23.878287",
     "status": "completed"
    },
    "tags": []
   },
   "outputs": [
    {
     "data": {
      "text/plain": [
       "0.947702743742934"
      ]
     },
     "execution_count": 107,
     "metadata": {},
     "output_type": "execute_result"
    }
   ],
   "source": [
    "accuracy_score(val_targets, val_preds)"
   ]
  },
  {
   "cell_type": "code",
   "execution_count": 108,
   "id": "1e28a80a",
   "metadata": {
    "execution": {
     "iopub.execute_input": "2022-12-01T12:24:24.034075Z",
     "iopub.status.busy": "2022-12-01T12:24:24.033756Z",
     "iopub.status.idle": "2022-12-01T12:24:24.118245Z",
     "shell.execute_reply": "2022-12-01T12:24:24.116847Z"
    },
    "executionInfo": {
     "elapsed": 902,
     "status": "ok",
     "timestamp": 1667916932147,
     "user": {
      "displayName": "Aakash N S",
      "userId": "03254185060287524023"
     },
     "user_tz": -330
    },
    "id": "Kj-oIhIHksY-",
    "outputId": "de4648a5-5f9c-48fb-f86e-aad601d0a956",
    "papermill": {
     "duration": 0.131653,
     "end_time": "2022-12-01T12:24:24.120443",
     "exception": false,
     "start_time": "2022-12-01T12:24:23.988790",
     "status": "completed"
    },
    "tags": []
   },
   "outputs": [
    {
     "data": {
      "text/plain": [
       "0.413038496791934"
      ]
     },
     "execution_count": 108,
     "metadata": {},
     "output_type": "execute_result"
    }
   ],
   "source": [
    "f1_score(val_targets, val_preds)"
   ]
  },
  {
   "cell_type": "code",
   "execution_count": 109,
   "id": "25d6156b",
   "metadata": {
    "execution": {
     "iopub.execute_input": "2022-12-01T12:24:24.206538Z",
     "iopub.status.busy": "2022-12-01T12:24:24.206166Z",
     "iopub.status.idle": "2022-12-01T12:24:24.213529Z",
     "shell.execute_reply": "2022-12-01T12:24:24.212398Z"
    },
    "executionInfo": {
     "elapsed": 653,
     "status": "ok",
     "timestamp": 1667917017459,
     "user": {
      "displayName": "Aakash N S",
      "userId": "03254185060287524023"
     },
     "user_tz": -330
    },
    "id": "qxCSeXZQmHpS",
    "outputId": "7cb895cb-7605-45d2-b650-b61b02cecffe",
    "papermill": {
     "duration": 0.053652,
     "end_time": "2022-12-01T12:24:24.216219",
     "exception": false,
     "start_time": "2022-12-01T12:24:24.162567",
     "status": "completed"
    },
    "tags": []
   },
   "outputs": [
    {
     "data": {
      "text/plain": [
       "array(['How did Quebec nationalists see their province as a nation in the 1960s?',\n",
       "       'Do you have an adopted dog, how would you encourage people to adopt and not shop?',\n",
       "       'Why does velocity affect time? Does velocity affect space geometry?',\n",
       "       'How did Otto von Guericke used the Magdeburg hemispheres?',\n",
       "       'Can I convert montra helicon D to a mountain bike by just changing the tyres?',\n",
       "       'Is Gaza slowly becoming Auschwitz, Dachau or Treblinka for Palestinians?',\n",
       "       'Why does Quora automatically ban conservative opinions when reported, but does not do the same for liberal views?',\n",
       "       'Is it crazy if I wash or wipe my groceries off? Germs are everywhere.',\n",
       "       'Is there such a thing as dressing moderately, and if so, how is that different than dressing modestly?',\n",
       "       'Is it just me or have you ever been in this phase wherein you became ignorant to the people you once loved, completely disregarding their feelings/lives so you get to have something go your way and feel temporarily at ease. How did things change?'],\n",
       "      dtype=object)"
      ]
     },
     "execution_count": 109,
     "metadata": {},
     "output_type": "execute_result"
    }
   ],
   "source": [
    "sincere_df.question_text.values[:10]"
   ]
  },
  {
   "cell_type": "code",
   "execution_count": 110,
   "id": "8324a68a",
   "metadata": {
    "execution": {
     "iopub.execute_input": "2022-12-01T12:24:24.303459Z",
     "iopub.status.busy": "2022-12-01T12:24:24.302654Z",
     "iopub.status.idle": "2022-12-01T12:24:24.308761Z",
     "shell.execute_reply": "2022-12-01T12:24:24.308055Z"
    },
    "executionInfo": {
     "elapsed": 1051,
     "status": "ok",
     "timestamp": 1667917031436,
     "user": {
      "displayName": "Aakash N S",
      "userId": "03254185060287524023"
     },
     "user_tz": -330
    },
    "id": "fwlbPtLDmgDf",
    "outputId": "a6360495-7f8f-489e-b955-56fbcffa88bd",
    "papermill": {
     "duration": 0.051456,
     "end_time": "2022-12-01T12:24:24.310544",
     "exception": false,
     "start_time": "2022-12-01T12:24:24.259088",
     "status": "completed"
    },
    "tags": []
   },
   "outputs": [
    {
     "data": {
      "text/plain": [
       "array([0, 0, 0, 0, 0, 0, 0, 0, 0, 0])"
      ]
     },
     "execution_count": 110,
     "metadata": {},
     "output_type": "execute_result"
    }
   ],
   "source": [
    "sincere_df.target.values[:10]"
   ]
  },
  {
   "cell_type": "code",
   "execution_count": 111,
   "id": "3ff22b4c",
   "metadata": {
    "execution": {
     "iopub.execute_input": "2022-12-01T12:24:24.397466Z",
     "iopub.status.busy": "2022-12-01T12:24:24.397123Z",
     "iopub.status.idle": "2022-12-01T12:24:24.407921Z",
     "shell.execute_reply": "2022-12-01T12:24:24.406980Z"
    },
    "executionInfo": {
     "elapsed": 375,
     "status": "ok",
     "timestamp": 1667917062825,
     "user": {
      "displayName": "Aakash N S",
      "userId": "03254185060287524023"
     },
     "user_tz": -330
    },
    "id": "qHE1gR0mmV0l",
    "outputId": "c1e5f7f9-e5a3-4ea7-ff65-caa1c9280ce0",
    "papermill": {
     "duration": 0.056899,
     "end_time": "2022-12-01T12:24:24.410054",
     "exception": false,
     "start_time": "2022-12-01T12:24:24.353155",
     "status": "completed"
    },
    "tags": []
   },
   "outputs": [
    {
     "data": {
      "text/plain": [
       "array([0, 0, 0, 0, 0, 0, 1, 0, 0, 0])"
      ]
     },
     "execution_count": 111,
     "metadata": {},
     "output_type": "execute_result"
    }
   ],
   "source": [
    "model.predict(vectorizer.transform(sincere_df.question_text.values[:10]))"
   ]
  },
  {
   "cell_type": "code",
   "execution_count": 112,
   "id": "bf6f736c",
   "metadata": {
    "execution": {
     "iopub.execute_input": "2022-12-01T12:24:24.498923Z",
     "iopub.status.busy": "2022-12-01T12:24:24.498603Z",
     "iopub.status.idle": "2022-12-01T12:24:24.504958Z",
     "shell.execute_reply": "2022-12-01T12:24:24.503815Z"
    },
    "executionInfo": {
     "elapsed": 411,
     "status": "ok",
     "timestamp": 1667917165691,
     "user": {
      "displayName": "Aakash N S",
      "userId": "03254185060287524023"
     },
     "user_tz": -330
    },
    "id": "k58qFC-kmVyR",
    "outputId": "d6b34cf6-182e-4375-d37e-01c3cfae8844",
    "papermill": {
     "duration": 0.0537,
     "end_time": "2022-12-01T12:24:24.507757",
     "exception": false,
     "start_time": "2022-12-01T12:24:24.454057",
     "status": "completed"
    },
    "tags": []
   },
   "outputs": [
    {
     "data": {
      "text/plain": [
       "array(['Has the United States become the largest dictatorship in the world?',\n",
       "       'Which babies are more sweeter to their parents? Dark skin babies or light skin babies?',\n",
       "       \"If blacks support school choice and mandatory sentencing for criminals why don't they vote Republican?\",\n",
       "       'I am gay boy and I love my cousin (boy). He is sexy, but I dont know what to do. He is hot, and I want to see his di**. What should I do?',\n",
       "       'Which races have the smallest penis?',\n",
       "       'Why do females find penises ugly?',\n",
       "       'How do I marry an American woman for a Green Card? How much do they charge?',\n",
       "       \"Why do Europeans say they're the superior race, when in fact it took them over 2,000 years until mid 19th century to surpass China's largest economy?\",\n",
       "       'Did Julius Caesar bring a tyrannosaurus rex on his campaigns to frighten the Celts into submission?',\n",
       "       \"In what manner has Republican backing of 'states rights' been hypocritical and what ways have they actually restricted the ability of states to make their own laws?\"],\n",
       "      dtype=object)"
      ]
     },
     "execution_count": 112,
     "metadata": {},
     "output_type": "execute_result"
    }
   ],
   "source": [
    "insincere_df.question_text.values[:10]"
   ]
  },
  {
   "cell_type": "code",
   "execution_count": 113,
   "id": "76f036a0",
   "metadata": {
    "execution": {
     "iopub.execute_input": "2022-12-01T12:24:24.593579Z",
     "iopub.status.busy": "2022-12-01T12:24:24.593210Z",
     "iopub.status.idle": "2022-12-01T12:24:24.600838Z",
     "shell.execute_reply": "2022-12-01T12:24:24.599816Z"
    },
    "executionInfo": {
     "elapsed": 389,
     "status": "ok",
     "timestamp": 1667917180899,
     "user": {
      "displayName": "Aakash N S",
      "userId": "03254185060287524023"
     },
     "user_tz": -330
    },
    "id": "lFwis7sOmVv7",
    "outputId": "f5b1eb04-8277-4b61-e0d8-6a08b7840770",
    "papermill": {
     "duration": 0.052728,
     "end_time": "2022-12-01T12:24:24.602696",
     "exception": false,
     "start_time": "2022-12-01T12:24:24.549968",
     "status": "completed"
    },
    "tags": []
   },
   "outputs": [
    {
     "data": {
      "text/plain": [
       "array([1, 1, 1, 1, 1, 1, 1, 1, 1, 1])"
      ]
     },
     "execution_count": 113,
     "metadata": {},
     "output_type": "execute_result"
    }
   ],
   "source": [
    "insincere_df.target.values[:10]"
   ]
  },
  {
   "cell_type": "code",
   "execution_count": 114,
   "id": "043cbe96",
   "metadata": {
    "execution": {
     "iopub.execute_input": "2022-12-01T12:24:24.691963Z",
     "iopub.status.busy": "2022-12-01T12:24:24.691612Z",
     "iopub.status.idle": "2022-12-01T12:24:24.704815Z",
     "shell.execute_reply": "2022-12-01T12:24:24.703508Z"
    },
    "executionInfo": {
     "elapsed": 572,
     "status": "ok",
     "timestamp": 1667917197399,
     "user": {
      "displayName": "Aakash N S",
      "userId": "03254185060287524023"
     },
     "user_tz": -330
    },
    "id": "2T_zvDYvmVt6",
    "outputId": "36b18600-75b3-4287-de0d-b963b97602f6",
    "papermill": {
     "duration": 0.060543,
     "end_time": "2022-12-01T12:24:24.706836",
     "exception": false,
     "start_time": "2022-12-01T12:24:24.646293",
     "status": "completed"
    },
    "tags": []
   },
   "outputs": [
    {
     "data": {
      "text/plain": [
       "array([0, 0, 1, 1, 0, 0, 0, 1, 0, 0])"
      ]
     },
     "execution_count": 114,
     "metadata": {},
     "output_type": "execute_result"
    }
   ],
   "source": [
    "model.predict(vectorizer.transform(insincere_df.question_text.values[:10]))"
   ]
  },
  {
   "cell_type": "markdown",
   "id": "5e56546b",
   "metadata": {
    "id": "TSFA3r48Q2ec",
    "papermill": {
     "duration": 0.041812,
     "end_time": "2022-12-01T12:24:24.791133",
     "exception": false,
     "start_time": "2022-12-01T12:24:24.749321",
     "status": "completed"
    },
    "tags": []
   },
   "source": [
    "## Make Predictions and Submit to Kaggle"
   ]
  },
  {
   "cell_type": "code",
   "execution_count": 115,
   "id": "7765d1b3",
   "metadata": {
    "execution": {
     "iopub.execute_input": "2022-12-01T12:24:24.878091Z",
     "iopub.status.busy": "2022-12-01T12:24:24.877723Z",
     "iopub.status.idle": "2022-12-01T12:24:24.887566Z",
     "shell.execute_reply": "2022-12-01T12:24:24.886938Z"
    },
    "executionInfo": {
     "elapsed": 1103,
     "status": "ok",
     "timestamp": 1667917318912,
     "user": {
      "displayName": "Aakash N S",
      "userId": "03254185060287524023"
     },
     "user_tz": -330
    },
    "id": "bIAZhmcWQDd4",
    "outputId": "e92eb5e4-41ad-4590-da74-d9b14dc9697a",
    "papermill": {
     "duration": 0.056008,
     "end_time": "2022-12-01T12:24:24.889324",
     "exception": false,
     "start_time": "2022-12-01T12:24:24.833316",
     "status": "completed"
    },
    "tags": []
   },
   "outputs": [
    {
     "data": {
      "text/html": [
       "<div>\n",
       "<style scoped>\n",
       "    .dataframe tbody tr th:only-of-type {\n",
       "        vertical-align: middle;\n",
       "    }\n",
       "\n",
       "    .dataframe tbody tr th {\n",
       "        vertical-align: top;\n",
       "    }\n",
       "\n",
       "    .dataframe thead th {\n",
       "        text-align: right;\n",
       "    }\n",
       "</style>\n",
       "<table border=\"1\" class=\"dataframe\">\n",
       "  <thead>\n",
       "    <tr style=\"text-align: right;\">\n",
       "      <th></th>\n",
       "      <th>qid</th>\n",
       "      <th>question_text</th>\n",
       "    </tr>\n",
       "  </thead>\n",
       "  <tbody>\n",
       "    <tr>\n",
       "      <th>0</th>\n",
       "      <td>0000163e3ea7c7a74cd7</td>\n",
       "      <td>Why do so many women become so rude and arroga...</td>\n",
       "    </tr>\n",
       "    <tr>\n",
       "      <th>1</th>\n",
       "      <td>00002bd4fb5d505b9161</td>\n",
       "      <td>When should I apply for RV college of engineer...</td>\n",
       "    </tr>\n",
       "    <tr>\n",
       "      <th>2</th>\n",
       "      <td>00007756b4a147d2b0b3</td>\n",
       "      <td>What is it really like to be a nurse practitio...</td>\n",
       "    </tr>\n",
       "    <tr>\n",
       "      <th>3</th>\n",
       "      <td>000086e4b7e1c7146103</td>\n",
       "      <td>Who are entrepreneurs?</td>\n",
       "    </tr>\n",
       "    <tr>\n",
       "      <th>4</th>\n",
       "      <td>0000c4c3fbe8785a3090</td>\n",
       "      <td>Is education really making good people nowadays?</td>\n",
       "    </tr>\n",
       "    <tr>\n",
       "      <th>...</th>\n",
       "      <td>...</td>\n",
       "      <td>...</td>\n",
       "    </tr>\n",
       "    <tr>\n",
       "      <th>375801</th>\n",
       "      <td>ffff7fa746bd6d6197a9</td>\n",
       "      <td>How many countries listed in gold import in in...</td>\n",
       "    </tr>\n",
       "    <tr>\n",
       "      <th>375802</th>\n",
       "      <td>ffffa1be31c43046ab6b</td>\n",
       "      <td>Is there an alternative to dresses on formal p...</td>\n",
       "    </tr>\n",
       "    <tr>\n",
       "      <th>375803</th>\n",
       "      <td>ffffae173b6ca6bfa563</td>\n",
       "      <td>Where I can find best friendship quotes in Tel...</td>\n",
       "    </tr>\n",
       "    <tr>\n",
       "      <th>375804</th>\n",
       "      <td>ffffb1f7f1a008620287</td>\n",
       "      <td>What are the causes of refraction of light?</td>\n",
       "    </tr>\n",
       "    <tr>\n",
       "      <th>375805</th>\n",
       "      <td>fffff85473f4699474b0</td>\n",
       "      <td>Climate change is a worrying topic. How much t...</td>\n",
       "    </tr>\n",
       "  </tbody>\n",
       "</table>\n",
       "<p>375806 rows × 2 columns</p>\n",
       "</div>"
      ],
      "text/plain": [
       "                         qid  \\\n",
       "0       0000163e3ea7c7a74cd7   \n",
       "1       00002bd4fb5d505b9161   \n",
       "2       00007756b4a147d2b0b3   \n",
       "3       000086e4b7e1c7146103   \n",
       "4       0000c4c3fbe8785a3090   \n",
       "...                      ...   \n",
       "375801  ffff7fa746bd6d6197a9   \n",
       "375802  ffffa1be31c43046ab6b   \n",
       "375803  ffffae173b6ca6bfa563   \n",
       "375804  ffffb1f7f1a008620287   \n",
       "375805  fffff85473f4699474b0   \n",
       "\n",
       "                                            question_text  \n",
       "0       Why do so many women become so rude and arroga...  \n",
       "1       When should I apply for RV college of engineer...  \n",
       "2       What is it really like to be a nurse practitio...  \n",
       "3                                  Who are entrepreneurs?  \n",
       "4        Is education really making good people nowadays?  \n",
       "...                                                   ...  \n",
       "375801  How many countries listed in gold import in in...  \n",
       "375802  Is there an alternative to dresses on formal p...  \n",
       "375803  Where I can find best friendship quotes in Tel...  \n",
       "375804        What are the causes of refraction of light?  \n",
       "375805  Climate change is a worrying topic. How much t...  \n",
       "\n",
       "[375806 rows x 2 columns]"
      ]
     },
     "execution_count": 115,
     "metadata": {},
     "output_type": "execute_result"
    }
   ],
   "source": [
    "test_df"
   ]
  },
  {
   "cell_type": "code",
   "execution_count": 116,
   "id": "3beb853f",
   "metadata": {
    "execution": {
     "iopub.execute_input": "2022-12-01T12:24:24.977999Z",
     "iopub.status.busy": "2022-12-01T12:24:24.977492Z",
     "iopub.status.idle": "2022-12-01T12:24:24.983144Z",
     "shell.execute_reply": "2022-12-01T12:24:24.982286Z"
    },
    "executionInfo": {
     "elapsed": 460,
     "status": "ok",
     "timestamp": 1667917332470,
     "user": {
      "displayName": "Aakash N S",
      "userId": "03254185060287524023"
     },
     "user_tz": -330
    },
    "id": "jzb8x69DnoHz",
    "outputId": "23a5695e-d7b4-49ae-c715-2360925ad007",
    "papermill": {
     "duration": 0.051978,
     "end_time": "2022-12-01T12:24:24.984855",
     "exception": false,
     "start_time": "2022-12-01T12:24:24.932877",
     "status": "completed"
    },
    "tags": []
   },
   "outputs": [
    {
     "data": {
      "text/plain": [
       "(375806, 1000)"
      ]
     },
     "execution_count": 116,
     "metadata": {},
     "output_type": "execute_result"
    }
   ],
   "source": [
    "test_inputs.shape"
   ]
  },
  {
   "cell_type": "code",
   "execution_count": 117,
   "id": "1cba2db6",
   "metadata": {
    "execution": {
     "iopub.execute_input": "2022-12-01T12:24:25.074501Z",
     "iopub.status.busy": "2022-12-01T12:24:25.074135Z",
     "iopub.status.idle": "2022-12-01T12:24:25.085921Z",
     "shell.execute_reply": "2022-12-01T12:24:25.084700Z"
    },
    "executionInfo": {
     "elapsed": 1112,
     "status": "ok",
     "timestamp": 1667917351071,
     "user": {
      "displayName": "Aakash N S",
      "userId": "03254185060287524023"
     },
     "user_tz": -330
    },
    "id": "oiY8Ai-anqRP",
    "papermill": {
     "duration": 0.058698,
     "end_time": "2022-12-01T12:24:25.088191",
     "exception": false,
     "start_time": "2022-12-01T12:24:25.029493",
     "status": "completed"
    },
    "tags": []
   },
   "outputs": [],
   "source": [
    "test_preds = model.predict(test_inputs)"
   ]
  },
  {
   "cell_type": "code",
   "execution_count": 118,
   "id": "b92f9276",
   "metadata": {
    "execution": {
     "iopub.execute_input": "2022-12-01T12:24:25.178357Z",
     "iopub.status.busy": "2022-12-01T12:24:25.177246Z",
     "iopub.status.idle": "2022-12-01T12:24:25.187710Z",
     "shell.execute_reply": "2022-12-01T12:24:25.186690Z"
    },
    "executionInfo": {
     "elapsed": 558,
     "status": "ok",
     "timestamp": 1667917386054,
     "user": {
      "displayName": "Aakash N S",
      "userId": "03254185060287524023"
     },
     "user_tz": -330
    },
    "id": "W8h1xhbZnwBt",
    "outputId": "6698c104-0bd3-4c8a-b12f-6e59feac67a3",
    "papermill": {
     "duration": 0.057523,
     "end_time": "2022-12-01T12:24:25.189404",
     "exception": false,
     "start_time": "2022-12-01T12:24:25.131881",
     "status": "completed"
    },
    "tags": []
   },
   "outputs": [
    {
     "data": {
      "text/html": [
       "<div>\n",
       "<style scoped>\n",
       "    .dataframe tbody tr th:only-of-type {\n",
       "        vertical-align: middle;\n",
       "    }\n",
       "\n",
       "    .dataframe tbody tr th {\n",
       "        vertical-align: top;\n",
       "    }\n",
       "\n",
       "    .dataframe thead th {\n",
       "        text-align: right;\n",
       "    }\n",
       "</style>\n",
       "<table border=\"1\" class=\"dataframe\">\n",
       "  <thead>\n",
       "    <tr style=\"text-align: right;\">\n",
       "      <th></th>\n",
       "      <th>qid</th>\n",
       "      <th>prediction</th>\n",
       "    </tr>\n",
       "  </thead>\n",
       "  <tbody>\n",
       "    <tr>\n",
       "      <th>0</th>\n",
       "      <td>0000163e3ea7c7a74cd7</td>\n",
       "      <td>0</td>\n",
       "    </tr>\n",
       "    <tr>\n",
       "      <th>1</th>\n",
       "      <td>00002bd4fb5d505b9161</td>\n",
       "      <td>0</td>\n",
       "    </tr>\n",
       "    <tr>\n",
       "      <th>2</th>\n",
       "      <td>00007756b4a147d2b0b3</td>\n",
       "      <td>0</td>\n",
       "    </tr>\n",
       "    <tr>\n",
       "      <th>3</th>\n",
       "      <td>000086e4b7e1c7146103</td>\n",
       "      <td>0</td>\n",
       "    </tr>\n",
       "    <tr>\n",
       "      <th>4</th>\n",
       "      <td>0000c4c3fbe8785a3090</td>\n",
       "      <td>0</td>\n",
       "    </tr>\n",
       "    <tr>\n",
       "      <th>5</th>\n",
       "      <td>000101884c19f3515c1a</td>\n",
       "      <td>0</td>\n",
       "    </tr>\n",
       "    <tr>\n",
       "      <th>6</th>\n",
       "      <td>00010f62537781f44a47</td>\n",
       "      <td>0</td>\n",
       "    </tr>\n",
       "    <tr>\n",
       "      <th>7</th>\n",
       "      <td>00012afbd27452239059</td>\n",
       "      <td>0</td>\n",
       "    </tr>\n",
       "    <tr>\n",
       "      <th>8</th>\n",
       "      <td>00014894849d00ba98a9</td>\n",
       "      <td>0</td>\n",
       "    </tr>\n",
       "    <tr>\n",
       "      <th>9</th>\n",
       "      <td>000156468431f09b3cae</td>\n",
       "      <td>0</td>\n",
       "    </tr>\n",
       "  </tbody>\n",
       "</table>\n",
       "</div>"
      ],
      "text/plain": [
       "                    qid  prediction\n",
       "0  0000163e3ea7c7a74cd7           0\n",
       "1  00002bd4fb5d505b9161           0\n",
       "2  00007756b4a147d2b0b3           0\n",
       "3  000086e4b7e1c7146103           0\n",
       "4  0000c4c3fbe8785a3090           0\n",
       "5  000101884c19f3515c1a           0\n",
       "6  00010f62537781f44a47           0\n",
       "7  00012afbd27452239059           0\n",
       "8  00014894849d00ba98a9           0\n",
       "9  000156468431f09b3cae           0"
      ]
     },
     "execution_count": 118,
     "metadata": {},
     "output_type": "execute_result"
    }
   ],
   "source": [
    "sub_df.head(10)"
   ]
  },
  {
   "cell_type": "code",
   "execution_count": 119,
   "id": "bece3f93",
   "metadata": {
    "execution": {
     "iopub.execute_input": "2022-12-01T12:24:25.279509Z",
     "iopub.status.busy": "2022-12-01T12:24:25.279086Z",
     "iopub.status.idle": "2022-12-01T12:24:25.284111Z",
     "shell.execute_reply": "2022-12-01T12:24:25.283282Z"
    },
    "executionInfo": {
     "elapsed": 4,
     "status": "ok",
     "timestamp": 1667917429135,
     "user": {
      "displayName": "Aakash N S",
      "userId": "03254185060287524023"
     },
     "user_tz": -330
    },
    "id": "t6xxbg4yn9pT",
    "papermill": {
     "duration": 0.052365,
     "end_time": "2022-12-01T12:24:25.285781",
     "exception": false,
     "start_time": "2022-12-01T12:24:25.233416",
     "status": "completed"
    },
    "tags": []
   },
   "outputs": [],
   "source": [
    "sub_df.prediction = test_preds"
   ]
  },
  {
   "cell_type": "code",
   "execution_count": 120,
   "id": "ff5dbbb5",
   "metadata": {
    "execution": {
     "iopub.execute_input": "2022-12-01T12:24:25.375152Z",
     "iopub.status.busy": "2022-12-01T12:24:25.374815Z",
     "iopub.status.idle": "2022-12-01T12:24:25.384775Z",
     "shell.execute_reply": "2022-12-01T12:24:25.383669Z"
    },
    "executionInfo": {
     "elapsed": 2,
     "status": "ok",
     "timestamp": 1667917437994,
     "user": {
      "displayName": "Aakash N S",
      "userId": "03254185060287524023"
     },
     "user_tz": -330
    },
    "id": "P1vWhwOIn4id",
    "outputId": "4822357f-2f37-4a73-c939-ca1d3f981454",
    "papermill": {
     "duration": 0.057336,
     "end_time": "2022-12-01T12:24:25.386719",
     "exception": false,
     "start_time": "2022-12-01T12:24:25.329383",
     "status": "completed"
    },
    "tags": []
   },
   "outputs": [
    {
     "data": {
      "text/plain": [
       "0    365204\n",
       "1     10602\n",
       "Name: prediction, dtype: int64"
      ]
     },
     "execution_count": 120,
     "metadata": {},
     "output_type": "execute_result"
    }
   ],
   "source": [
    "sub_df.prediction.value_counts()"
   ]
  },
  {
   "cell_type": "code",
   "execution_count": 121,
   "id": "89bd5c84",
   "metadata": {
    "execution": {
     "iopub.execute_input": "2022-12-01T12:24:25.527914Z",
     "iopub.status.busy": "2022-12-01T12:24:25.527600Z",
     "iopub.status.idle": "2022-12-01T12:24:25.536037Z",
     "shell.execute_reply": "2022-12-01T12:24:25.535380Z"
    },
    "executionInfo": {
     "elapsed": 371,
     "status": "ok",
     "timestamp": 1667917442478,
     "user": {
      "displayName": "Aakash N S",
      "userId": "03254185060287524023"
     },
     "user_tz": -330
    },
    "id": "ZSHxruEXoFWj",
    "outputId": "231bcd4a-0219-46cc-935a-a83b4e501672",
    "papermill": {
     "duration": 0.056039,
     "end_time": "2022-12-01T12:24:25.538350",
     "exception": false,
     "start_time": "2022-12-01T12:24:25.482311",
     "status": "completed"
    },
    "tags": []
   },
   "outputs": [
    {
     "data": {
      "text/html": [
       "<div>\n",
       "<style scoped>\n",
       "    .dataframe tbody tr th:only-of-type {\n",
       "        vertical-align: middle;\n",
       "    }\n",
       "\n",
       "    .dataframe tbody tr th {\n",
       "        vertical-align: top;\n",
       "    }\n",
       "\n",
       "    .dataframe thead th {\n",
       "        text-align: right;\n",
       "    }\n",
       "</style>\n",
       "<table border=\"1\" class=\"dataframe\">\n",
       "  <thead>\n",
       "    <tr style=\"text-align: right;\">\n",
       "      <th></th>\n",
       "      <th>qid</th>\n",
       "      <th>prediction</th>\n",
       "    </tr>\n",
       "  </thead>\n",
       "  <tbody>\n",
       "    <tr>\n",
       "      <th>0</th>\n",
       "      <td>0000163e3ea7c7a74cd7</td>\n",
       "      <td>0</td>\n",
       "    </tr>\n",
       "    <tr>\n",
       "      <th>1</th>\n",
       "      <td>00002bd4fb5d505b9161</td>\n",
       "      <td>0</td>\n",
       "    </tr>\n",
       "    <tr>\n",
       "      <th>2</th>\n",
       "      <td>00007756b4a147d2b0b3</td>\n",
       "      <td>0</td>\n",
       "    </tr>\n",
       "    <tr>\n",
       "      <th>3</th>\n",
       "      <td>000086e4b7e1c7146103</td>\n",
       "      <td>0</td>\n",
       "    </tr>\n",
       "    <tr>\n",
       "      <th>4</th>\n",
       "      <td>0000c4c3fbe8785a3090</td>\n",
       "      <td>0</td>\n",
       "    </tr>\n",
       "    <tr>\n",
       "      <th>5</th>\n",
       "      <td>000101884c19f3515c1a</td>\n",
       "      <td>0</td>\n",
       "    </tr>\n",
       "    <tr>\n",
       "      <th>6</th>\n",
       "      <td>00010f62537781f44a47</td>\n",
       "      <td>0</td>\n",
       "    </tr>\n",
       "    <tr>\n",
       "      <th>7</th>\n",
       "      <td>00012afbd27452239059</td>\n",
       "      <td>0</td>\n",
       "    </tr>\n",
       "    <tr>\n",
       "      <th>8</th>\n",
       "      <td>00014894849d00ba98a9</td>\n",
       "      <td>0</td>\n",
       "    </tr>\n",
       "    <tr>\n",
       "      <th>9</th>\n",
       "      <td>000156468431f09b3cae</td>\n",
       "      <td>0</td>\n",
       "    </tr>\n",
       "  </tbody>\n",
       "</table>\n",
       "</div>"
      ],
      "text/plain": [
       "                    qid  prediction\n",
       "0  0000163e3ea7c7a74cd7           0\n",
       "1  00002bd4fb5d505b9161           0\n",
       "2  00007756b4a147d2b0b3           0\n",
       "3  000086e4b7e1c7146103           0\n",
       "4  0000c4c3fbe8785a3090           0\n",
       "5  000101884c19f3515c1a           0\n",
       "6  00010f62537781f44a47           0\n",
       "7  00012afbd27452239059           0\n",
       "8  00014894849d00ba98a9           0\n",
       "9  000156468431f09b3cae           0"
      ]
     },
     "execution_count": 121,
     "metadata": {},
     "output_type": "execute_result"
    }
   ],
   "source": [
    "sub_df.head(10)"
   ]
  },
  {
   "cell_type": "code",
   "execution_count": 122,
   "id": "9116fb86",
   "metadata": {
    "execution": {
     "iopub.execute_input": "2022-12-01T12:24:25.629417Z",
     "iopub.status.busy": "2022-12-01T12:24:25.629045Z",
     "iopub.status.idle": "2022-12-01T12:24:25.999293Z",
     "shell.execute_reply": "2022-12-01T12:24:25.997860Z"
    },
    "executionInfo": {
     "elapsed": 771,
     "status": "ok",
     "timestamp": 1667917485705,
     "user": {
      "displayName": "Aakash N S",
      "userId": "03254185060287524023"
     },
     "user_tz": -330
    },
    "id": "r_7JT4-JoGkL",
    "papermill": {
     "duration": 0.418403,
     "end_time": "2022-12-01T12:24:26.001728",
     "exception": false,
     "start_time": "2022-12-01T12:24:25.583325",
     "status": "completed"
    },
    "tags": []
   },
   "outputs": [],
   "source": [
    "sub_df.to_csv('submission.csv', index=None)"
   ]
  },
  {
   "cell_type": "code",
   "execution_count": 123,
   "id": "16f2390f",
   "metadata": {
    "execution": {
     "iopub.execute_input": "2022-12-01T12:24:26.093566Z",
     "iopub.status.busy": "2022-12-01T12:24:26.093168Z",
     "iopub.status.idle": "2022-12-01T12:24:26.400150Z",
     "shell.execute_reply": "2022-12-01T12:24:26.398274Z"
    },
    "executionInfo": {
     "elapsed": 1077,
     "status": "ok",
     "timestamp": 1667917506958,
     "user": {
      "displayName": "Aakash N S",
      "userId": "03254185060287524023"
     },
     "user_tz": -330
    },
    "id": "496wLhWjoRA3",
    "outputId": "24c74944-ee72-4168-8342-0c52decb77c4",
    "papermill": {
     "duration": 0.355794,
     "end_time": "2022-12-01T12:24:26.402752",
     "exception": false,
     "start_time": "2022-12-01T12:24:26.046958",
     "status": "completed"
    },
    "tags": []
   },
   "outputs": [
    {
     "name": "stdout",
     "output_type": "stream",
     "text": [
      "qid,prediction\r\n",
      "0000163e3ea7c7a74cd7,0\r\n",
      "00002bd4fb5d505b9161,0\r\n",
      "00007756b4a147d2b0b3,0\r\n",
      "000086e4b7e1c7146103,0\r\n",
      "0000c4c3fbe8785a3090,0\r\n",
      "000101884c19f3515c1a,0\r\n",
      "00010f62537781f44a47,0\r\n",
      "00012afbd27452239059,0\r\n",
      "00014894849d00ba98a9,0\r\n"
     ]
    }
   ],
   "source": [
    "!head submission.csv"
   ]
  },
  {
   "cell_type": "code",
   "execution_count": null,
   "id": "6c635007",
   "metadata": {
    "id": "o84S545HoWE4",
    "papermill": {
     "duration": 0.043097,
     "end_time": "2022-12-01T12:24:26.489498",
     "exception": false,
     "start_time": "2022-12-01T12:24:26.446401",
     "status": "completed"
    },
    "tags": []
   },
   "outputs": [],
   "source": []
  }
 ],
 "metadata": {
  "kernelspec": {
   "display_name": "Python 3",
   "language": "python",
   "name": "python3"
  },
  "language_info": {
   "codemirror_mode": {
    "name": "ipython",
    "version": 3
   },
   "file_extension": ".py",
   "mimetype": "text/x-python",
   "name": "python",
   "nbconvert_exporter": "python",
   "pygments_lexer": "ipython3",
   "version": "3.7.12"
  },
  "papermill": {
   "default_parameters": {},
   "duration": 1354.876806,
   "end_time": "2022-12-01T12:24:27.558624",
   "environment_variables": {},
   "exception": null,
   "input_path": "__notebook__.ipynb",
   "output_path": "__notebook__.ipynb",
   "parameters": {},
   "start_time": "2022-12-01T12:01:52.681818",
   "version": "2.3.4"
  }
 },
 "nbformat": 4,
 "nbformat_minor": 5
}
